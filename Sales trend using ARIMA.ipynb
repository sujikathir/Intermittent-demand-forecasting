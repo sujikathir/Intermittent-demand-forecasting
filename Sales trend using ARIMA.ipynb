{
  "nbformat": 4,
  "nbformat_minor": 0,
  "metadata": {
    "kernelspec": {
      "display_name": "Python 3",
      "language": "python",
      "name": "python3"
    },
    "language_info": {
      "codemirror_mode": {
        "name": "ipython",
        "version": 3
      },
      "file_extension": ".py",
      "mimetype": "text/x-python",
      "name": "python",
      "nbconvert_exporter": "python",
      "pygments_lexer": "ipython3",
      "version": "3.8.5"
    },
    "colab": {
      "name": "Item Sales Trend Forecasting Using FBProphet.ipynb",
      "provenance": [],
      "collapsed_sections": [],
      "toc_visible": true,
      "include_colab_link": true
    }
  },
  "cells": [
    {
      "cell_type": "markdown",
      "metadata": {
        "id": "view-in-github",
        "colab_type": "text"
      },
      "source": [
        "<a href=\"https://colab.research.google.com/github/sujikathir/Sales-Forecasting/blob/main/Sales%20trend%20using%20ARIMA.ipynb\" target=\"_parent\"><img src=\"https://colab.research.google.com/assets/colab-badge.svg\" alt=\"Open In Colab\"/></a>"
      ]
    },
    {
      "cell_type": "code",
      "metadata": {
        "id": "Ns0-BVhnsvQw"
      },
      "source": [
        "#1.Load the necessary libraries\n",
        "import numpy as np\n",
        "import pandas as pd\n",
        "import matplotlib.pyplot as plt\n",
        "import fbprophet\n",
        "%matplotlib inline\n",
        "import datetime\n",
        "import plotly"
      ],
      "execution_count": 133,
      "outputs": []
    },
    {
      "cell_type": "code",
      "metadata": {
        "colab": {
          "base_uri": "https://localhost:8080/",
          "height": 0
        },
        "id": "prHcWhxWs0kO",
        "outputId": "f0688ebd-eb5a-4c81-8969-92ab664cbb1a"
      },
      "source": [
        "from google.colab import drive\n",
        "drive.mount('/content/drive')"
      ],
      "execution_count": 134,
      "outputs": [
        {
          "output_type": "stream",
          "text": [
            "Drive already mounted at /content/drive; to attempt to forcibly remount, call drive.mount(\"/content/drive\", force_remount=True).\n"
          ],
          "name": "stdout"
        }
      ]
    },
    {
      "cell_type": "code",
      "metadata": {
        "id": "RdL1VOxzsvQy"
      },
      "source": [
        "# 2.Load the data\n",
        "data=pd.read_csv('/content/drive/MyDrive/Sales Dataset 2020.csv')"
      ],
      "execution_count": 135,
      "outputs": []
    },
    {
      "cell_type": "code",
      "metadata": {
        "scrolled": true,
        "colab": {
          "base_uri": "https://localhost:8080/",
          "height": 262
        },
        "id": "CiwnhDVFsvQz",
        "outputId": "d4236e42-62c0-4d3d-b319-d7f6497e9c6e"
      },
      "source": [
        "# 3.Convert the column name (ID) into index\n",
        "df=data.set_index('ID',drop= True)\n",
        "df.head()"
      ],
      "execution_count": 136,
      "outputs": [
        {
          "output_type": "execute_result",
          "data": {
            "text/html": [
              "<div>\n",
              "<style scoped>\n",
              "    .dataframe tbody tr th:only-of-type {\n",
              "        vertical-align: middle;\n",
              "    }\n",
              "\n",
              "    .dataframe tbody tr th {\n",
              "        vertical-align: top;\n",
              "    }\n",
              "\n",
              "    .dataframe thead th {\n",
              "        text-align: right;\n",
              "    }\n",
              "</style>\n",
              "<table border=\"1\" class=\"dataframe\">\n",
              "  <thead>\n",
              "    <tr style=\"text-align: right;\">\n",
              "      <th></th>\n",
              "      <th>Item No.</th>\n",
              "      <th>May-17</th>\n",
              "      <th>Jun-17</th>\n",
              "      <th>Jul-17</th>\n",
              "      <th>Aug-17</th>\n",
              "      <th>Sep-17</th>\n",
              "      <th>Oct-17</th>\n",
              "      <th>Nov-17</th>\n",
              "      <th>Dec-17</th>\n",
              "      <th>Jan-18</th>\n",
              "      <th>Feb-18</th>\n",
              "      <th>Mar-18</th>\n",
              "      <th>Apr-18</th>\n",
              "      <th>May-18</th>\n",
              "      <th>Jun-18</th>\n",
              "      <th>Jul-18</th>\n",
              "      <th>Aug-18</th>\n",
              "      <th>Sep-18</th>\n",
              "      <th>Oct-18</th>\n",
              "      <th>Nov-18</th>\n",
              "      <th>Dec-18</th>\n",
              "      <th>Jan-19</th>\n",
              "      <th>Feb-19</th>\n",
              "      <th>Mar-19</th>\n",
              "      <th>Apr-19</th>\n",
              "      <th>May-19</th>\n",
              "      <th>Jun-19</th>\n",
              "      <th>Jul-19</th>\n",
              "      <th>Aug-19</th>\n",
              "      <th>Sep-19</th>\n",
              "      <th>Oct-19</th>\n",
              "      <th>Nov-19</th>\n",
              "      <th>Dec-19</th>\n",
              "      <th>Jan-20</th>\n",
              "      <th>Feb-20</th>\n",
              "      <th>Mar-20</th>\n",
              "      <th>Apr-20</th>\n",
              "      <th>May-20</th>\n",
              "      <th>Q2-2017</th>\n",
              "      <th>Q3-2017</th>\n",
              "      <th>Q4-2017</th>\n",
              "      <th>Q1-2018</th>\n",
              "      <th>Q2-2018</th>\n",
              "      <th>Q3-2018</th>\n",
              "      <th>Q4-2018</th>\n",
              "      <th>Q1-2019</th>\n",
              "      <th>Q2-2019</th>\n",
              "      <th>Q3-2019</th>\n",
              "      <th>Q4-2019</th>\n",
              "      <th>Q1-2020</th>\n",
              "      <th>Q2-2020</th>\n",
              "      <th>Year-2017</th>\n",
              "      <th>Year-2018</th>\n",
              "      <th>Year-2019</th>\n",
              "      <th>Year-2020</th>\n",
              "      <th>Total Sales</th>\n",
              "      <th>Category</th>\n",
              "    </tr>\n",
              "    <tr>\n",
              "      <th>ID</th>\n",
              "      <th></th>\n",
              "      <th></th>\n",
              "      <th></th>\n",
              "      <th></th>\n",
              "      <th></th>\n",
              "      <th></th>\n",
              "      <th></th>\n",
              "      <th></th>\n",
              "      <th></th>\n",
              "      <th></th>\n",
              "      <th></th>\n",
              "      <th></th>\n",
              "      <th></th>\n",
              "      <th></th>\n",
              "      <th></th>\n",
              "      <th></th>\n",
              "      <th></th>\n",
              "      <th></th>\n",
              "      <th></th>\n",
              "      <th></th>\n",
              "      <th></th>\n",
              "      <th></th>\n",
              "      <th></th>\n",
              "      <th></th>\n",
              "      <th></th>\n",
              "      <th></th>\n",
              "      <th></th>\n",
              "      <th></th>\n",
              "      <th></th>\n",
              "      <th></th>\n",
              "      <th></th>\n",
              "      <th></th>\n",
              "      <th></th>\n",
              "      <th></th>\n",
              "      <th></th>\n",
              "      <th></th>\n",
              "      <th></th>\n",
              "      <th></th>\n",
              "      <th></th>\n",
              "      <th></th>\n",
              "      <th></th>\n",
              "      <th></th>\n",
              "      <th></th>\n",
              "      <th></th>\n",
              "      <th></th>\n",
              "      <th></th>\n",
              "      <th></th>\n",
              "      <th></th>\n",
              "      <th></th>\n",
              "      <th></th>\n",
              "      <th></th>\n",
              "      <th></th>\n",
              "      <th></th>\n",
              "      <th></th>\n",
              "      <th></th>\n",
              "      <th></th>\n",
              "      <th></th>\n",
              "    </tr>\n",
              "  </thead>\n",
              "  <tbody>\n",
              "    <tr>\n",
              "      <th>2613</th>\n",
              "      <td>10697</td>\n",
              "      <td>1081.0</td>\n",
              "      <td>150</td>\n",
              "      <td>4013</td>\n",
              "      <td>2251</td>\n",
              "      <td>4059</td>\n",
              "      <td>6176</td>\n",
              "      <td>2744.0</td>\n",
              "      <td>2667</td>\n",
              "      <td>2668</td>\n",
              "      <td>2331</td>\n",
              "      <td>3695.0</td>\n",
              "      <td>3999</td>\n",
              "      <td>3539.0</td>\n",
              "      <td>2457.0</td>\n",
              "      <td>5605.0</td>\n",
              "      <td>1226.0</td>\n",
              "      <td>2712.0</td>\n",
              "      <td>3434.0</td>\n",
              "      <td>767.0</td>\n",
              "      <td>402.0</td>\n",
              "      <td>727.0</td>\n",
              "      <td>3574.0</td>\n",
              "      <td>200.0</td>\n",
              "      <td>102.0</td>\n",
              "      <td>204.0</td>\n",
              "      <td>2205.0</td>\n",
              "      <td>2711</td>\n",
              "      <td>1942</td>\n",
              "      <td>708.0</td>\n",
              "      <td>1224.0</td>\n",
              "      <td>2101.0</td>\n",
              "      <td>1735.0</td>\n",
              "      <td>1500.0</td>\n",
              "      <td>380.0</td>\n",
              "      <td>767.0</td>\n",
              "      <td>2000.0</td>\n",
              "      <td>826</td>\n",
              "      <td>1231.0</td>\n",
              "      <td>10323</td>\n",
              "      <td>11587.0</td>\n",
              "      <td>8694.0</td>\n",
              "      <td>9995.0</td>\n",
              "      <td>9543.0</td>\n",
              "      <td>4603.0</td>\n",
              "      <td>4501.0</td>\n",
              "      <td>2511.0</td>\n",
              "      <td>5361.0</td>\n",
              "      <td>5060.0</td>\n",
              "      <td>2647.0</td>\n",
              "      <td>2826.0</td>\n",
              "      <td>23141.0</td>\n",
              "      <td>32835.0</td>\n",
              "      <td>17433.0</td>\n",
              "      <td>5473.0</td>\n",
              "      <td>78882.0</td>\n",
              "      <td>1</td>\n",
              "    </tr>\n",
              "    <tr>\n",
              "      <th>4264</th>\n",
              "      <td>14300</td>\n",
              "      <td>67.0</td>\n",
              "      <td>11</td>\n",
              "      <td>42</td>\n",
              "      <td>31</td>\n",
              "      <td>90</td>\n",
              "      <td>107</td>\n",
              "      <td>23.0</td>\n",
              "      <td>80</td>\n",
              "      <td>29</td>\n",
              "      <td>56</td>\n",
              "      <td>82.0</td>\n",
              "      <td>31</td>\n",
              "      <td>114.0</td>\n",
              "      <td>32.0</td>\n",
              "      <td>100.0</td>\n",
              "      <td>76.0</td>\n",
              "      <td>50.0</td>\n",
              "      <td>35.0</td>\n",
              "      <td>102.0</td>\n",
              "      <td>20.0</td>\n",
              "      <td>4.0</td>\n",
              "      <td>10.0</td>\n",
              "      <td>60.0</td>\n",
              "      <td>3.0</td>\n",
              "      <td>30.0</td>\n",
              "      <td>77.0</td>\n",
              "      <td>83</td>\n",
              "      <td>15</td>\n",
              "      <td>40.0</td>\n",
              "      <td>110.0</td>\n",
              "      <td>35.0</td>\n",
              "      <td>60.0</td>\n",
              "      <td>42.0</td>\n",
              "      <td>11.0</td>\n",
              "      <td>63.0</td>\n",
              "      <td>120.0</td>\n",
              "      <td>21</td>\n",
              "      <td>78.0</td>\n",
              "      <td>163</td>\n",
              "      <td>210.0</td>\n",
              "      <td>167.0</td>\n",
              "      <td>177.0</td>\n",
              "      <td>226.0</td>\n",
              "      <td>157.0</td>\n",
              "      <td>74.0</td>\n",
              "      <td>110.0</td>\n",
              "      <td>138.0</td>\n",
              "      <td>205.0</td>\n",
              "      <td>116.0</td>\n",
              "      <td>141.0</td>\n",
              "      <td>451.0</td>\n",
              "      <td>727.0</td>\n",
              "      <td>527.0</td>\n",
              "      <td>257.0</td>\n",
              "      <td>1962.0</td>\n",
              "      <td>0</td>\n",
              "    </tr>\n",
              "    <tr>\n",
              "      <th>2747</th>\n",
              "      <td>10922</td>\n",
              "      <td>2.0</td>\n",
              "      <td>0</td>\n",
              "      <td>1</td>\n",
              "      <td>8</td>\n",
              "      <td>19</td>\n",
              "      <td>20</td>\n",
              "      <td>34.0</td>\n",
              "      <td>36</td>\n",
              "      <td>24</td>\n",
              "      <td>43</td>\n",
              "      <td>26.0</td>\n",
              "      <td>31</td>\n",
              "      <td>38.0</td>\n",
              "      <td>37.0</td>\n",
              "      <td>34.0</td>\n",
              "      <td>29.0</td>\n",
              "      <td>30.0</td>\n",
              "      <td>28.0</td>\n",
              "      <td>37.0</td>\n",
              "      <td>17.0</td>\n",
              "      <td>34.0</td>\n",
              "      <td>20.0</td>\n",
              "      <td>24.0</td>\n",
              "      <td>8.0</td>\n",
              "      <td>13.0</td>\n",
              "      <td>15.0</td>\n",
              "      <td>12</td>\n",
              "      <td>12</td>\n",
              "      <td>21.0</td>\n",
              "      <td>12.0</td>\n",
              "      <td>13.0</td>\n",
              "      <td>16.0</td>\n",
              "      <td>11.0</td>\n",
              "      <td>7.0</td>\n",
              "      <td>6.0</td>\n",
              "      <td>7.0</td>\n",
              "      <td>2</td>\n",
              "      <td>2.0</td>\n",
              "      <td>28</td>\n",
              "      <td>90.0</td>\n",
              "      <td>93.0</td>\n",
              "      <td>106.0</td>\n",
              "      <td>93.0</td>\n",
              "      <td>82.0</td>\n",
              "      <td>78.0</td>\n",
              "      <td>36.0</td>\n",
              "      <td>45.0</td>\n",
              "      <td>41.0</td>\n",
              "      <td>24.0</td>\n",
              "      <td>9.0</td>\n",
              "      <td>120.0</td>\n",
              "      <td>374.0</td>\n",
              "      <td>200.0</td>\n",
              "      <td>33.0</td>\n",
              "      <td>727.0</td>\n",
              "      <td>0</td>\n",
              "    </tr>\n",
              "    <tr>\n",
              "      <th>2746</th>\n",
              "      <td>10921</td>\n",
              "      <td>2.0</td>\n",
              "      <td>2</td>\n",
              "      <td>3</td>\n",
              "      <td>2</td>\n",
              "      <td>5</td>\n",
              "      <td>2</td>\n",
              "      <td>6.0</td>\n",
              "      <td>3</td>\n",
              "      <td>6</td>\n",
              "      <td>5</td>\n",
              "      <td>5.0</td>\n",
              "      <td>10</td>\n",
              "      <td>2.0</td>\n",
              "      <td>4.0</td>\n",
              "      <td>8.0</td>\n",
              "      <td>6.0</td>\n",
              "      <td>5.0</td>\n",
              "      <td>3.0</td>\n",
              "      <td>10.0</td>\n",
              "      <td>6.0</td>\n",
              "      <td>6.0</td>\n",
              "      <td>5.0</td>\n",
              "      <td>2.0</td>\n",
              "      <td>1.0</td>\n",
              "      <td>4.0</td>\n",
              "      <td>7.0</td>\n",
              "      <td>7</td>\n",
              "      <td>1</td>\n",
              "      <td>3.0</td>\n",
              "      <td>5.0</td>\n",
              "      <td>6.0</td>\n",
              "      <td>0.0</td>\n",
              "      <td>2.0</td>\n",
              "      <td>3.0</td>\n",
              "      <td>0.0</td>\n",
              "      <td>2.0</td>\n",
              "      <td>1</td>\n",
              "      <td>4.0</td>\n",
              "      <td>10</td>\n",
              "      <td>11.0</td>\n",
              "      <td>16.0</td>\n",
              "      <td>16.0</td>\n",
              "      <td>19.0</td>\n",
              "      <td>19.0</td>\n",
              "      <td>13.0</td>\n",
              "      <td>12.0</td>\n",
              "      <td>11.0</td>\n",
              "      <td>11.0</td>\n",
              "      <td>5.0</td>\n",
              "      <td>3.0</td>\n",
              "      <td>25.0</td>\n",
              "      <td>70.0</td>\n",
              "      <td>47.0</td>\n",
              "      <td>8.0</td>\n",
              "      <td>150.0</td>\n",
              "      <td>0</td>\n",
              "    </tr>\n",
              "    <tr>\n",
              "      <th>3439</th>\n",
              "      <td>12497</td>\n",
              "      <td>1.0</td>\n",
              "      <td>6</td>\n",
              "      <td>102</td>\n",
              "      <td>0</td>\n",
              "      <td>0</td>\n",
              "      <td>0</td>\n",
              "      <td>-2.0</td>\n",
              "      <td>337</td>\n",
              "      <td>16</td>\n",
              "      <td>112</td>\n",
              "      <td>8.0</td>\n",
              "      <td>9</td>\n",
              "      <td>49.0</td>\n",
              "      <td>33.0</td>\n",
              "      <td>0.0</td>\n",
              "      <td>73.0</td>\n",
              "      <td>5.0</td>\n",
              "      <td>16.0</td>\n",
              "      <td>8.0</td>\n",
              "      <td>10.0</td>\n",
              "      <td>23.0</td>\n",
              "      <td>13.0</td>\n",
              "      <td>53.0</td>\n",
              "      <td>25.0</td>\n",
              "      <td>22.0</td>\n",
              "      <td>92.0</td>\n",
              "      <td>970</td>\n",
              "      <td>23</td>\n",
              "      <td>65.0</td>\n",
              "      <td>16.0</td>\n",
              "      <td>110.0</td>\n",
              "      <td>62.0</td>\n",
              "      <td>9.0</td>\n",
              "      <td>87.0</td>\n",
              "      <td>8.0</td>\n",
              "      <td>14.0</td>\n",
              "      <td>1</td>\n",
              "      <td>7.0</td>\n",
              "      <td>102</td>\n",
              "      <td>335.0</td>\n",
              "      <td>136.0</td>\n",
              "      <td>91.0</td>\n",
              "      <td>78.0</td>\n",
              "      <td>34.0</td>\n",
              "      <td>89.0</td>\n",
              "      <td>139.0</td>\n",
              "      <td>1058.0</td>\n",
              "      <td>188.0</td>\n",
              "      <td>104.0</td>\n",
              "      <td>15.0</td>\n",
              "      <td>444.0</td>\n",
              "      <td>339.0</td>\n",
              "      <td>1474.0</td>\n",
              "      <td>119.0</td>\n",
              "      <td>2376.0</td>\n",
              "      <td>0</td>\n",
              "    </tr>\n",
              "  </tbody>\n",
              "</table>\n",
              "</div>"
            ],
            "text/plain": [
              "      Item No.  May-17  Jun-17  ...  Year-2020  Total Sales  Category\n",
              "ID                              ...                                  \n",
              "2613     10697  1081.0     150  ...     5473.0      78882.0         1\n",
              "4264     14300    67.0      11  ...      257.0       1962.0         0\n",
              "2747     10922     2.0       0  ...       33.0        727.0         0\n",
              "2746     10921     2.0       2  ...        8.0        150.0         0\n",
              "3439     12497     1.0       6  ...      119.0       2376.0         0\n",
              "\n",
              "[5 rows x 57 columns]"
            ]
          },
          "metadata": {
            "tags": []
          },
          "execution_count": 136
        }
      ]
    },
    {
      "cell_type": "code",
      "metadata": {
        "id": "jRO38Xd5svQ0",
        "colab": {
          "base_uri": "https://localhost:8080/",
          "height": 262
        },
        "outputId": "d2535fdc-8980-4494-8b72-b33f151eafe4"
      },
      "source": [
        "#4. Create a new DataFrame which has only the monthly sales (Quarterly & Yearly sales are excluded)\n",
        "df1=df.copy()\n",
        "df1.drop(df1.iloc[:,38:],axis=1,inplace=True)\n",
        "\n",
        "df1.head()"
      ],
      "execution_count": 137,
      "outputs": [
        {
          "output_type": "execute_result",
          "data": {
            "text/html": [
              "<div>\n",
              "<style scoped>\n",
              "    .dataframe tbody tr th:only-of-type {\n",
              "        vertical-align: middle;\n",
              "    }\n",
              "\n",
              "    .dataframe tbody tr th {\n",
              "        vertical-align: top;\n",
              "    }\n",
              "\n",
              "    .dataframe thead th {\n",
              "        text-align: right;\n",
              "    }\n",
              "</style>\n",
              "<table border=\"1\" class=\"dataframe\">\n",
              "  <thead>\n",
              "    <tr style=\"text-align: right;\">\n",
              "      <th></th>\n",
              "      <th>Item No.</th>\n",
              "      <th>May-17</th>\n",
              "      <th>Jun-17</th>\n",
              "      <th>Jul-17</th>\n",
              "      <th>Aug-17</th>\n",
              "      <th>Sep-17</th>\n",
              "      <th>Oct-17</th>\n",
              "      <th>Nov-17</th>\n",
              "      <th>Dec-17</th>\n",
              "      <th>Jan-18</th>\n",
              "      <th>Feb-18</th>\n",
              "      <th>Mar-18</th>\n",
              "      <th>Apr-18</th>\n",
              "      <th>May-18</th>\n",
              "      <th>Jun-18</th>\n",
              "      <th>Jul-18</th>\n",
              "      <th>Aug-18</th>\n",
              "      <th>Sep-18</th>\n",
              "      <th>Oct-18</th>\n",
              "      <th>Nov-18</th>\n",
              "      <th>Dec-18</th>\n",
              "      <th>Jan-19</th>\n",
              "      <th>Feb-19</th>\n",
              "      <th>Mar-19</th>\n",
              "      <th>Apr-19</th>\n",
              "      <th>May-19</th>\n",
              "      <th>Jun-19</th>\n",
              "      <th>Jul-19</th>\n",
              "      <th>Aug-19</th>\n",
              "      <th>Sep-19</th>\n",
              "      <th>Oct-19</th>\n",
              "      <th>Nov-19</th>\n",
              "      <th>Dec-19</th>\n",
              "      <th>Jan-20</th>\n",
              "      <th>Feb-20</th>\n",
              "      <th>Mar-20</th>\n",
              "      <th>Apr-20</th>\n",
              "      <th>May-20</th>\n",
              "    </tr>\n",
              "    <tr>\n",
              "      <th>ID</th>\n",
              "      <th></th>\n",
              "      <th></th>\n",
              "      <th></th>\n",
              "      <th></th>\n",
              "      <th></th>\n",
              "      <th></th>\n",
              "      <th></th>\n",
              "      <th></th>\n",
              "      <th></th>\n",
              "      <th></th>\n",
              "      <th></th>\n",
              "      <th></th>\n",
              "      <th></th>\n",
              "      <th></th>\n",
              "      <th></th>\n",
              "      <th></th>\n",
              "      <th></th>\n",
              "      <th></th>\n",
              "      <th></th>\n",
              "      <th></th>\n",
              "      <th></th>\n",
              "      <th></th>\n",
              "      <th></th>\n",
              "      <th></th>\n",
              "      <th></th>\n",
              "      <th></th>\n",
              "      <th></th>\n",
              "      <th></th>\n",
              "      <th></th>\n",
              "      <th></th>\n",
              "      <th></th>\n",
              "      <th></th>\n",
              "      <th></th>\n",
              "      <th></th>\n",
              "      <th></th>\n",
              "      <th></th>\n",
              "      <th></th>\n",
              "      <th></th>\n",
              "    </tr>\n",
              "  </thead>\n",
              "  <tbody>\n",
              "    <tr>\n",
              "      <th>2613</th>\n",
              "      <td>10697</td>\n",
              "      <td>1081.0</td>\n",
              "      <td>150</td>\n",
              "      <td>4013</td>\n",
              "      <td>2251</td>\n",
              "      <td>4059</td>\n",
              "      <td>6176</td>\n",
              "      <td>2744.0</td>\n",
              "      <td>2667</td>\n",
              "      <td>2668</td>\n",
              "      <td>2331</td>\n",
              "      <td>3695.0</td>\n",
              "      <td>3999</td>\n",
              "      <td>3539.0</td>\n",
              "      <td>2457.0</td>\n",
              "      <td>5605.0</td>\n",
              "      <td>1226.0</td>\n",
              "      <td>2712.0</td>\n",
              "      <td>3434.0</td>\n",
              "      <td>767.0</td>\n",
              "      <td>402.0</td>\n",
              "      <td>727.0</td>\n",
              "      <td>3574.0</td>\n",
              "      <td>200.0</td>\n",
              "      <td>102.0</td>\n",
              "      <td>204.0</td>\n",
              "      <td>2205.0</td>\n",
              "      <td>2711</td>\n",
              "      <td>1942</td>\n",
              "      <td>708.0</td>\n",
              "      <td>1224.0</td>\n",
              "      <td>2101.0</td>\n",
              "      <td>1735.0</td>\n",
              "      <td>1500.0</td>\n",
              "      <td>380.0</td>\n",
              "      <td>767.0</td>\n",
              "      <td>2000.0</td>\n",
              "      <td>826</td>\n",
              "    </tr>\n",
              "    <tr>\n",
              "      <th>4264</th>\n",
              "      <td>14300</td>\n",
              "      <td>67.0</td>\n",
              "      <td>11</td>\n",
              "      <td>42</td>\n",
              "      <td>31</td>\n",
              "      <td>90</td>\n",
              "      <td>107</td>\n",
              "      <td>23.0</td>\n",
              "      <td>80</td>\n",
              "      <td>29</td>\n",
              "      <td>56</td>\n",
              "      <td>82.0</td>\n",
              "      <td>31</td>\n",
              "      <td>114.0</td>\n",
              "      <td>32.0</td>\n",
              "      <td>100.0</td>\n",
              "      <td>76.0</td>\n",
              "      <td>50.0</td>\n",
              "      <td>35.0</td>\n",
              "      <td>102.0</td>\n",
              "      <td>20.0</td>\n",
              "      <td>4.0</td>\n",
              "      <td>10.0</td>\n",
              "      <td>60.0</td>\n",
              "      <td>3.0</td>\n",
              "      <td>30.0</td>\n",
              "      <td>77.0</td>\n",
              "      <td>83</td>\n",
              "      <td>15</td>\n",
              "      <td>40.0</td>\n",
              "      <td>110.0</td>\n",
              "      <td>35.0</td>\n",
              "      <td>60.0</td>\n",
              "      <td>42.0</td>\n",
              "      <td>11.0</td>\n",
              "      <td>63.0</td>\n",
              "      <td>120.0</td>\n",
              "      <td>21</td>\n",
              "    </tr>\n",
              "    <tr>\n",
              "      <th>2747</th>\n",
              "      <td>10922</td>\n",
              "      <td>2.0</td>\n",
              "      <td>0</td>\n",
              "      <td>1</td>\n",
              "      <td>8</td>\n",
              "      <td>19</td>\n",
              "      <td>20</td>\n",
              "      <td>34.0</td>\n",
              "      <td>36</td>\n",
              "      <td>24</td>\n",
              "      <td>43</td>\n",
              "      <td>26.0</td>\n",
              "      <td>31</td>\n",
              "      <td>38.0</td>\n",
              "      <td>37.0</td>\n",
              "      <td>34.0</td>\n",
              "      <td>29.0</td>\n",
              "      <td>30.0</td>\n",
              "      <td>28.0</td>\n",
              "      <td>37.0</td>\n",
              "      <td>17.0</td>\n",
              "      <td>34.0</td>\n",
              "      <td>20.0</td>\n",
              "      <td>24.0</td>\n",
              "      <td>8.0</td>\n",
              "      <td>13.0</td>\n",
              "      <td>15.0</td>\n",
              "      <td>12</td>\n",
              "      <td>12</td>\n",
              "      <td>21.0</td>\n",
              "      <td>12.0</td>\n",
              "      <td>13.0</td>\n",
              "      <td>16.0</td>\n",
              "      <td>11.0</td>\n",
              "      <td>7.0</td>\n",
              "      <td>6.0</td>\n",
              "      <td>7.0</td>\n",
              "      <td>2</td>\n",
              "    </tr>\n",
              "    <tr>\n",
              "      <th>2746</th>\n",
              "      <td>10921</td>\n",
              "      <td>2.0</td>\n",
              "      <td>2</td>\n",
              "      <td>3</td>\n",
              "      <td>2</td>\n",
              "      <td>5</td>\n",
              "      <td>2</td>\n",
              "      <td>6.0</td>\n",
              "      <td>3</td>\n",
              "      <td>6</td>\n",
              "      <td>5</td>\n",
              "      <td>5.0</td>\n",
              "      <td>10</td>\n",
              "      <td>2.0</td>\n",
              "      <td>4.0</td>\n",
              "      <td>8.0</td>\n",
              "      <td>6.0</td>\n",
              "      <td>5.0</td>\n",
              "      <td>3.0</td>\n",
              "      <td>10.0</td>\n",
              "      <td>6.0</td>\n",
              "      <td>6.0</td>\n",
              "      <td>5.0</td>\n",
              "      <td>2.0</td>\n",
              "      <td>1.0</td>\n",
              "      <td>4.0</td>\n",
              "      <td>7.0</td>\n",
              "      <td>7</td>\n",
              "      <td>1</td>\n",
              "      <td>3.0</td>\n",
              "      <td>5.0</td>\n",
              "      <td>6.0</td>\n",
              "      <td>0.0</td>\n",
              "      <td>2.0</td>\n",
              "      <td>3.0</td>\n",
              "      <td>0.0</td>\n",
              "      <td>2.0</td>\n",
              "      <td>1</td>\n",
              "    </tr>\n",
              "    <tr>\n",
              "      <th>3439</th>\n",
              "      <td>12497</td>\n",
              "      <td>1.0</td>\n",
              "      <td>6</td>\n",
              "      <td>102</td>\n",
              "      <td>0</td>\n",
              "      <td>0</td>\n",
              "      <td>0</td>\n",
              "      <td>-2.0</td>\n",
              "      <td>337</td>\n",
              "      <td>16</td>\n",
              "      <td>112</td>\n",
              "      <td>8.0</td>\n",
              "      <td>9</td>\n",
              "      <td>49.0</td>\n",
              "      <td>33.0</td>\n",
              "      <td>0.0</td>\n",
              "      <td>73.0</td>\n",
              "      <td>5.0</td>\n",
              "      <td>16.0</td>\n",
              "      <td>8.0</td>\n",
              "      <td>10.0</td>\n",
              "      <td>23.0</td>\n",
              "      <td>13.0</td>\n",
              "      <td>53.0</td>\n",
              "      <td>25.0</td>\n",
              "      <td>22.0</td>\n",
              "      <td>92.0</td>\n",
              "      <td>970</td>\n",
              "      <td>23</td>\n",
              "      <td>65.0</td>\n",
              "      <td>16.0</td>\n",
              "      <td>110.0</td>\n",
              "      <td>62.0</td>\n",
              "      <td>9.0</td>\n",
              "      <td>87.0</td>\n",
              "      <td>8.0</td>\n",
              "      <td>14.0</td>\n",
              "      <td>1</td>\n",
              "    </tr>\n",
              "  </tbody>\n",
              "</table>\n",
              "</div>"
            ],
            "text/plain": [
              "      Item No.  May-17  Jun-17  Jul-17  ...  Feb-20  Mar-20  Apr-20  May-20\n",
              "ID                                      ...                                \n",
              "2613     10697  1081.0     150    4013  ...   380.0   767.0  2000.0     826\n",
              "4264     14300    67.0      11      42  ...    11.0    63.0   120.0      21\n",
              "2747     10922     2.0       0       1  ...     7.0     6.0     7.0       2\n",
              "2746     10921     2.0       2       3  ...     3.0     0.0     2.0       1\n",
              "3439     12497     1.0       6     102  ...    87.0     8.0    14.0       1\n",
              "\n",
              "[5 rows x 38 columns]"
            ]
          },
          "metadata": {
            "tags": []
          },
          "execution_count": 137
        }
      ]
    },
    {
      "cell_type": "code",
      "metadata": {
        "id": "609dQXGdsvQ0",
        "colab": {
          "base_uri": "https://localhost:8080/",
          "height": 0
        },
        "outputId": "cc915942-3213-445c-b0ab-b56e2a76bb56"
      },
      "source": [
        "# 5.Forecasting based on ID\n",
        "n=int(input(\"Enter the ID number: \"))\n",
        "ID_monthly_sales_list=(df1.loc[n:n,'May-17':].values.T.flatten())\n",
        "y=ID_monthly_sales_list.tolist()\n",
        "print()\n",
        "print(\"Monthly sales of ID number\",n,\"is\")\n",
        "print()\n",
        "print(y)"
      ],
      "execution_count": 138,
      "outputs": [
        {
          "output_type": "stream",
          "text": [
            "Enter the ID number: 3439\n",
            "\n",
            "Monthly sales of ID number 3439 is\n",
            "\n",
            "[1.0, 6.0, 102.0, 0.0, 0.0, 0.0, -2.0, 337.0, 16.0, 112.0, 8.0, 9.0, 49.0, 33.0, 0.0, 73.0, 5.0, 16.0, 8.0, 10.0, 23.0, 13.0, 53.0, 25.0, 22.0, 92.0, 970.0, 23.0, 65.0, 16.0, 110.0, 62.0, 9.0, 87.0, 8.0, 14.0, 1.0]\n"
          ],
          "name": "stdout"
        }
      ]
    },
    {
      "cell_type": "code",
      "metadata": {
        "scrolled": true,
        "id": "2MozKgnLsvQ1",
        "colab": {
          "base_uri": "https://localhost:8080/",
          "height": 0
        },
        "outputId": "b84da5b9-7fca-4679-839a-277d133777ca"
      },
      "source": [
        "# 6.Extracting the Month names\n",
        "months_list=df.iloc[:,1:38].columns\n",
        "months_list"
      ],
      "execution_count": 139,
      "outputs": [
        {
          "output_type": "execute_result",
          "data": {
            "text/plain": [
              "Index(['May-17', 'Jun-17', 'Jul-17', 'Aug-17', 'Sep-17', 'Oct-17', 'Nov-17',\n",
              "       'Dec-17', 'Jan-18', 'Feb-18', 'Mar-18', 'Apr-18', 'May-18', 'Jun-18',\n",
              "       'Jul-18', 'Aug-18', 'Sep-18', 'Oct-18', 'Nov-18', 'Dec-18', 'Jan-19',\n",
              "       'Feb-19', 'Mar-19', 'Apr-19', 'May-19', 'Jun-19', 'Jul-19', 'Aug-19',\n",
              "       'Sep-19', 'Oct-19', 'Nov-19', 'Dec-19', 'Jan-20', 'Feb-20', 'Mar-20',\n",
              "       'Apr-20', 'May-20'],\n",
              "      dtype='object')"
            ]
          },
          "metadata": {
            "tags": []
          },
          "execution_count": 139
        }
      ]
    },
    {
      "cell_type": "code",
      "metadata": {
        "id": "m_xHke15svQ1"
      },
      "source": [
        "# 7.To convert May-17 into Date format (YYYY:MM:DD)\n",
        "def custom_parser(x):\n",
        "    return datetime.datetime.strptime(x,'%b-%y')\n",
        "\n",
        "\n",
        "date_lst=[]\n",
        "for i in range(len(months_list)):\n",
        "    date_lst.append(custom_parser(months_list[i]))"
      ],
      "execution_count": 140,
      "outputs": []
    },
    {
      "cell_type": "markdown",
      "metadata": {
        "id": "AIoyvbPxsvQ2"
      },
      "source": [
        "NOTE:\n",
        "- The input to Prophet is always a dataframe with two columns: ds and y. The ds (datestamp) column should be of a format expected by Pandas, ideally YYYY-MM-DD for a date or YYYY-MM-DD HH:MM:SS for a timestamp. The y column must be numeric, and represents the measurement we wish to forecast."
      ]
    },
    {
      "cell_type": "code",
      "metadata": {
        "id": "Ue18VYn8svQ2",
        "colab": {
          "base_uri": "https://localhost:8080/",
          "height": 195
        },
        "outputId": "f0189dd2-b23c-476e-ecca-3c45d21af272"
      },
      "source": [
        "# 8.Framing new dataframe with months & monthly sales values of the respective ID\n",
        "new_dataframe=pd.DataFrame(list(zip(date_lst,y)),columns=['ds','y'])\n",
        "new_dataframe.head()"
      ],
      "execution_count": 141,
      "outputs": [
        {
          "output_type": "execute_result",
          "data": {
            "text/html": [
              "<div>\n",
              "<style scoped>\n",
              "    .dataframe tbody tr th:only-of-type {\n",
              "        vertical-align: middle;\n",
              "    }\n",
              "\n",
              "    .dataframe tbody tr th {\n",
              "        vertical-align: top;\n",
              "    }\n",
              "\n",
              "    .dataframe thead th {\n",
              "        text-align: right;\n",
              "    }\n",
              "</style>\n",
              "<table border=\"1\" class=\"dataframe\">\n",
              "  <thead>\n",
              "    <tr style=\"text-align: right;\">\n",
              "      <th></th>\n",
              "      <th>ds</th>\n",
              "      <th>y</th>\n",
              "    </tr>\n",
              "  </thead>\n",
              "  <tbody>\n",
              "    <tr>\n",
              "      <th>0</th>\n",
              "      <td>2017-05-01</td>\n",
              "      <td>1.0</td>\n",
              "    </tr>\n",
              "    <tr>\n",
              "      <th>1</th>\n",
              "      <td>2017-06-01</td>\n",
              "      <td>6.0</td>\n",
              "    </tr>\n",
              "    <tr>\n",
              "      <th>2</th>\n",
              "      <td>2017-07-01</td>\n",
              "      <td>102.0</td>\n",
              "    </tr>\n",
              "    <tr>\n",
              "      <th>3</th>\n",
              "      <td>2017-08-01</td>\n",
              "      <td>0.0</td>\n",
              "    </tr>\n",
              "    <tr>\n",
              "      <th>4</th>\n",
              "      <td>2017-09-01</td>\n",
              "      <td>0.0</td>\n",
              "    </tr>\n",
              "  </tbody>\n",
              "</table>\n",
              "</div>"
            ],
            "text/plain": [
              "          ds      y\n",
              "0 2017-05-01    1.0\n",
              "1 2017-06-01    6.0\n",
              "2 2017-07-01  102.0\n",
              "3 2017-08-01    0.0\n",
              "4 2017-09-01    0.0"
            ]
          },
          "metadata": {
            "tags": []
          },
          "execution_count": 141
        }
      ]
    },
    {
      "cell_type": "code",
      "metadata": {
        "id": "Ip_BxW-BsvQ3"
      },
      "source": [
        "# 9.Importing FBProphet library\n",
        "from fbprophet import Prophet"
      ],
      "execution_count": 142,
      "outputs": []
    },
    {
      "cell_type": "code",
      "metadata": {
        "id": "OOdA3A41svQ3"
      },
      "source": [
        "# 10.Importing libraries to use \"plotly\"\n",
        "import plotly.offline as py\n",
        "import plotly.graph_objs as go"
      ],
      "execution_count": 143,
      "outputs": []
    },
    {
      "cell_type": "code",
      "metadata": {
        "scrolled": true,
        "id": "CirljobesvQ3",
        "colab": {
          "base_uri": "https://localhost:8080/",
          "height": 0
        },
        "outputId": "db4241c4-1993-4e8c-c8a6-a31de821aa02"
      },
      "source": [
        "# 11.Fitting the model & Making forecasts\n",
        "m = Prophet(changepoint_prior_scale=2.5)\n",
        "m.fit(new_dataframe)\n",
        "future = m.make_future_dataframe(12,freq='MS')\n",
        "forecast = m.predict(future)"
      ],
      "execution_count": 144,
      "outputs": [
        {
          "output_type": "stream",
          "text": [
            "INFO:fbprophet:Disabling weekly seasonality. Run prophet with weekly_seasonality=True to override this.\n",
            "INFO:fbprophet:Disabling daily seasonality. Run prophet with daily_seasonality=True to override this.\n"
          ],
          "name": "stderr"
        }
      ]
    },
    {
      "cell_type": "code",
      "metadata": {
        "scrolled": true,
        "id": "n8eTBynasvQ4",
        "colab": {
          "base_uri": "https://localhost:8080/",
          "height": 0
        },
        "outputId": "f7a38c97-4f38-4a70-9b83-de61ccd5f057"
      },
      "source": [
        "len(forecast['yhat'])-12\n"
      ],
      "execution_count": 145,
      "outputs": [
        {
          "output_type": "execute_result",
          "data": {
            "text/plain": [
              "37"
            ]
          },
          "metadata": {
            "tags": []
          },
          "execution_count": 145
        }
      ]
    },
    {
      "cell_type": "code",
      "metadata": {
        "id": "tS7reBGCsvQ4",
        "colab": {
          "base_uri": "https://localhost:8080/",
          "height": 0
        },
        "outputId": "78577fb0-47b9-464f-ec02-f5ee2f3046c6"
      },
      "source": [
        "len(forecast['yhat'])"
      ],
      "execution_count": 146,
      "outputs": [
        {
          "output_type": "execute_result",
          "data": {
            "text/plain": [
              "49"
            ]
          },
          "metadata": {
            "tags": []
          },
          "execution_count": 146
        }
      ]
    },
    {
      "cell_type": "code",
      "metadata": {
        "scrolled": true,
        "id": "KOll-gWasvQ4",
        "colab": {
          "base_uri": "https://localhost:8080/",
          "height": 0
        },
        "outputId": "ffa7fc4a-76c7-4e74-9203-f8b61635919f"
      },
      "source": [
        "print('RMSE: %f' % np.sqrt(np.mean((forecast.loc[:len(forecast['yhat']), 'yhat']-new_dataframe['y'])**2)) )"
      ],
      "execution_count": 147,
      "outputs": [
        {
          "output_type": "stream",
          "text": [
            "RMSE: 69.710320\n"
          ],
          "name": "stdout"
        }
      ]
    },
    {
      "cell_type": "code",
      "metadata": {
        "scrolled": true,
        "id": "oNpIUdK4svQ5",
        "colab": {
          "base_uri": "https://localhost:8080/",
          "height": 0
        },
        "outputId": "07e4f747-928d-4471-a563-985714809f3d"
      },
      "source": [
        "# 12.Making all negative values as \"0\"\n",
        "x=forecast['yhat']\n",
        "listed=[]\n",
        "for i in range(len(x)):\n",
        "    if x[i]<0:\n",
        "        x[i]=0\n",
        "        #listed.append(x)\n",
        "    #else:x#listed.append(x)\n",
        "#print(listed)        \n",
        "        "
      ],
      "execution_count": 148,
      "outputs": [
        {
          "output_type": "stream",
          "text": [
            "/usr/local/lib/python3.6/dist-packages/ipykernel_launcher.py:6: SettingWithCopyWarning:\n",
            "\n",
            "\n",
            "A value is trying to be set on a copy of a slice from a DataFrame\n",
            "\n",
            "See the caveats in the documentation: https://pandas.pydata.org/pandas-docs/stable/user_guide/indexing.html#returning-a-view-versus-a-copy\n",
            "\n"
          ],
          "name": "stderr"
        }
      ]
    },
    {
      "cell_type": "markdown",
      "metadata": {
        "id": "prOnxr_rsvQ5"
      },
      "source": [
        "## 13.Plotting Actual vs Predicted"
      ]
    },
    {
      "cell_type": "code",
      "metadata": {
        "scrolled": false,
        "id": "S1Xad-b9svQ5",
        "colab": {
          "base_uri": "https://localhost:8080/",
          "height": 542
        },
        "outputId": "ab614e06-1d0b-40c1-a745-e72c83d4c04a"
      },
      "source": [
        "py.iplot([\n",
        "    go.Scatter(x=new_dataframe['ds'], y=new_dataframe['y'], name='Actual'),\n",
        "    go.Scatter(x=forecast['ds'], y=forecast['yhat'], name='Predicted'),])\n",
        "    \n",
        "    #go.Scatter(x=forecast['ds'], y=forecast['trend'], name='Trend')\n",
        "#])"
      ],
      "execution_count": 149,
      "outputs": [
        {
          "output_type": "display_data",
          "data": {
            "text/html": [
              "<html>\n",
              "<head><meta charset=\"utf-8\" /></head>\n",
              "<body>\n",
              "    <div>\n",
              "            <script src=\"https://cdnjs.cloudflare.com/ajax/libs/mathjax/2.7.5/MathJax.js?config=TeX-AMS-MML_SVG\"></script><script type=\"text/javascript\">if (window.MathJax) {MathJax.Hub.Config({SVG: {font: \"STIX-Web\"}});}</script>\n",
              "                <script type=\"text/javascript\">window.PlotlyConfig = {MathJaxConfig: 'local'};</script>\n",
              "        <script src=\"https://cdn.plot.ly/plotly-latest.min.js\"></script>    \n",
              "            <div id=\"1661f7f1-73e3-4214-8ec9-ec506be3448b\" class=\"plotly-graph-div\" style=\"height:525px; width:100%;\"></div>\n",
              "            <script type=\"text/javascript\">\n",
              "                \n",
              "                    window.PLOTLYENV=window.PLOTLYENV || {};\n",
              "                    \n",
              "                if (document.getElementById(\"1661f7f1-73e3-4214-8ec9-ec506be3448b\")) {\n",
              "                    Plotly.newPlot(\n",
              "                        '1661f7f1-73e3-4214-8ec9-ec506be3448b',\n",
              "                        [{\"name\": \"Actual\", \"type\": \"scatter\", \"x\": [\"2017-05-01T00:00:00\", \"2017-06-01T00:00:00\", \"2017-07-01T00:00:00\", \"2017-08-01T00:00:00\", \"2017-09-01T00:00:00\", \"2017-10-01T00:00:00\", \"2017-11-01T00:00:00\", \"2017-12-01T00:00:00\", \"2018-01-01T00:00:00\", \"2018-02-01T00:00:00\", \"2018-03-01T00:00:00\", \"2018-04-01T00:00:00\", \"2018-05-01T00:00:00\", \"2018-06-01T00:00:00\", \"2018-07-01T00:00:00\", \"2018-08-01T00:00:00\", \"2018-09-01T00:00:00\", \"2018-10-01T00:00:00\", \"2018-11-01T00:00:00\", \"2018-12-01T00:00:00\", \"2019-01-01T00:00:00\", \"2019-02-01T00:00:00\", \"2019-03-01T00:00:00\", \"2019-04-01T00:00:00\", \"2019-05-01T00:00:00\", \"2019-06-01T00:00:00\", \"2019-07-01T00:00:00\", \"2019-08-01T00:00:00\", \"2019-09-01T00:00:00\", \"2019-10-01T00:00:00\", \"2019-11-01T00:00:00\", \"2019-12-01T00:00:00\", \"2020-01-01T00:00:00\", \"2020-02-01T00:00:00\", \"2020-03-01T00:00:00\", \"2020-04-01T00:00:00\", \"2020-05-01T00:00:00\"], \"y\": [1.0, 6.0, 102.0, 0.0, 0.0, 0.0, -2.0, 337.0, 16.0, 112.0, 8.0, 9.0, 49.0, 33.0, 0.0, 73.0, 5.0, 16.0, 8.0, 10.0, 23.0, 13.0, 53.0, 25.0, 22.0, 92.0, 970.0, 23.0, 65.0, 16.0, 110.0, 62.0, 9.0, 87.0, 8.0, 14.0, 1.0]}, {\"name\": \"Predicted\", \"type\": \"scatter\", \"x\": [\"2017-05-01T00:00:00\", \"2017-06-01T00:00:00\", \"2017-07-01T00:00:00\", \"2017-08-01T00:00:00\", \"2017-09-01T00:00:00\", \"2017-10-01T00:00:00\", \"2017-11-01T00:00:00\", \"2017-12-01T00:00:00\", \"2018-01-01T00:00:00\", \"2018-02-01T00:00:00\", \"2018-03-01T00:00:00\", \"2018-04-01T00:00:00\", \"2018-05-01T00:00:00\", \"2018-06-01T00:00:00\", \"2018-07-01T00:00:00\", \"2018-08-01T00:00:00\", \"2018-09-01T00:00:00\", \"2018-10-01T00:00:00\", \"2018-11-01T00:00:00\", \"2018-12-01T00:00:00\", \"2019-01-01T00:00:00\", \"2019-02-01T00:00:00\", \"2019-03-01T00:00:00\", \"2019-04-01T00:00:00\", \"2019-05-01T00:00:00\", \"2019-06-01T00:00:00\", \"2019-07-01T00:00:00\", \"2019-08-01T00:00:00\", \"2019-09-01T00:00:00\", \"2019-10-01T00:00:00\", \"2019-11-01T00:00:00\", \"2019-12-01T00:00:00\", \"2020-01-01T00:00:00\", \"2020-02-01T00:00:00\", \"2020-03-01T00:00:00\", \"2020-04-01T00:00:00\", \"2020-05-01T00:00:00\", \"2020-06-01T00:00:00\", \"2020-07-01T00:00:00\", \"2020-08-01T00:00:00\", \"2020-09-01T00:00:00\", \"2020-10-01T00:00:00\", \"2020-11-01T00:00:00\", \"2020-12-01T00:00:00\", \"2021-01-01T00:00:00\", \"2021-02-01T00:00:00\", \"2021-03-01T00:00:00\", \"2021-04-01T00:00:00\", \"2021-05-01T00:00:00\"], \"y\": [7.274190183824626, 38.091032503053285, 0.0, 70.41019520551865, 36.13392708538407, 36.5144773222405, 0.97614544902369, 275.54396075024084, 8.76698118590167, 52.180256512292715, 61.422176293969784, 20.77983919390354, 0.0, 0.0, 276.74071325128887, 0.0, 0.0, 0.0, 0.0, 93.4882321936136, 0.0, 59.17826483070817, 40.43232326423728, 32.01766010431574, 59.06756763664016, 112.53714862982515, 817.5312156716338, 65.0642027325352, 75.53715366764365, 42.7806522702237, 126.13056628708695, 39.78017802713602, 58.61813013315677, 100.4673427098756, 0.0, 0.0, 8.158684607978657, 0.0, 0.0, 0.0, 0.0, 0.0, 0.0, 0.0, 0.0, 0.0, 0.0, 0.0, 0.0]}],\n",
              "                        {\"template\": {\"data\": {\"bar\": [{\"error_x\": {\"color\": \"#2a3f5f\"}, \"error_y\": {\"color\": \"#2a3f5f\"}, \"marker\": {\"line\": {\"color\": \"#E5ECF6\", \"width\": 0.5}}, \"type\": \"bar\"}], \"barpolar\": [{\"marker\": {\"line\": {\"color\": \"#E5ECF6\", \"width\": 0.5}}, \"type\": \"barpolar\"}], \"carpet\": [{\"aaxis\": {\"endlinecolor\": \"#2a3f5f\", \"gridcolor\": \"white\", \"linecolor\": \"white\", \"minorgridcolor\": \"white\", \"startlinecolor\": \"#2a3f5f\"}, \"baxis\": {\"endlinecolor\": \"#2a3f5f\", \"gridcolor\": \"white\", \"linecolor\": \"white\", \"minorgridcolor\": \"white\", \"startlinecolor\": \"#2a3f5f\"}, \"type\": \"carpet\"}], \"choropleth\": [{\"colorbar\": {\"outlinewidth\": 0, \"ticks\": \"\"}, \"type\": \"choropleth\"}], \"contour\": [{\"colorbar\": {\"outlinewidth\": 0, \"ticks\": \"\"}, \"colorscale\": [[0.0, \"#0d0887\"], [0.1111111111111111, \"#46039f\"], [0.2222222222222222, \"#7201a8\"], [0.3333333333333333, \"#9c179e\"], [0.4444444444444444, \"#bd3786\"], [0.5555555555555556, \"#d8576b\"], [0.6666666666666666, \"#ed7953\"], [0.7777777777777778, \"#fb9f3a\"], [0.8888888888888888, \"#fdca26\"], [1.0, \"#f0f921\"]], \"type\": \"contour\"}], \"contourcarpet\": [{\"colorbar\": {\"outlinewidth\": 0, \"ticks\": \"\"}, \"type\": \"contourcarpet\"}], \"heatmap\": [{\"colorbar\": {\"outlinewidth\": 0, \"ticks\": \"\"}, \"colorscale\": [[0.0, \"#0d0887\"], [0.1111111111111111, \"#46039f\"], [0.2222222222222222, \"#7201a8\"], [0.3333333333333333, \"#9c179e\"], [0.4444444444444444, \"#bd3786\"], [0.5555555555555556, \"#d8576b\"], [0.6666666666666666, \"#ed7953\"], [0.7777777777777778, \"#fb9f3a\"], [0.8888888888888888, \"#fdca26\"], [1.0, \"#f0f921\"]], \"type\": \"heatmap\"}], \"heatmapgl\": [{\"colorbar\": {\"outlinewidth\": 0, \"ticks\": \"\"}, \"colorscale\": [[0.0, \"#0d0887\"], [0.1111111111111111, \"#46039f\"], [0.2222222222222222, \"#7201a8\"], [0.3333333333333333, \"#9c179e\"], [0.4444444444444444, \"#bd3786\"], [0.5555555555555556, \"#d8576b\"], [0.6666666666666666, \"#ed7953\"], [0.7777777777777778, \"#fb9f3a\"], [0.8888888888888888, \"#fdca26\"], [1.0, \"#f0f921\"]], \"type\": \"heatmapgl\"}], \"histogram\": [{\"marker\": {\"colorbar\": {\"outlinewidth\": 0, \"ticks\": \"\"}}, \"type\": \"histogram\"}], \"histogram2d\": [{\"colorbar\": {\"outlinewidth\": 0, \"ticks\": \"\"}, \"colorscale\": [[0.0, \"#0d0887\"], [0.1111111111111111, \"#46039f\"], [0.2222222222222222, \"#7201a8\"], [0.3333333333333333, \"#9c179e\"], [0.4444444444444444, \"#bd3786\"], [0.5555555555555556, \"#d8576b\"], [0.6666666666666666, \"#ed7953\"], [0.7777777777777778, \"#fb9f3a\"], [0.8888888888888888, \"#fdca26\"], [1.0, \"#f0f921\"]], \"type\": \"histogram2d\"}], \"histogram2dcontour\": [{\"colorbar\": {\"outlinewidth\": 0, \"ticks\": \"\"}, \"colorscale\": [[0.0, \"#0d0887\"], [0.1111111111111111, \"#46039f\"], [0.2222222222222222, \"#7201a8\"], [0.3333333333333333, \"#9c179e\"], [0.4444444444444444, \"#bd3786\"], [0.5555555555555556, \"#d8576b\"], [0.6666666666666666, \"#ed7953\"], [0.7777777777777778, \"#fb9f3a\"], [0.8888888888888888, \"#fdca26\"], [1.0, \"#f0f921\"]], \"type\": \"histogram2dcontour\"}], \"mesh3d\": [{\"colorbar\": {\"outlinewidth\": 0, \"ticks\": \"\"}, \"type\": \"mesh3d\"}], \"parcoords\": [{\"line\": {\"colorbar\": {\"outlinewidth\": 0, \"ticks\": \"\"}}, \"type\": \"parcoords\"}], \"pie\": [{\"automargin\": true, \"type\": \"pie\"}], \"scatter\": [{\"marker\": {\"colorbar\": {\"outlinewidth\": 0, \"ticks\": \"\"}}, \"type\": \"scatter\"}], \"scatter3d\": [{\"line\": {\"colorbar\": {\"outlinewidth\": 0, \"ticks\": \"\"}}, \"marker\": {\"colorbar\": {\"outlinewidth\": 0, \"ticks\": \"\"}}, \"type\": \"scatter3d\"}], \"scattercarpet\": [{\"marker\": {\"colorbar\": {\"outlinewidth\": 0, \"ticks\": \"\"}}, \"type\": \"scattercarpet\"}], \"scattergeo\": [{\"marker\": {\"colorbar\": {\"outlinewidth\": 0, \"ticks\": \"\"}}, \"type\": \"scattergeo\"}], \"scattergl\": [{\"marker\": {\"colorbar\": {\"outlinewidth\": 0, \"ticks\": \"\"}}, \"type\": \"scattergl\"}], \"scattermapbox\": [{\"marker\": {\"colorbar\": {\"outlinewidth\": 0, \"ticks\": \"\"}}, \"type\": \"scattermapbox\"}], \"scatterpolar\": [{\"marker\": {\"colorbar\": {\"outlinewidth\": 0, \"ticks\": \"\"}}, \"type\": \"scatterpolar\"}], \"scatterpolargl\": [{\"marker\": {\"colorbar\": {\"outlinewidth\": 0, \"ticks\": \"\"}}, \"type\": \"scatterpolargl\"}], \"scatterternary\": [{\"marker\": {\"colorbar\": {\"outlinewidth\": 0, \"ticks\": \"\"}}, \"type\": \"scatterternary\"}], \"surface\": [{\"colorbar\": {\"outlinewidth\": 0, \"ticks\": \"\"}, \"colorscale\": [[0.0, \"#0d0887\"], [0.1111111111111111, \"#46039f\"], [0.2222222222222222, \"#7201a8\"], [0.3333333333333333, \"#9c179e\"], [0.4444444444444444, \"#bd3786\"], [0.5555555555555556, \"#d8576b\"], [0.6666666666666666, \"#ed7953\"], [0.7777777777777778, \"#fb9f3a\"], [0.8888888888888888, \"#fdca26\"], [1.0, \"#f0f921\"]], \"type\": \"surface\"}], \"table\": [{\"cells\": {\"fill\": {\"color\": \"#EBF0F8\"}, \"line\": {\"color\": \"white\"}}, \"header\": {\"fill\": {\"color\": \"#C8D4E3\"}, \"line\": {\"color\": \"white\"}}, \"type\": \"table\"}]}, \"layout\": {\"annotationdefaults\": {\"arrowcolor\": \"#2a3f5f\", \"arrowhead\": 0, \"arrowwidth\": 1}, \"coloraxis\": {\"colorbar\": {\"outlinewidth\": 0, \"ticks\": \"\"}}, \"colorscale\": {\"diverging\": [[0, \"#8e0152\"], [0.1, \"#c51b7d\"], [0.2, \"#de77ae\"], [0.3, \"#f1b6da\"], [0.4, \"#fde0ef\"], [0.5, \"#f7f7f7\"], [0.6, \"#e6f5d0\"], [0.7, \"#b8e186\"], [0.8, \"#7fbc41\"], [0.9, \"#4d9221\"], [1, \"#276419\"]], \"sequential\": [[0.0, \"#0d0887\"], [0.1111111111111111, \"#46039f\"], [0.2222222222222222, \"#7201a8\"], [0.3333333333333333, \"#9c179e\"], [0.4444444444444444, \"#bd3786\"], [0.5555555555555556, \"#d8576b\"], [0.6666666666666666, \"#ed7953\"], [0.7777777777777778, \"#fb9f3a\"], [0.8888888888888888, \"#fdca26\"], [1.0, \"#f0f921\"]], \"sequentialminus\": [[0.0, \"#0d0887\"], [0.1111111111111111, \"#46039f\"], [0.2222222222222222, \"#7201a8\"], [0.3333333333333333, \"#9c179e\"], [0.4444444444444444, \"#bd3786\"], [0.5555555555555556, \"#d8576b\"], [0.6666666666666666, \"#ed7953\"], [0.7777777777777778, \"#fb9f3a\"], [0.8888888888888888, \"#fdca26\"], [1.0, \"#f0f921\"]]}, \"colorway\": [\"#636efa\", \"#EF553B\", \"#00cc96\", \"#ab63fa\", \"#FFA15A\", \"#19d3f3\", \"#FF6692\", \"#B6E880\", \"#FF97FF\", \"#FECB52\"], \"font\": {\"color\": \"#2a3f5f\"}, \"geo\": {\"bgcolor\": \"white\", \"lakecolor\": \"white\", \"landcolor\": \"#E5ECF6\", \"showlakes\": true, \"showland\": true, \"subunitcolor\": \"white\"}, \"hoverlabel\": {\"align\": \"left\"}, \"hovermode\": \"closest\", \"mapbox\": {\"style\": \"light\"}, \"paper_bgcolor\": \"white\", \"plot_bgcolor\": \"#E5ECF6\", \"polar\": {\"angularaxis\": {\"gridcolor\": \"white\", \"linecolor\": \"white\", \"ticks\": \"\"}, \"bgcolor\": \"#E5ECF6\", \"radialaxis\": {\"gridcolor\": \"white\", \"linecolor\": \"white\", \"ticks\": \"\"}}, \"scene\": {\"xaxis\": {\"backgroundcolor\": \"#E5ECF6\", \"gridcolor\": \"white\", \"gridwidth\": 2, \"linecolor\": \"white\", \"showbackground\": true, \"ticks\": \"\", \"zerolinecolor\": \"white\"}, \"yaxis\": {\"backgroundcolor\": \"#E5ECF6\", \"gridcolor\": \"white\", \"gridwidth\": 2, \"linecolor\": \"white\", \"showbackground\": true, \"ticks\": \"\", \"zerolinecolor\": \"white\"}, \"zaxis\": {\"backgroundcolor\": \"#E5ECF6\", \"gridcolor\": \"white\", \"gridwidth\": 2, \"linecolor\": \"white\", \"showbackground\": true, \"ticks\": \"\", \"zerolinecolor\": \"white\"}}, \"shapedefaults\": {\"line\": {\"color\": \"#2a3f5f\"}}, \"ternary\": {\"aaxis\": {\"gridcolor\": \"white\", \"linecolor\": \"white\", \"ticks\": \"\"}, \"baxis\": {\"gridcolor\": \"white\", \"linecolor\": \"white\", \"ticks\": \"\"}, \"bgcolor\": \"#E5ECF6\", \"caxis\": {\"gridcolor\": \"white\", \"linecolor\": \"white\", \"ticks\": \"\"}}, \"title\": {\"x\": 0.05}, \"xaxis\": {\"automargin\": true, \"gridcolor\": \"white\", \"linecolor\": \"white\", \"ticks\": \"\", \"title\": {\"standoff\": 15}, \"zerolinecolor\": \"white\", \"zerolinewidth\": 2}, \"yaxis\": {\"automargin\": true, \"gridcolor\": \"white\", \"linecolor\": \"white\", \"ticks\": \"\", \"title\": {\"standoff\": 15}, \"zerolinecolor\": \"white\", \"zerolinewidth\": 2}}}},\n",
              "                        {\"responsive\": true}\n",
              "                    ).then(function(){\n",
              "                            \n",
              "var gd = document.getElementById('1661f7f1-73e3-4214-8ec9-ec506be3448b');\n",
              "var x = new MutationObserver(function (mutations, observer) {{\n",
              "        var display = window.getComputedStyle(gd).display;\n",
              "        if (!display || display === 'none') {{\n",
              "            console.log([gd, 'removed!']);\n",
              "            Plotly.purge(gd);\n",
              "            observer.disconnect();\n",
              "        }}\n",
              "}});\n",
              "\n",
              "// Listen for the removal of the full notebook cells\n",
              "var notebookContainer = gd.closest('#notebook-container');\n",
              "if (notebookContainer) {{\n",
              "    x.observe(notebookContainer, {childList: true});\n",
              "}}\n",
              "\n",
              "// Listen for the clearing of the current output cell\n",
              "var outputEl = gd.closest('.output');\n",
              "if (outputEl) {{\n",
              "    x.observe(outputEl, {childList: true});\n",
              "}}\n",
              "\n",
              "                        })\n",
              "                };\n",
              "                \n",
              "            </script>\n",
              "        </div>\n",
              "</body>\n",
              "</html>"
            ]
          },
          "metadata": {
            "tags": []
          }
        }
      ]
    },
    {
      "cell_type": "code",
      "metadata": {
        "scrolled": false,
        "id": "WpN3dH9OsvQ9",
        "colab": {
          "base_uri": "https://localhost:8080/",
          "height": 0
        },
        "outputId": "3016fbd9-475b-483e-ea64-6bb5cad2dc76"
      },
      "source": [
        "dff=pd.DataFrame(list(zip(new_dataframe['y'],forecast['yhat'])),columns=['Actual','Predicted'])\n",
        "dff[\"MAPE (Mean Absolute Percentage Error)\"]=(abs((dff['Actual']-dff['Predicted']))/dff['Actual'])*100\n",
        "      \n",
        "dff = dff.apply (pd.to_numeric, errors='coerce') #To drop NaN values\n",
        "\n",
        "print (dff.dropna(inplace=True))\n"
      ],
      "execution_count": 150,
      "outputs": [
        {
          "output_type": "stream",
          "text": [
            "None\n"
          ],
          "name": "stdout"
        }
      ]
    },
    {
      "cell_type": "markdown",
      "metadata": {
        "id": "_6ugZA7RsvQ9"
      },
      "source": [
        "NOTE:\n",
        "- There are chances that MAPE value could be \"infinity\",so these values are to be made as \"Zero\" to find the mean value of the MAPE"
      ]
    },
    {
      "cell_type": "code",
      "metadata": {
        "scrolled": true,
        "id": "n8gB9SP-svQ9",
        "colab": {
          "base_uri": "https://localhost:8080/",
          "height": 1142
        },
        "outputId": "a41933cf-8437-467b-dc8f-5068afeba332"
      },
      "source": [
        "lst=dff['MAPE (Mean Absolute Percentage Error)'].tolist()\n",
        "\n",
        "for i in range(len(lst)):\n",
        "    if lst[i]==float('inf'):\n",
        "        lst[i]=0\n",
        "    \n",
        "       \n",
        "#print(lst)\n",
        "dff['MAPE (Mean Absolute Percentage Error)']=lst\n",
        "dff"
      ],
      "execution_count": 151,
      "outputs": [
        {
          "output_type": "execute_result",
          "data": {
            "text/html": [
              "<div>\n",
              "<style scoped>\n",
              "    .dataframe tbody tr th:only-of-type {\n",
              "        vertical-align: middle;\n",
              "    }\n",
              "\n",
              "    .dataframe tbody tr th {\n",
              "        vertical-align: top;\n",
              "    }\n",
              "\n",
              "    .dataframe thead th {\n",
              "        text-align: right;\n",
              "    }\n",
              "</style>\n",
              "<table border=\"1\" class=\"dataframe\">\n",
              "  <thead>\n",
              "    <tr style=\"text-align: right;\">\n",
              "      <th></th>\n",
              "      <th>Actual</th>\n",
              "      <th>Predicted</th>\n",
              "      <th>MAPE (Mean Absolute Percentage Error)</th>\n",
              "    </tr>\n",
              "  </thead>\n",
              "  <tbody>\n",
              "    <tr>\n",
              "      <th>0</th>\n",
              "      <td>1.0</td>\n",
              "      <td>7.274190</td>\n",
              "      <td>627.419018</td>\n",
              "    </tr>\n",
              "    <tr>\n",
              "      <th>1</th>\n",
              "      <td>6.0</td>\n",
              "      <td>38.091033</td>\n",
              "      <td>534.850542</td>\n",
              "    </tr>\n",
              "    <tr>\n",
              "      <th>2</th>\n",
              "      <td>102.0</td>\n",
              "      <td>0.000000</td>\n",
              "      <td>100.000000</td>\n",
              "    </tr>\n",
              "    <tr>\n",
              "      <th>3</th>\n",
              "      <td>0.0</td>\n",
              "      <td>70.410195</td>\n",
              "      <td>0.000000</td>\n",
              "    </tr>\n",
              "    <tr>\n",
              "      <th>4</th>\n",
              "      <td>0.0</td>\n",
              "      <td>36.133927</td>\n",
              "      <td>0.000000</td>\n",
              "    </tr>\n",
              "    <tr>\n",
              "      <th>5</th>\n",
              "      <td>0.0</td>\n",
              "      <td>36.514477</td>\n",
              "      <td>0.000000</td>\n",
              "    </tr>\n",
              "    <tr>\n",
              "      <th>6</th>\n",
              "      <td>-2.0</td>\n",
              "      <td>0.976145</td>\n",
              "      <td>-148.807272</td>\n",
              "    </tr>\n",
              "    <tr>\n",
              "      <th>7</th>\n",
              "      <td>337.0</td>\n",
              "      <td>275.543961</td>\n",
              "      <td>18.236213</td>\n",
              "    </tr>\n",
              "    <tr>\n",
              "      <th>8</th>\n",
              "      <td>16.0</td>\n",
              "      <td>8.766981</td>\n",
              "      <td>45.206368</td>\n",
              "    </tr>\n",
              "    <tr>\n",
              "      <th>9</th>\n",
              "      <td>112.0</td>\n",
              "      <td>52.180257</td>\n",
              "      <td>53.410485</td>\n",
              "    </tr>\n",
              "    <tr>\n",
              "      <th>10</th>\n",
              "      <td>8.0</td>\n",
              "      <td>61.422176</td>\n",
              "      <td>667.777204</td>\n",
              "    </tr>\n",
              "    <tr>\n",
              "      <th>11</th>\n",
              "      <td>9.0</td>\n",
              "      <td>20.779839</td>\n",
              "      <td>130.887102</td>\n",
              "    </tr>\n",
              "    <tr>\n",
              "      <th>12</th>\n",
              "      <td>49.0</td>\n",
              "      <td>0.000000</td>\n",
              "      <td>100.000000</td>\n",
              "    </tr>\n",
              "    <tr>\n",
              "      <th>13</th>\n",
              "      <td>33.0</td>\n",
              "      <td>0.000000</td>\n",
              "      <td>100.000000</td>\n",
              "    </tr>\n",
              "    <tr>\n",
              "      <th>14</th>\n",
              "      <td>0.0</td>\n",
              "      <td>276.740713</td>\n",
              "      <td>0.000000</td>\n",
              "    </tr>\n",
              "    <tr>\n",
              "      <th>15</th>\n",
              "      <td>73.0</td>\n",
              "      <td>0.000000</td>\n",
              "      <td>100.000000</td>\n",
              "    </tr>\n",
              "    <tr>\n",
              "      <th>16</th>\n",
              "      <td>5.0</td>\n",
              "      <td>0.000000</td>\n",
              "      <td>100.000000</td>\n",
              "    </tr>\n",
              "    <tr>\n",
              "      <th>17</th>\n",
              "      <td>16.0</td>\n",
              "      <td>0.000000</td>\n",
              "      <td>100.000000</td>\n",
              "    </tr>\n",
              "    <tr>\n",
              "      <th>18</th>\n",
              "      <td>8.0</td>\n",
              "      <td>0.000000</td>\n",
              "      <td>100.000000</td>\n",
              "    </tr>\n",
              "    <tr>\n",
              "      <th>19</th>\n",
              "      <td>10.0</td>\n",
              "      <td>93.488232</td>\n",
              "      <td>834.882322</td>\n",
              "    </tr>\n",
              "    <tr>\n",
              "      <th>20</th>\n",
              "      <td>23.0</td>\n",
              "      <td>0.000000</td>\n",
              "      <td>100.000000</td>\n",
              "    </tr>\n",
              "    <tr>\n",
              "      <th>21</th>\n",
              "      <td>13.0</td>\n",
              "      <td>59.178265</td>\n",
              "      <td>355.217422</td>\n",
              "    </tr>\n",
              "    <tr>\n",
              "      <th>22</th>\n",
              "      <td>53.0</td>\n",
              "      <td>40.432323</td>\n",
              "      <td>23.712598</td>\n",
              "    </tr>\n",
              "    <tr>\n",
              "      <th>23</th>\n",
              "      <td>25.0</td>\n",
              "      <td>32.017660</td>\n",
              "      <td>28.070640</td>\n",
              "    </tr>\n",
              "    <tr>\n",
              "      <th>24</th>\n",
              "      <td>22.0</td>\n",
              "      <td>59.067568</td>\n",
              "      <td>168.488944</td>\n",
              "    </tr>\n",
              "    <tr>\n",
              "      <th>25</th>\n",
              "      <td>92.0</td>\n",
              "      <td>112.537149</td>\n",
              "      <td>22.322988</td>\n",
              "    </tr>\n",
              "    <tr>\n",
              "      <th>26</th>\n",
              "      <td>970.0</td>\n",
              "      <td>817.531216</td>\n",
              "      <td>15.718431</td>\n",
              "    </tr>\n",
              "    <tr>\n",
              "      <th>27</th>\n",
              "      <td>23.0</td>\n",
              "      <td>65.064203</td>\n",
              "      <td>182.887838</td>\n",
              "    </tr>\n",
              "    <tr>\n",
              "      <th>28</th>\n",
              "      <td>65.0</td>\n",
              "      <td>75.537154</td>\n",
              "      <td>16.211006</td>\n",
              "    </tr>\n",
              "    <tr>\n",
              "      <th>29</th>\n",
              "      <td>16.0</td>\n",
              "      <td>42.780652</td>\n",
              "      <td>167.379077</td>\n",
              "    </tr>\n",
              "    <tr>\n",
              "      <th>30</th>\n",
              "      <td>110.0</td>\n",
              "      <td>126.130566</td>\n",
              "      <td>14.664151</td>\n",
              "    </tr>\n",
              "    <tr>\n",
              "      <th>31</th>\n",
              "      <td>62.0</td>\n",
              "      <td>39.780178</td>\n",
              "      <td>35.838423</td>\n",
              "    </tr>\n",
              "    <tr>\n",
              "      <th>32</th>\n",
              "      <td>9.0</td>\n",
              "      <td>58.618130</td>\n",
              "      <td>551.312557</td>\n",
              "    </tr>\n",
              "    <tr>\n",
              "      <th>33</th>\n",
              "      <td>87.0</td>\n",
              "      <td>100.467343</td>\n",
              "      <td>15.479704</td>\n",
              "    </tr>\n",
              "    <tr>\n",
              "      <th>34</th>\n",
              "      <td>8.0</td>\n",
              "      <td>0.000000</td>\n",
              "      <td>100.000000</td>\n",
              "    </tr>\n",
              "    <tr>\n",
              "      <th>35</th>\n",
              "      <td>14.0</td>\n",
              "      <td>0.000000</td>\n",
              "      <td>100.000000</td>\n",
              "    </tr>\n",
              "    <tr>\n",
              "      <th>36</th>\n",
              "      <td>1.0</td>\n",
              "      <td>8.158685</td>\n",
              "      <td>715.868461</td>\n",
              "    </tr>\n",
              "  </tbody>\n",
              "</table>\n",
              "</div>"
            ],
            "text/plain": [
              "    Actual   Predicted  MAPE (Mean Absolute Percentage Error)\n",
              "0      1.0    7.274190                             627.419018\n",
              "1      6.0   38.091033                             534.850542\n",
              "2    102.0    0.000000                             100.000000\n",
              "3      0.0   70.410195                               0.000000\n",
              "4      0.0   36.133927                               0.000000\n",
              "5      0.0   36.514477                               0.000000\n",
              "6     -2.0    0.976145                            -148.807272\n",
              "7    337.0  275.543961                              18.236213\n",
              "8     16.0    8.766981                              45.206368\n",
              "9    112.0   52.180257                              53.410485\n",
              "10     8.0   61.422176                             667.777204\n",
              "11     9.0   20.779839                             130.887102\n",
              "12    49.0    0.000000                             100.000000\n",
              "13    33.0    0.000000                             100.000000\n",
              "14     0.0  276.740713                               0.000000\n",
              "15    73.0    0.000000                             100.000000\n",
              "16     5.0    0.000000                             100.000000\n",
              "17    16.0    0.000000                             100.000000\n",
              "18     8.0    0.000000                             100.000000\n",
              "19    10.0   93.488232                             834.882322\n",
              "20    23.0    0.000000                             100.000000\n",
              "21    13.0   59.178265                             355.217422\n",
              "22    53.0   40.432323                              23.712598\n",
              "23    25.0   32.017660                              28.070640\n",
              "24    22.0   59.067568                             168.488944\n",
              "25    92.0  112.537149                              22.322988\n",
              "26   970.0  817.531216                              15.718431\n",
              "27    23.0   65.064203                             182.887838\n",
              "28    65.0   75.537154                              16.211006\n",
              "29    16.0   42.780652                             167.379077\n",
              "30   110.0  126.130566                              14.664151\n",
              "31    62.0   39.780178                              35.838423\n",
              "32     9.0   58.618130                             551.312557\n",
              "33    87.0  100.467343                              15.479704\n",
              "34     8.0    0.000000                             100.000000\n",
              "35    14.0    0.000000                             100.000000\n",
              "36     1.0    8.158685                             715.868461"
            ]
          },
          "metadata": {
            "tags": []
          },
          "execution_count": 151
        }
      ]
    },
    {
      "cell_type": "code",
      "metadata": {
        "scrolled": true,
        "id": "1JN6sZcBsvQ-",
        "colab": {
          "base_uri": "https://localhost:8080/",
          "height": 0
        },
        "outputId": "010c29d1-4814-4028-e6d2-9f0476023ba0"
      },
      "source": [
        "dff['MAPE (Mean Absolute Percentage Error)'].mean()"
      ],
      "execution_count": 152,
      "outputs": [
        {
          "output_type": "execute_result",
          "data": {
            "text/plain": [
              "164.244168119299"
            ]
          },
          "metadata": {
            "tags": []
          },
          "execution_count": 152
        }
      ]
    },
    {
      "cell_type": "code",
      "metadata": {
        "scrolled": false,
        "id": "qcXqN-zvsvQ-",
        "colab": {
          "base_uri": "https://localhost:8080/",
          "height": 0
        },
        "outputId": "7e7803a8-a9f7-40f7-9cce-63fa44700663"
      },
      "source": [
        "dff['MAPE (Mean Absolute Percentage Error)'].mean()/dff['MAPE (Mean Absolute Percentage Error)'].count()"
      ],
      "execution_count": 153,
      "outputs": [
        {
          "output_type": "execute_result",
          "data": {
            "text/plain": [
              "4.439031570791864"
            ]
          },
          "metadata": {
            "tags": []
          },
          "execution_count": 153
        }
      ]
    },
    {
      "cell_type": "code",
      "metadata": {
        "id": "w5cvVVg4svQ-",
        "colab": {
          "base_uri": "https://localhost:8080/",
          "height": 0
        },
        "outputId": "9de0b896-44e0-4383-b311-5cf068f029d9"
      },
      "source": [
        "dff['MAPE (Mean Absolute Percentage Error)'].count()"
      ],
      "execution_count": 154,
      "outputs": [
        {
          "output_type": "execute_result",
          "data": {
            "text/plain": [
              "37"
            ]
          },
          "metadata": {
            "tags": []
          },
          "execution_count": 154
        }
      ]
    },
    {
      "cell_type": "code",
      "metadata": {
        "scrolled": true,
        "id": "zAtB9zabsvQ_",
        "colab": {
          "base_uri": "https://localhost:8080/",
          "height": 0
        },
        "outputId": "ad501433-fb98-4f73-b9b7-fd1253f77dd5"
      },
      "source": [
        "#import necessary libraries\n",
        "from sklearn.metrics import mean_squared_error\n",
        "from math import sqrt\n",
        "\n",
        "#calculate RMSE\n",
        "sqrt(mean_squared_error(dff['Actual'],dff['Predicted'])) \n",
        "\n"
      ],
      "execution_count": 155,
      "outputs": [
        {
          "output_type": "execute_result",
          "data": {
            "text/plain": [
              "65.01888344394646"
            ]
          },
          "metadata": {
            "tags": []
          },
          "execution_count": 155
        }
      ]
    },
    {
      "cell_type": "code",
      "metadata": {
        "id": "6hb_DCtJsvQ_",
        "colab": {
          "base_uri": "https://localhost:8080/",
          "height": 0
        },
        "outputId": "a30059fa-7ad9-4c8b-efb4-0694e17b281d"
      },
      "source": [
        "len(dff['Actual']) , len(dff['Predicted'])"
      ],
      "execution_count": 156,
      "outputs": [
        {
          "output_type": "execute_result",
          "data": {
            "text/plain": [
              "(37, 37)"
            ]
          },
          "metadata": {
            "tags": []
          },
          "execution_count": 156
        }
      ]
    },
    {
      "cell_type": "code",
      "metadata": {
        "id": "DvG5zwKVsvQ_",
        "colab": {
          "base_uri": "https://localhost:8080/",
          "height": 0
        },
        "outputId": "0ebbe4e0-7a35-422a-be5d-6d8abda81fcb"
      },
      "source": [
        "def mape(actual, pred): \n",
        "    actual, pred = np.array(actual), np.array(pred)\n",
        "    return np.mean(np.abs((actual - pred) / actual)) * 100\n",
        "mape(dff['Actual'],dff['Predicted'])"
      ],
      "execution_count": 157,
      "outputs": [
        {
          "output_type": "stream",
          "text": [
            "/usr/local/lib/python3.6/dist-packages/ipykernel_launcher.py:3: RuntimeWarning:\n",
            "\n",
            "divide by zero encountered in true_divide\n",
            "\n"
          ],
          "name": "stderr"
        },
        {
          "output_type": "execute_result",
          "data": {
            "text/plain": [
              "inf"
            ]
          },
          "metadata": {
            "tags": []
          },
          "execution_count": 157
        }
      ]
    },
    {
      "cell_type": "code",
      "metadata": {
        "id": "UCMf2tKcsvRA"
      },
      "source": [
        "#!pip install PySimpleGUI"
      ],
      "execution_count": 158,
      "outputs": []
    },
    {
      "cell_type": "code",
      "metadata": {
        "id": "a7fsFCP8svRA"
      },
      "source": [
        "#!pip install PyInstaller"
      ],
      "execution_count": 159,
      "outputs": []
    },
    {
      "cell_type": "code",
      "metadata": {
        "id": "cdM5EngssvRA",
        "colab": {
          "base_uri": "https://localhost:8080/",
          "height": 278
        },
        "outputId": "8f131a90-5652-4912-8e2d-6ffb4f86c191"
      },
      "source": [
        "from fbprophet import Prophet\r\n",
        "\r\n",
        "\r\n",
        "m = Prophet()\r\n",
        "\r\n",
        "m.fit(new_dataframe)\r\n",
        "future = m.make_future_dataframe(periods=15)\r\n",
        "forecast = m.predict(future)\r\n",
        "forecast = forecast[[\"ds\",\"trend\", \"trend_lower\", \"trend_upper\"]]\r\n",
        "fig = m.plot_components(forecast,plot_cap=False)\r\n",
        "trend_ax = fig.axes[0]\r\n",
        "trend_ax.plot()\r\n",
        "plt.title(\"Trend for Retail Data\", fontsize=15)\r\n",
        "plt.xlabel(\"Date\", fontsize=15)\r\n",
        "plt.ylabel(\"Sales Trend\", fontsize=15)\r\n",
        "\r\n",
        "plt.show()"
      ],
      "execution_count": 160,
      "outputs": [
        {
          "output_type": "stream",
          "text": [
            "INFO:fbprophet:Disabling weekly seasonality. Run prophet with weekly_seasonality=True to override this.\n",
            "INFO:fbprophet:Disabling daily seasonality. Run prophet with daily_seasonality=True to override this.\n"
          ],
          "name": "stderr"
        },
        {
          "output_type": "display_data",
          "data": {
            "image/png": "[encoded data removed]",
            "text/plain": [
              "<Figure size 648x216 with 1 Axes>"
            ]
          },
          "metadata": {
            "tags": []
          }
        }
      ]
    },
    {
      "cell_type": "code",
      "metadata": {
        "colab": {
          "base_uri": "https://localhost:8080/",
          "height": 418
        },
        "id": "KO6cNMYxLUrC",
        "outputId": "fec9d3a3-2dce-439e-f2e5-5df2c9e9df78"
      },
      "source": [
        "series = new_dataframe.y\r\n",
        "window=15\r\n",
        "\r\n",
        "\r\n",
        "from sklearn.metrics import mean_absolute_error\r\n",
        "import matplotlib.pyplot as plt\r\n",
        "import seaborn as sns\r\n",
        "sns.set()\r\n",
        "\r\n",
        "green = sns.color_palette(\"deep\", 8)[2]\r\n",
        "blue = sns.color_palette(\"deep\", 8)[0]\r\n",
        "\r\n",
        "rolling_mean = series.rolling(window=window).mean()\r\n",
        "fig,ax = plt.subplots(figsize=(17,8))\r\n",
        "\r\n",
        "\r\n",
        "plt.title('Moving Average Model for Retail Sales',fontsize=15)\r\n",
        "\r\n",
        "plt.plot(rolling_mean, color = green, label='Rolling mean trend')\r\n",
        "\r\n",
        "#Plot confidence intervals for smoothed values\r\n",
        "mae = mean_absolute_error(series[window:], rolling_mean[window:])\r\n",
        "deviation = np.std(series[window:] - rolling_mean[window:])\r\n",
        "lower_bound = rolling_mean - (mae + 0.2 * deviation)\r\n",
        "upper_bound = rolling_mean + (mae + 4.5 * deviation)\r\n",
        "\r\n",
        "plt.plot(upper_bound, 'r--', label='Upper bound / Lower bound')\r\n",
        "plt.plot(lower_bound, 'r--')\r\n",
        "\r\n",
        "plt.plot(series[window:], color=blue,label='Actual values')\r\n",
        "\r\n",
        "\r\n",
        "plt.legend(loc='best')\r\n",
        "plt.grid(True)\r\n",
        "plt.xticks([])\r\n",
        "plt.show()"
      ],
      "execution_count": 192,
      "outputs": [
        {
          "output_type": "display_data",
          "data": {
            "image/png": "[encoded data removed]",
            "text/plain": [
              "<Figure size 1224x576 with 1 Axes>"
            ]
          },
          "metadata": {
            "tags": []
          }
        }
      ]
    },
    {
      "cell_type": "code",
      "metadata": {
        "colab": {
          "base_uri": "https://localhost:8080/",
          "height": 477
        },
        "id": "Pdl2LDHRMiN4",
        "outputId": "317a3ac3-4694-463d-cef9-c131f19aa18b"
      },
      "source": [
        "from statsmodels.tsa.api import ExponentialSmoothing\r\n",
        "import matplotlib.pyplot as plt\r\n",
        "import matplotlib.dates as mdates\r\n",
        "import seaborn as sns\r\n",
        "sns.set()\r\n",
        "import pandas as pd\r\n",
        "\r\n",
        "# Put the correct dataframe here!\r\n",
        "\r\n",
        "fit1 = ExponentialSmoothing(new_dataframe['y'][0:200]).fit(smoothing_level=0.1, optimized=False)\r\n",
        "\r\n",
        "fit2 = ExponentialSmoothing(new_dataframe['y'][0:300]).fit(smoothing_level=0.5, optimized=False)\r\n",
        "\r\n",
        "forecast1 = fit1.forecast(3).rename(r'$\\alpha=0.01$')\r\n",
        "forecast2 = fit2.forecast(3).rename(r'$\\alpha=0.5$')\r\n",
        "plt.figure(figsize=(17,8))\r\n",
        "\r\n",
        "#forecast1.plot(color='blue', legend=True)\r\n",
        "forecast2.plot(color='red', legend=True)\r\n",
        "new_dataframe['y'][0:200].plot(marker='',color='green', legend=True)\r\n",
        "plt.ylabel(\"Sales\", fontsize=15)\r\n",
        "\r\n",
        "#fit1.fittedvalues.plot(color='blue')\r\n",
        "fit2.fittedvalues.plot(color='red')\r\n",
        "\r\n",
        "plt.title(\"Exponential Smoothing for Retail Data\", fontsize=15)\r\n",
        "plt.xticks([], minor=True)\r\n",
        "plt.show()"
      ],
      "execution_count": 162,
      "outputs": [
        {
          "output_type": "stream",
          "text": [
            "/usr/local/lib/python3.6/dist-packages/statsmodels/tsa/holtwinters/model.py:429: FutureWarning:\n",
            "\n",
            "After 0.13 initialization must be handled at model creation\n",
            "\n"
          ],
          "name": "stderr"
        },
        {
          "output_type": "display_data",
          "data": {
            "image/png": "[encoded data removed]",
            "text/plain": [
              "<Figure size 1224x576 with 1 Axes>"
            ]
          },
          "metadata": {
            "tags": []
          }
        }
      ]
    },
    {
      "cell_type": "code",
      "metadata": {
        "colab": {
          "base_uri": "https://localhost:8080/",
          "height": 811
        },
        "id": "YgabOXo3OxvR",
        "outputId": "d292c86c-475e-4d3e-d649-b601b8e2a50e"
      },
      "source": [
        "from statsmodels.tsa.arima_model import ARIMA\r\n",
        "from sklearn.metrics import mean_squared_error\r\n",
        "import pandas as pd\r\n",
        "import matplotlib.pyplot as plt\r\n",
        "import seaborn as sns\r\n",
        "sns.set()\r\n",
        "\r\n",
        "\r\n",
        "\r\n",
        "X = new_dataframe['y'].values\r\n",
        "\r\n",
        "split = int(0.66*len(X))\r\n",
        "train, test = X[0:split], X[split:]\r\n",
        "\r\n",
        "history = [x for x in train]\r\n",
        "predictions = []\r\n",
        "for t in range(len(test)):\r\n",
        "\tmodel = ARIMA(history, order=(0,1,0))\r\n",
        "\tmodel_fit = model.fit(disp=0)\r\n",
        "\toutput = model_fit.forecast()\r\n",
        "\tyhat = output[0]\r\n",
        "\tpredictions.append(yhat)\r\n",
        "    \r\n",
        "\tobs = test[t]\r\n",
        "\thistory.append(obs)\r\n",
        "mse = mean_squared_error(test, predictions)\r\n",
        "\r\n",
        "print(f\"MSE error: {mse}\")\r\n",
        "\r\n",
        "plt.figure(figsize=(17,8))\r\n",
        "plt.plot(test)\r\n",
        "plt.plot(predictions, color='red')\r\n",
        "plt.title(\"ARIMA fit to Sales Data\",fontsize=15)\r\n",
        "plt.xlabel(\"Month\", fontsize=15)\r\n",
        "plt.ylabel(\"Sales Trend\", fontsize=15)\r\n",
        "plt.show()"
      ],
      "execution_count": 184,
      "outputs": [
        {
          "output_type": "stream",
          "text": [
            "/usr/local/lib/python3.6/dist-packages/statsmodels/tsa/arima_model.py:472: FutureWarning:\n",
            "\n",
            "\n",
            "statsmodels.tsa.arima_model.ARMA and statsmodels.tsa.arima_model.ARIMA have\n",
            "been deprecated in favor of statsmodels.tsa.arima.model.ARIMA (note the .\n",
            "between arima and model) and\n",
            "statsmodels.tsa.SARIMAX. These will be removed after the 0.12 release.\n",
            "\n",
            "statsmodels.tsa.arima.model.ARIMA makes use of the statespace framework and\n",
            "is both well tested and maintained.\n",
            "\n",
            "To silence this warning and continue using ARMA and ARIMA until they are\n",
            "removed, use:\n",
            "\n",
            "import warnings\n",
            "warnings.filterwarnings('ignore', 'statsmodels.tsa.arima_model.ARMA',\n",
            "                        FutureWarning)\n",
            "warnings.filterwarnings('ignore', 'statsmodels.tsa.arima_model.ARIMA',\n",
            "                        FutureWarning)\n",
            "\n",
            "\n"
          ],
          "name": "stderr"
        },
        {
          "output_type": "stream",
          "text": [
            "MSE error: 136135.06507707332\n"
          ],
          "name": "stdout"
        },
        {
          "output_type": "display_data",
          "data": {
            "image/png": "[encoded data removed]",
            "text/plain": [
              "<Figure size 1224x576 with 1 Axes>"
            ]
          },
          "metadata": {
            "tags": []
          }
        }
      ]
    },
    {
      "cell_type": "code",
      "metadata": {
        "id": "u3kUCX7RQCMx",
        "colab": {
          "base_uri": "https://localhost:8080/",
          "height": 312
        },
        "outputId": "125c90a2-4b07-4081-970d-1607f0e150b9"
      },
      "source": [
        "from sklearn.metrics import mean_squared_error\r\n",
        "from pandas import read_csv\r\n",
        "from pandas import datetime\r\n",
        "\r\n",
        "# parse dates\r\n",
        "def custom_parser(x):\r\n",
        "\treturn datetime.strptime(x, '%b-%y')\r\n",
        " \r\n",
        "auto_cor = read_csv('/content/drive/MyDrive/altered sales dataset.csv', header=0, index_col=0, date_parser=custom_parser)\r\n",
        "\r\n",
        "auto_cor = pd.DataFrame(auto_cor)\r\n",
        "auto_cor.head()"
      ],
      "execution_count": 177,
      "outputs": [
        {
          "output_type": "stream",
          "text": [
            "/usr/local/lib/python3.6/dist-packages/ipykernel_launcher.py:7: FutureWarning:\n",
            "\n",
            "The pandas.datetime class is deprecated and will be removed from pandas in a future version. Import from datetime instead.\n",
            "\n"
          ],
          "name": "stderr"
        },
        {
          "output_type": "execute_result",
          "data": {
            "text/html": [
              "<div>\n",
              "<style scoped>\n",
              "    .dataframe tbody tr th:only-of-type {\n",
              "        vertical-align: middle;\n",
              "    }\n",
              "\n",
              "    .dataframe tbody tr th {\n",
              "        vertical-align: top;\n",
              "    }\n",
              "\n",
              "    .dataframe thead th {\n",
              "        text-align: right;\n",
              "    }\n",
              "</style>\n",
              "<table border=\"1\" class=\"dataframe\">\n",
              "  <thead>\n",
              "    <tr style=\"text-align: right;\">\n",
              "      <th></th>\n",
              "      <th>Sales</th>\n",
              "    </tr>\n",
              "    <tr>\n",
              "      <th>Month</th>\n",
              "      <th></th>\n",
              "    </tr>\n",
              "  </thead>\n",
              "  <tbody>\n",
              "    <tr>\n",
              "      <th>2017-05-01</th>\n",
              "      <td>20876.5</td>\n",
              "    </tr>\n",
              "    <tr>\n",
              "      <th>2017-06-01</th>\n",
              "      <td>17675.0</td>\n",
              "    </tr>\n",
              "    <tr>\n",
              "      <th>2017-07-01</th>\n",
              "      <td>34743.0</td>\n",
              "    </tr>\n",
              "    <tr>\n",
              "      <th>2017-08-01</th>\n",
              "      <td>32326.0</td>\n",
              "    </tr>\n",
              "    <tr>\n",
              "      <th>2017-09-01</th>\n",
              "      <td>16297.0</td>\n",
              "    </tr>\n",
              "  </tbody>\n",
              "</table>\n",
              "</div>"
            ],
            "text/plain": [
              "              Sales\n",
              "Month              \n",
              "2017-05-01  20876.5\n",
              "2017-06-01  17675.0\n",
              "2017-07-01  34743.0\n",
              "2017-08-01  32326.0\n",
              "2017-09-01  16297.0"
            ]
          },
          "metadata": {
            "tags": []
          },
          "execution_count": 177
        }
      ]
    },
    {
      "cell_type": "code",
      "metadata": {
        "id": "8PVUp3YacrCj"
      },
      "source": [
        "# Split train and test sets in correspondence with Time series data\r\n",
        "def ts_train_test_split(X, y, test_size):\r\n",
        "    test_index = int(len(X)*(1-test_size))\r\n",
        "    X_train = X.iloc[:test_index]\r\n",
        "    y_train = y.iloc[:test_index]\r\n",
        "    X_test = X.iloc[test_index:]\r\n",
        "    y_test = y.iloc[test_index:]\r\n",
        "    \r\n",
        "    return X_train, X_test, y_train, y_test"
      ],
      "execution_count": null,
      "outputs": []
    },
    {
      "cell_type": "code",
      "metadata": {
        "colab": {
          "base_uri": "https://localhost:8080/",
          "height": 436
        },
        "id": "N6BbJNjD40eh",
        "outputId": "52ae7205-14e9-4002-ba79-004d62badee0"
      },
      "source": [
        "auto_cor.columns = [\"y\"]\r\n",
        "\r\n",
        "# Adding the lag of the target variable from 1 steps back up to 52 (due to a seasonality at the end of the year)\r\n",
        "for i in range(1, 53):\r\n",
        "    auto_cor[\"lag_{}\".format(i)] = auto_cor.y.shift(i)\r\n",
        "\r\n",
        "# Compute autocorrelation of the series and its lags\r\n",
        "lag_corr = auto_cor.corr()\r\n",
        "lag_corr = lag_corr.iloc[1:,0]\r\n",
        "lag_corr.columns = [\"corr\"]\r\n",
        "order = lag_corr.abs().sort_values(ascending = False)\r\n",
        "lag_corr = lag_corr[order.index]\r\n",
        "\r\n",
        "# Plot the Autocorrelation\r\n",
        "plt.figure(figsize=(12, 6))\r\n",
        "lag_corr.plot(kind='bar')\r\n",
        "plt.grid(True, axis='y')\r\n",
        "plt.title(\"Autocorrelation\")\r\n",
        "plt.hlines(y=0, xmin=0, xmax=len(lag_corr), linestyles='dashed')\r\n",
        "\r\n"
      ],
      "execution_count": 176,
      "outputs": [
        {
          "output_type": "execute_result",
          "data": {
            "text/plain": [
              "<matplotlib.collections.LineCollection at 0x7f3428db6080>"
            ]
          },
          "metadata": {
            "tags": []
          },
          "execution_count": 176
        },
        {
          "output_type": "display_data",
          "data": {
            "image/png": "[encoded data removed]",
            "text/plain": [
              "<Figure size 864x432 with 1 Axes>"
            ]
          },
          "metadata": {
            "tags": []
          }
        }
      ]
    },
    {
      "cell_type": "code",
      "metadata": {
        "colab": {
          "base_uri": "https://localhost:8080/",
          "height": 0
        },
        "id": "LGIkothlFQw0",
        "outputId": "3ad71730-f4b2-4acb-b909-e5758320fb21"
      },
      "source": [
        "!pip install pmdarima"
      ],
      "execution_count": 165,
      "outputs": [
        {
          "output_type": "stream",
          "text": [
            "Requirement already satisfied: pmdarima in /usr/local/lib/python3.6/dist-packages (1.8.0)\n",
            "Requirement already satisfied: pandas>=0.19 in /usr/local/lib/python3.6/dist-packages (from pmdarima) (1.1.5)\n",
            "Requirement already satisfied: scipy>=1.3.2 in /usr/local/lib/python3.6/dist-packages (from pmdarima) (1.4.1)\n",
            "Requirement already satisfied: urllib3 in /usr/local/lib/python3.6/dist-packages (from pmdarima) (1.24.3)\n",
            "Requirement already satisfied: statsmodels!=0.12.0,>=0.11 in /usr/local/lib/python3.6/dist-packages (from pmdarima) (0.12.1)\n",
            "Requirement already satisfied: numpy>=1.17.3 in /usr/local/lib/python3.6/dist-packages (from pmdarima) (1.19.4)\n",
            "Requirement already satisfied: scikit-learn>=0.22 in /usr/local/lib/python3.6/dist-packages (from pmdarima) (0.22.2.post1)\n",
            "Requirement already satisfied: Cython<0.29.18,>=0.29 in /usr/local/lib/python3.6/dist-packages (from pmdarima) (0.29.17)\n",
            "Requirement already satisfied: joblib>=0.11 in /usr/local/lib/python3.6/dist-packages (from pmdarima) (1.0.0)\n",
            "Requirement already satisfied: setuptools!=50.0.0,>=38.6.0 in /usr/local/lib/python3.6/dist-packages (from pmdarima) (51.0.0)\n",
            "Requirement already satisfied: pytz>=2017.2 in /usr/local/lib/python3.6/dist-packages (from pandas>=0.19->pmdarima) (2018.9)\n",
            "Requirement already satisfied: python-dateutil>=2.7.3 in /usr/local/lib/python3.6/dist-packages (from pandas>=0.19->pmdarima) (2.8.1)\n",
            "Requirement already satisfied: patsy>=0.5 in /usr/local/lib/python3.6/dist-packages (from statsmodels!=0.12.0,>=0.11->pmdarima) (0.5.1)\n",
            "Requirement already satisfied: six>=1.5 in /usr/local/lib/python3.6/dist-packages (from python-dateutil>=2.7.3->pandas>=0.19->pmdarima) (1.15.0)\n"
          ],
          "name": "stdout"
        }
      ]
    },
    {
      "cell_type": "code",
      "metadata": {
        "id": "coBpS8hPKRWY"
      },
      "source": [
        "data = series.values"
      ],
      "execution_count": 166,
      "outputs": []
    },
    {
      "cell_type": "code",
      "metadata": {
        "colab": {
          "base_uri": "https://localhost:8080/",
          "height": 0
        },
        "id": "RPhFLArrBaSz",
        "outputId": "cc908993-a6b9-456a-c49a-bdd2d0592a53"
      },
      "source": [
        "data = series.values\r\n",
        "import pmdarima as pm \r\n",
        "stepwise_model = pm.auto_arima(data, start_p=1, start_q=1,\r\n",
        "                               max_p=20, max_q=20, m=30,\r\n",
        "                               start_P=0, seasonal=True,\r\n",
        "                               d=1, D=1, trace=True,\r\n",
        "                               error_action='ignore',  \r\n",
        "                               suppress_warnings=True, \r\n",
        "                               stepwise=True)\r\n",
        "print(stepwise_model.aic())"
      ],
      "execution_count": 167,
      "outputs": [
        {
          "output_type": "stream",
          "text": [
            "Performing stepwise search to minimize aic\n",
            " ARIMA(1,1,1)(0,1,1)[30]             : AIC=inf, Time=0.82 sec\n",
            " ARIMA(0,1,0)(0,1,0)[30]             : AIC=74.659, Time=0.05 sec\n",
            " ARIMA(1,1,0)(1,1,0)[30]             : AIC=inf, Time=1.52 sec\n",
            " ARIMA(0,1,1)(0,1,1)[30]             : AIC=inf, Time=0.37 sec\n",
            " ARIMA(0,1,0)(1,1,0)[30]             : AIC=inf, Time=1.00 sec\n",
            " ARIMA(0,1,0)(0,1,1)[30]             : AIC=inf, Time=0.65 sec\n",
            " ARIMA(0,1,0)(1,1,1)[30]             : AIC=78.594, Time=1.97 sec\n",
            " ARIMA(1,1,0)(0,1,0)[30]             : AIC=74.870, Time=0.08 sec\n",
            " ARIMA(0,1,1)(0,1,0)[30]             : AIC=inf, Time=0.09 sec\n",
            " ARIMA(1,1,1)(0,1,0)[30]             : AIC=inf, Time=0.20 sec\n",
            " ARIMA(0,1,0)(0,1,0)[30] intercept   : AIC=76.480, Time=0.03 sec\n",
            "\n",
            "Best model:  ARIMA(0,1,0)(0,1,0)[30]          \n",
            "Total fit time: 6.805 seconds\n",
            "74.65850964065596\n"
          ],
          "name": "stdout"
        }
      ]
    },
    {
      "cell_type": "code",
      "metadata": {
        "colab": {
          "base_uri": "https://localhost:8080/",
          "height": 436
        },
        "id": "yPtzURDPHA2v",
        "outputId": "83ec7f59-f48b-4a41-ae9e-2ed87d94760c"
      },
      "source": [
        "# Compute Residual\r\n",
        "pred = stepwise_model.predict(n_periods=13)\r\n",
        "train_pred = stepwise_model.predict(n_periods=24)\r\n",
        "r_train = train - train_pred\r\n",
        "r_test = test - pred\r\n",
        "residual = pd.DataFrame(np.concatenate((r_train,r_test)), columns={\"y\"})\r\n",
        "\r\n",
        "\r\n",
        "# Generate lag of Residuals from 1 step to 52 steps\r\n",
        "# Adding the lag of the target variable from 1 steps back up to 52 \r\n",
        "for i in range(1, 53):\r\n",
        "    residual[\"lag_{}\".format(i)] = residual.y.shift(i)\r\n",
        "\r\n",
        "# Compute correlation of the Residual series and its lags\r\n",
        "lag_corr = residual.corr()\r\n",
        "lag_corr = lag_corr.iloc[1:,0]\r\n",
        "lag_corr.columns = [\"corr\"]\r\n",
        "order = lag_corr.abs().sort_values(ascending = False)\r\n",
        "lag_corr = lag_corr[order.index]\r\n",
        "\r\n",
        "# Plot the Residual Autocorrelation\r\n",
        "plt.figure(figsize=(12, 6))\r\n",
        "lag_corr.plot(kind='bar')\r\n",
        "plt.grid(True, axis='y')\r\n",
        "plt.title(\"Autocorrelation\")\r\n",
        "plt.hlines(y=0, xmin=0, xmax=len(lag_corr), linestyles='dashed')\r\n"
      ],
      "execution_count": 168,
      "outputs": [
        {
          "output_type": "execute_result",
          "data": {
            "text/plain": [
              "<matplotlib.collections.LineCollection at 0x7f3430c73cf8>"
            ]
          },
          "metadata": {
            "tags": []
          },
          "execution_count": 168
        },
        {
          "output_type": "display_data",
          "data": {
            "image/png": "[encoded data removed]",
            "text/plain": [
              "<Figure size 864x432 with 1 Axes>"
            ]
          },
          "metadata": {
            "tags": []
          }
        }
      ]
    },
    {
      "cell_type": "code",
      "metadata": {
        "colab": {
          "base_uri": "https://localhost:8080/",
          "height": 318
        },
        "id": "vfswBbQBzLBj",
        "outputId": "544f5026-019d-468c-e6c6-ae532bddd63b"
      },
      "source": [
        "\r\n",
        "# Plot other Criteria (Distribution, Variance, Residual mean)\r\n",
        "# Residual mean and Distribution\r\n",
        "print(\"Residual mean: \",residual.iloc[:,0].mean())\r\n",
        "plt.hist(residual.iloc[:,0], bins=20)\r\n",
        "plt.title(\"Residual Distribution\")\r\n"
      ],
      "execution_count": 169,
      "outputs": [
        {
          "output_type": "stream",
          "text": [
            "Residual mean:  -13.48648648648637\n"
          ],
          "name": "stdout"
        },
        {
          "output_type": "execute_result",
          "data": {
            "text/plain": [
              "Text(0.5, 1.0, 'Residual Distribution')"
            ]
          },
          "metadata": {
            "tags": []
          },
          "execution_count": 169
        },
        {
          "output_type": "display_data",
          "data": {
            "image/png": "[encoded data removed]",
            "text/plain": [
              "<Figure size 432x288 with 1 Axes>"
            ]
          },
          "metadata": {
            "tags": []
          }
        }
      ]
    },
    {
      "cell_type": "code",
      "metadata": {
        "colab": {
          "base_uri": "https://localhost:8080/",
          "height": 301
        },
        "id": "ckflnoS8zcIy",
        "outputId": "160a0bf7-7d7e-46ff-a19d-eb006c1ca6f2"
      },
      "source": [
        "#Residual variance \r\n",
        "plt.plot(residual.iloc[:,0]) \r\n",
        "plt.title(\"Residual\") \r\n",
        "plt.hlines(y=0, xmin=0, xmax=len(residual), linestyles='dashed')\r\n"
      ],
      "execution_count": 170,
      "outputs": [
        {
          "output_type": "execute_result",
          "data": {
            "text/plain": [
              "<matplotlib.collections.LineCollection at 0x7f343031e7f0>"
            ]
          },
          "metadata": {
            "tags": []
          },
          "execution_count": 170
        },
        {
          "output_type": "display_data",
          "data": {
            "image/png": "[encoded data removed]",
            "text/plain": [
              "<Figure size 432x288 with 1 Axes>"
            ]
          },
          "metadata": {
            "tags": []
          }
        }
      ]
    },
    {
      "cell_type": "code",
      "metadata": {
        "id": "iJ7msv4wyyZ5"
      },
      "source": [
        ""
      ],
      "execution_count": 171,
      "outputs": []
    }
  ]
}