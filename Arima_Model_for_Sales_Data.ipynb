{
  "nbformat": 4,
  "nbformat_minor": 0,
  "metadata": {
    "kernelspec": {
      "display_name": "Python 3",
      "language": "python",
      "name": "python3"
    },
    "language_info": {
      "codemirror_mode": {
        "name": "ipython",
        "version": 3
      },
      "file_extension": ".py",
      "mimetype": "text/x-python",
      "name": "python",
      "nbconvert_exporter": "python",
      "pygments_lexer": "ipython3",
      "version": "3.8.5"
    },
    "colab": {
      "name": "Arima Model for Sales Data.ipynb",
      "provenance": [],
      "collapsed_sections": [],
      "toc_visible": true,
      "include_colab_link": true
    }
  },
  "cells": [
    {
      "cell_type": "markdown",
      "metadata": {
        "id": "view-in-github",
        "colab_type": "text"
      },
      "source": [
        "<a href=\"https://colab.research.google.com/github/sujikathir/Sales-Forecasting/blob/main/Arima_Model_for_Sales_Data.ipynb\" target=\"_parent\"><img src=\"https://colab.research.google.com/assets/colab-badge.svg\" alt=\"Open In Colab\"/></a>"
      ]
    },
    {
      "cell_type": "code",
      "metadata": {
        "id": "Ns0-BVhnsvQw"
      },
      "source": [
        "#1.Load the necessary libraries\n",
        "import numpy as np\n",
        "import pandas as pd\n",
        "import matplotlib.pyplot as plt\n",
        "import fbprophet\n",
        "%matplotlib inline\n",
        "import datetime\n",
        "import plotly"
      ],
      "execution_count": null,
      "outputs": []
    },
    {
      "cell_type": "code",
      "metadata": {
        "colab": {
          "base_uri": "https://localhost:8080/"
        },
        "id": "prHcWhxWs0kO",
        "outputId": "29deec30-3e43-4a1f-db66-56ba58a61791"
      },
      "source": [
        "from google.colab import drive\n",
        "drive.mount('/content/drive')"
      ],
      "execution_count": null,
      "outputs": [
        {
          "output_type": "stream",
          "text": [
            "Drive already mounted at /content/drive; to attempt to forcibly remount, call drive.mount(\"/content/drive\", force_remount=True).\n"
          ],
          "name": "stdout"
        }
      ]
    },
    {
      "cell_type": "code",
      "metadata": {
        "id": "RdL1VOxzsvQy"
      },
      "source": [
        "# 2.Load the data\n",
        "data=pd.read_csv('/content/drive/MyDrive/Sales Dataset 2020.csv')"
      ],
      "execution_count": null,
      "outputs": []
    },
    {
      "cell_type": "code",
      "metadata": {
        "scrolled": true,
        "colab": {
          "base_uri": "https://localhost:8080/",
          "height": 260
        },
        "id": "CiwnhDVFsvQz",
        "outputId": "77a2195d-025c-4734-8264-4431ab559e05"
      },
      "source": [
        "# 3.Convert the column name (ID) into index\n",
        "df=data.set_index('ID',drop= True)\n",
        "df.head()"
      ],
      "execution_count": null,
      "outputs": [
        {
          "output_type": "execute_result",
          "data": {
            "text/html": [
              "<div>\n",
              "<style scoped>\n",
              "    .dataframe tbody tr th:only-of-type {\n",
              "        vertical-align: middle;\n",
              "    }\n",
              "\n",
              "    .dataframe tbody tr th {\n",
              "        vertical-align: top;\n",
              "    }\n",
              "\n",
              "    .dataframe thead th {\n",
              "        text-align: right;\n",
              "    }\n",
              "</style>\n",
              "<table border=\"1\" class=\"dataframe\">\n",
              "  <thead>\n",
              "    <tr style=\"text-align: right;\">\n",
              "      <th></th>\n",
              "      <th>Item No.</th>\n",
              "      <th>May-17</th>\n",
              "      <th>Jun-17</th>\n",
              "      <th>Jul-17</th>\n",
              "      <th>Aug-17</th>\n",
              "      <th>Sep-17</th>\n",
              "      <th>Oct-17</th>\n",
              "      <th>Nov-17</th>\n",
              "      <th>Dec-17</th>\n",
              "      <th>Jan-18</th>\n",
              "      <th>Feb-18</th>\n",
              "      <th>Mar-18</th>\n",
              "      <th>Apr-18</th>\n",
              "      <th>May-18</th>\n",
              "      <th>Jun-18</th>\n",
              "      <th>Jul-18</th>\n",
              "      <th>Aug-18</th>\n",
              "      <th>Sep-18</th>\n",
              "      <th>Oct-18</th>\n",
              "      <th>Nov-18</th>\n",
              "      <th>Dec-18</th>\n",
              "      <th>Jan-19</th>\n",
              "      <th>Feb-19</th>\n",
              "      <th>Mar-19</th>\n",
              "      <th>Apr-19</th>\n",
              "      <th>May-19</th>\n",
              "      <th>Jun-19</th>\n",
              "      <th>Jul-19</th>\n",
              "      <th>Aug-19</th>\n",
              "      <th>Sep-19</th>\n",
              "      <th>Oct-19</th>\n",
              "      <th>Nov-19</th>\n",
              "      <th>Dec-19</th>\n",
              "      <th>Jan-20</th>\n",
              "      <th>Feb-20</th>\n",
              "      <th>Mar-20</th>\n",
              "      <th>Apr-20</th>\n",
              "      <th>May-20</th>\n",
              "      <th>Q2-2017</th>\n",
              "      <th>Q3-2017</th>\n",
              "      <th>Q4-2017</th>\n",
              "      <th>Q1-2018</th>\n",
              "      <th>Q2-2018</th>\n",
              "      <th>Q3-2018</th>\n",
              "      <th>Q4-2018</th>\n",
              "      <th>Q1-2019</th>\n",
              "      <th>Q2-2019</th>\n",
              "      <th>Q3-2019</th>\n",
              "      <th>Q4-2019</th>\n",
              "      <th>Q1-2020</th>\n",
              "      <th>Q2-2020</th>\n",
              "      <th>Year-2017</th>\n",
              "      <th>Year-2018</th>\n",
              "      <th>Year-2019</th>\n",
              "      <th>Year-2020</th>\n",
              "      <th>Total Sales</th>\n",
              "      <th>Category</th>\n",
              "    </tr>\n",
              "    <tr>\n",
              "      <th>ID</th>\n",
              "      <th></th>\n",
              "      <th></th>\n",
              "      <th></th>\n",
              "      <th></th>\n",
              "      <th></th>\n",
              "      <th></th>\n",
              "      <th></th>\n",
              "      <th></th>\n",
              "      <th></th>\n",
              "      <th></th>\n",
              "      <th></th>\n",
              "      <th></th>\n",
              "      <th></th>\n",
              "      <th></th>\n",
              "      <th></th>\n",
              "      <th></th>\n",
              "      <th></th>\n",
              "      <th></th>\n",
              "      <th></th>\n",
              "      <th></th>\n",
              "      <th></th>\n",
              "      <th></th>\n",
              "      <th></th>\n",
              "      <th></th>\n",
              "      <th></th>\n",
              "      <th></th>\n",
              "      <th></th>\n",
              "      <th></th>\n",
              "      <th></th>\n",
              "      <th></th>\n",
              "      <th></th>\n",
              "      <th></th>\n",
              "      <th></th>\n",
              "      <th></th>\n",
              "      <th></th>\n",
              "      <th></th>\n",
              "      <th></th>\n",
              "      <th></th>\n",
              "      <th></th>\n",
              "      <th></th>\n",
              "      <th></th>\n",
              "      <th></th>\n",
              "      <th></th>\n",
              "      <th></th>\n",
              "      <th></th>\n",
              "      <th></th>\n",
              "      <th></th>\n",
              "      <th></th>\n",
              "      <th></th>\n",
              "      <th></th>\n",
              "      <th></th>\n",
              "      <th></th>\n",
              "      <th></th>\n",
              "      <th></th>\n",
              "      <th></th>\n",
              "      <th></th>\n",
              "      <th></th>\n",
              "    </tr>\n",
              "  </thead>\n",
              "  <tbody>\n",
              "    <tr>\n",
              "      <th>2613</th>\n",
              "      <td>10697</td>\n",
              "      <td>1081.00000000</td>\n",
              "      <td>150</td>\n",
              "      <td>4013</td>\n",
              "      <td>2251</td>\n",
              "      <td>4059</td>\n",
              "      <td>6176</td>\n",
              "      <td>2744.00000000</td>\n",
              "      <td>2667</td>\n",
              "      <td>2668</td>\n",
              "      <td>2331</td>\n",
              "      <td>3695.00000000</td>\n",
              "      <td>3999</td>\n",
              "      <td>3539.00000000</td>\n",
              "      <td>2457.00000000</td>\n",
              "      <td>5605.00000000</td>\n",
              "      <td>1226.00000000</td>\n",
              "      <td>2712.00000000</td>\n",
              "      <td>3434.00000000</td>\n",
              "      <td>767.00000000</td>\n",
              "      <td>402.00000000</td>\n",
              "      <td>727.00000000</td>\n",
              "      <td>3574.00000000</td>\n",
              "      <td>200.00000000</td>\n",
              "      <td>102.00000000</td>\n",
              "      <td>204.00000000</td>\n",
              "      <td>2205.00000000</td>\n",
              "      <td>2711</td>\n",
              "      <td>1942</td>\n",
              "      <td>708.00000000</td>\n",
              "      <td>1224.00000000</td>\n",
              "      <td>2101.00000000</td>\n",
              "      <td>1735.00000000</td>\n",
              "      <td>1500.00000000</td>\n",
              "      <td>380.00000000</td>\n",
              "      <td>767.00000000</td>\n",
              "      <td>2000.00000000</td>\n",
              "      <td>826</td>\n",
              "      <td>1231.00000000</td>\n",
              "      <td>10323</td>\n",
              "      <td>11587.00000000</td>\n",
              "      <td>8694.00000000</td>\n",
              "      <td>9995.00000000</td>\n",
              "      <td>9543.00000000</td>\n",
              "      <td>4603.00000000</td>\n",
              "      <td>4501.00000000</td>\n",
              "      <td>2511.00000000</td>\n",
              "      <td>5361.00000000</td>\n",
              "      <td>5060.00000000</td>\n",
              "      <td>2647.00000000</td>\n",
              "      <td>2826.00000000</td>\n",
              "      <td>23141.00000000</td>\n",
              "      <td>32835.00000000</td>\n",
              "      <td>17433.00000000</td>\n",
              "      <td>5473.00000000</td>\n",
              "      <td>78882.00000000</td>\n",
              "      <td>1</td>\n",
              "    </tr>\n",
              "    <tr>\n",
              "      <th>4264</th>\n",
              "      <td>14300</td>\n",
              "      <td>67.00000000</td>\n",
              "      <td>11</td>\n",
              "      <td>42</td>\n",
              "      <td>31</td>\n",
              "      <td>90</td>\n",
              "      <td>107</td>\n",
              "      <td>23.00000000</td>\n",
              "      <td>80</td>\n",
              "      <td>29</td>\n",
              "      <td>56</td>\n",
              "      <td>82.00000000</td>\n",
              "      <td>31</td>\n",
              "      <td>114.00000000</td>\n",
              "      <td>32.00000000</td>\n",
              "      <td>100.00000000</td>\n",
              "      <td>76.00000000</td>\n",
              "      <td>50.00000000</td>\n",
              "      <td>35.00000000</td>\n",
              "      <td>102.00000000</td>\n",
              "      <td>20.00000000</td>\n",
              "      <td>4.00000000</td>\n",
              "      <td>10.00000000</td>\n",
              "      <td>60.00000000</td>\n",
              "      <td>3.00000000</td>\n",
              "      <td>30.00000000</td>\n",
              "      <td>77.00000000</td>\n",
              "      <td>83</td>\n",
              "      <td>15</td>\n",
              "      <td>40.00000000</td>\n",
              "      <td>110.00000000</td>\n",
              "      <td>35.00000000</td>\n",
              "      <td>60.00000000</td>\n",
              "      <td>42.00000000</td>\n",
              "      <td>11.00000000</td>\n",
              "      <td>63.00000000</td>\n",
              "      <td>120.00000000</td>\n",
              "      <td>21</td>\n",
              "      <td>78.00000000</td>\n",
              "      <td>163</td>\n",
              "      <td>210.00000000</td>\n",
              "      <td>167.00000000</td>\n",
              "      <td>177.00000000</td>\n",
              "      <td>226.00000000</td>\n",
              "      <td>157.00000000</td>\n",
              "      <td>74.00000000</td>\n",
              "      <td>110.00000000</td>\n",
              "      <td>138.00000000</td>\n",
              "      <td>205.00000000</td>\n",
              "      <td>116.00000000</td>\n",
              "      <td>141.00000000</td>\n",
              "      <td>451.00000000</td>\n",
              "      <td>727.00000000</td>\n",
              "      <td>527.00000000</td>\n",
              "      <td>257.00000000</td>\n",
              "      <td>1962.00000000</td>\n",
              "      <td>0</td>\n",
              "    </tr>\n",
              "    <tr>\n",
              "      <th>2747</th>\n",
              "      <td>10922</td>\n",
              "      <td>2.00000000</td>\n",
              "      <td>0</td>\n",
              "      <td>1</td>\n",
              "      <td>8</td>\n",
              "      <td>19</td>\n",
              "      <td>20</td>\n",
              "      <td>34.00000000</td>\n",
              "      <td>36</td>\n",
              "      <td>24</td>\n",
              "      <td>43</td>\n",
              "      <td>26.00000000</td>\n",
              "      <td>31</td>\n",
              "      <td>38.00000000</td>\n",
              "      <td>37.00000000</td>\n",
              "      <td>34.00000000</td>\n",
              "      <td>29.00000000</td>\n",
              "      <td>30.00000000</td>\n",
              "      <td>28.00000000</td>\n",
              "      <td>37.00000000</td>\n",
              "      <td>17.00000000</td>\n",
              "      <td>34.00000000</td>\n",
              "      <td>20.00000000</td>\n",
              "      <td>24.00000000</td>\n",
              "      <td>8.00000000</td>\n",
              "      <td>13.00000000</td>\n",
              "      <td>15.00000000</td>\n",
              "      <td>12</td>\n",
              "      <td>12</td>\n",
              "      <td>21.00000000</td>\n",
              "      <td>12.00000000</td>\n",
              "      <td>13.00000000</td>\n",
              "      <td>16.00000000</td>\n",
              "      <td>11.00000000</td>\n",
              "      <td>7.00000000</td>\n",
              "      <td>6.00000000</td>\n",
              "      <td>7.00000000</td>\n",
              "      <td>2</td>\n",
              "      <td>2.00000000</td>\n",
              "      <td>28</td>\n",
              "      <td>90.00000000</td>\n",
              "      <td>93.00000000</td>\n",
              "      <td>106.00000000</td>\n",
              "      <td>93.00000000</td>\n",
              "      <td>82.00000000</td>\n",
              "      <td>78.00000000</td>\n",
              "      <td>36.00000000</td>\n",
              "      <td>45.00000000</td>\n",
              "      <td>41.00000000</td>\n",
              "      <td>24.00000000</td>\n",
              "      <td>9.00000000</td>\n",
              "      <td>120.00000000</td>\n",
              "      <td>374.00000000</td>\n",
              "      <td>200.00000000</td>\n",
              "      <td>33.00000000</td>\n",
              "      <td>727.00000000</td>\n",
              "      <td>0</td>\n",
              "    </tr>\n",
              "    <tr>\n",
              "      <th>2746</th>\n",
              "      <td>10921</td>\n",
              "      <td>2.00000000</td>\n",
              "      <td>2</td>\n",
              "      <td>3</td>\n",
              "      <td>2</td>\n",
              "      <td>5</td>\n",
              "      <td>2</td>\n",
              "      <td>6.00000000</td>\n",
              "      <td>3</td>\n",
              "      <td>6</td>\n",
              "      <td>5</td>\n",
              "      <td>5.00000000</td>\n",
              "      <td>10</td>\n",
              "      <td>2.00000000</td>\n",
              "      <td>4.00000000</td>\n",
              "      <td>8.00000000</td>\n",
              "      <td>6.00000000</td>\n",
              "      <td>5.00000000</td>\n",
              "      <td>3.00000000</td>\n",
              "      <td>10.00000000</td>\n",
              "      <td>6.00000000</td>\n",
              "      <td>6.00000000</td>\n",
              "      <td>5.00000000</td>\n",
              "      <td>2.00000000</td>\n",
              "      <td>1.00000000</td>\n",
              "      <td>4.00000000</td>\n",
              "      <td>7.00000000</td>\n",
              "      <td>7</td>\n",
              "      <td>1</td>\n",
              "      <td>3.00000000</td>\n",
              "      <td>5.00000000</td>\n",
              "      <td>6.00000000</td>\n",
              "      <td>0.00000000</td>\n",
              "      <td>2.00000000</td>\n",
              "      <td>3.00000000</td>\n",
              "      <td>0.00000000</td>\n",
              "      <td>2.00000000</td>\n",
              "      <td>1</td>\n",
              "      <td>4.00000000</td>\n",
              "      <td>10</td>\n",
              "      <td>11.00000000</td>\n",
              "      <td>16.00000000</td>\n",
              "      <td>16.00000000</td>\n",
              "      <td>19.00000000</td>\n",
              "      <td>19.00000000</td>\n",
              "      <td>13.00000000</td>\n",
              "      <td>12.00000000</td>\n",
              "      <td>11.00000000</td>\n",
              "      <td>11.00000000</td>\n",
              "      <td>5.00000000</td>\n",
              "      <td>3.00000000</td>\n",
              "      <td>25.00000000</td>\n",
              "      <td>70.00000000</td>\n",
              "      <td>47.00000000</td>\n",
              "      <td>8.00000000</td>\n",
              "      <td>150.00000000</td>\n",
              "      <td>0</td>\n",
              "    </tr>\n",
              "    <tr>\n",
              "      <th>3439</th>\n",
              "      <td>12497</td>\n",
              "      <td>1.00000000</td>\n",
              "      <td>6</td>\n",
              "      <td>102</td>\n",
              "      <td>0</td>\n",
              "      <td>0</td>\n",
              "      <td>0</td>\n",
              "      <td>-2.00000000</td>\n",
              "      <td>337</td>\n",
              "      <td>16</td>\n",
              "      <td>112</td>\n",
              "      <td>8.00000000</td>\n",
              "      <td>9</td>\n",
              "      <td>49.00000000</td>\n",
              "      <td>33.00000000</td>\n",
              "      <td>0.00000000</td>\n",
              "      <td>73.00000000</td>\n",
              "      <td>5.00000000</td>\n",
              "      <td>16.00000000</td>\n",
              "      <td>8.00000000</td>\n",
              "      <td>10.00000000</td>\n",
              "      <td>23.00000000</td>\n",
              "      <td>13.00000000</td>\n",
              "      <td>53.00000000</td>\n",
              "      <td>25.00000000</td>\n",
              "      <td>22.00000000</td>\n",
              "      <td>92.00000000</td>\n",
              "      <td>970</td>\n",
              "      <td>23</td>\n",
              "      <td>65.00000000</td>\n",
              "      <td>16.00000000</td>\n",
              "      <td>110.00000000</td>\n",
              "      <td>62.00000000</td>\n",
              "      <td>9.00000000</td>\n",
              "      <td>87.00000000</td>\n",
              "      <td>8.00000000</td>\n",
              "      <td>14.00000000</td>\n",
              "      <td>1</td>\n",
              "      <td>7.00000000</td>\n",
              "      <td>102</td>\n",
              "      <td>335.00000000</td>\n",
              "      <td>136.00000000</td>\n",
              "      <td>91.00000000</td>\n",
              "      <td>78.00000000</td>\n",
              "      <td>34.00000000</td>\n",
              "      <td>89.00000000</td>\n",
              "      <td>139.00000000</td>\n",
              "      <td>1058.00000000</td>\n",
              "      <td>188.00000000</td>\n",
              "      <td>104.00000000</td>\n",
              "      <td>15.00000000</td>\n",
              "      <td>444.00000000</td>\n",
              "      <td>339.00000000</td>\n",
              "      <td>1474.00000000</td>\n",
              "      <td>119.00000000</td>\n",
              "      <td>2376.00000000</td>\n",
              "      <td>0</td>\n",
              "    </tr>\n",
              "  </tbody>\n",
              "</table>\n",
              "</div>"
            ],
            "text/plain": [
              "      Item No.        May-17  Jun-17  ...     Year-2020    Total Sales  Category\n",
              "ID                                    ...                                       \n",
              "2613     10697 1081.00000000     150  ... 5473.00000000 78882.00000000         1\n",
              "4264     14300   67.00000000      11  ...  257.00000000  1962.00000000         0\n",
              "2747     10922    2.00000000       0  ...   33.00000000   727.00000000         0\n",
              "2746     10921    2.00000000       2  ...    8.00000000   150.00000000         0\n",
              "3439     12497    1.00000000       6  ...  119.00000000  2376.00000000         0\n",
              "\n",
              "[5 rows x 57 columns]"
            ]
          },
          "metadata": {
            "tags": []
          },
          "execution_count": 196
        }
      ]
    },
    {
      "cell_type": "code",
      "metadata": {
        "id": "jRO38Xd5svQ0",
        "colab": {
          "base_uri": "https://localhost:8080/",
          "height": 260
        },
        "outputId": "1b0569a4-dd6e-4e7f-d4dd-7b4d5ef25cd2"
      },
      "source": [
        "#4. Create a new DataFrame which has only the monthly sales (Quarterly & Yearly sales are excluded)\n",
        "df1=df.copy()\n",
        "df1.drop(df1.iloc[:,38:],axis=1,inplace=True)\n",
        "\n",
        "df1.head()"
      ],
      "execution_count": null,
      "outputs": [
        {
          "output_type": "execute_result",
          "data": {
            "text/html": [
              "<div>\n",
              "<style scoped>\n",
              "    .dataframe tbody tr th:only-of-type {\n",
              "        vertical-align: middle;\n",
              "    }\n",
              "\n",
              "    .dataframe tbody tr th {\n",
              "        vertical-align: top;\n",
              "    }\n",
              "\n",
              "    .dataframe thead th {\n",
              "        text-align: right;\n",
              "    }\n",
              "</style>\n",
              "<table border=\"1\" class=\"dataframe\">\n",
              "  <thead>\n",
              "    <tr style=\"text-align: right;\">\n",
              "      <th></th>\n",
              "      <th>Item No.</th>\n",
              "      <th>May-17</th>\n",
              "      <th>Jun-17</th>\n",
              "      <th>Jul-17</th>\n",
              "      <th>Aug-17</th>\n",
              "      <th>Sep-17</th>\n",
              "      <th>Oct-17</th>\n",
              "      <th>Nov-17</th>\n",
              "      <th>Dec-17</th>\n",
              "      <th>Jan-18</th>\n",
              "      <th>Feb-18</th>\n",
              "      <th>Mar-18</th>\n",
              "      <th>Apr-18</th>\n",
              "      <th>May-18</th>\n",
              "      <th>Jun-18</th>\n",
              "      <th>Jul-18</th>\n",
              "      <th>Aug-18</th>\n",
              "      <th>Sep-18</th>\n",
              "      <th>Oct-18</th>\n",
              "      <th>Nov-18</th>\n",
              "      <th>Dec-18</th>\n",
              "      <th>Jan-19</th>\n",
              "      <th>Feb-19</th>\n",
              "      <th>Mar-19</th>\n",
              "      <th>Apr-19</th>\n",
              "      <th>May-19</th>\n",
              "      <th>Jun-19</th>\n",
              "      <th>Jul-19</th>\n",
              "      <th>Aug-19</th>\n",
              "      <th>Sep-19</th>\n",
              "      <th>Oct-19</th>\n",
              "      <th>Nov-19</th>\n",
              "      <th>Dec-19</th>\n",
              "      <th>Jan-20</th>\n",
              "      <th>Feb-20</th>\n",
              "      <th>Mar-20</th>\n",
              "      <th>Apr-20</th>\n",
              "      <th>May-20</th>\n",
              "    </tr>\n",
              "    <tr>\n",
              "      <th>ID</th>\n",
              "      <th></th>\n",
              "      <th></th>\n",
              "      <th></th>\n",
              "      <th></th>\n",
              "      <th></th>\n",
              "      <th></th>\n",
              "      <th></th>\n",
              "      <th></th>\n",
              "      <th></th>\n",
              "      <th></th>\n",
              "      <th></th>\n",
              "      <th></th>\n",
              "      <th></th>\n",
              "      <th></th>\n",
              "      <th></th>\n",
              "      <th></th>\n",
              "      <th></th>\n",
              "      <th></th>\n",
              "      <th></th>\n",
              "      <th></th>\n",
              "      <th></th>\n",
              "      <th></th>\n",
              "      <th></th>\n",
              "      <th></th>\n",
              "      <th></th>\n",
              "      <th></th>\n",
              "      <th></th>\n",
              "      <th></th>\n",
              "      <th></th>\n",
              "      <th></th>\n",
              "      <th></th>\n",
              "      <th></th>\n",
              "      <th></th>\n",
              "      <th></th>\n",
              "      <th></th>\n",
              "      <th></th>\n",
              "      <th></th>\n",
              "      <th></th>\n",
              "    </tr>\n",
              "  </thead>\n",
              "  <tbody>\n",
              "    <tr>\n",
              "      <th>2613</th>\n",
              "      <td>10697</td>\n",
              "      <td>1081.00000000</td>\n",
              "      <td>150</td>\n",
              "      <td>4013</td>\n",
              "      <td>2251</td>\n",
              "      <td>4059</td>\n",
              "      <td>6176</td>\n",
              "      <td>2744.00000000</td>\n",
              "      <td>2667</td>\n",
              "      <td>2668</td>\n",
              "      <td>2331</td>\n",
              "      <td>3695.00000000</td>\n",
              "      <td>3999</td>\n",
              "      <td>3539.00000000</td>\n",
              "      <td>2457.00000000</td>\n",
              "      <td>5605.00000000</td>\n",
              "      <td>1226.00000000</td>\n",
              "      <td>2712.00000000</td>\n",
              "      <td>3434.00000000</td>\n",
              "      <td>767.00000000</td>\n",
              "      <td>402.00000000</td>\n",
              "      <td>727.00000000</td>\n",
              "      <td>3574.00000000</td>\n",
              "      <td>200.00000000</td>\n",
              "      <td>102.00000000</td>\n",
              "      <td>204.00000000</td>\n",
              "      <td>2205.00000000</td>\n",
              "      <td>2711</td>\n",
              "      <td>1942</td>\n",
              "      <td>708.00000000</td>\n",
              "      <td>1224.00000000</td>\n",
              "      <td>2101.00000000</td>\n",
              "      <td>1735.00000000</td>\n",
              "      <td>1500.00000000</td>\n",
              "      <td>380.00000000</td>\n",
              "      <td>767.00000000</td>\n",
              "      <td>2000.00000000</td>\n",
              "      <td>826</td>\n",
              "    </tr>\n",
              "    <tr>\n",
              "      <th>4264</th>\n",
              "      <td>14300</td>\n",
              "      <td>67.00000000</td>\n",
              "      <td>11</td>\n",
              "      <td>42</td>\n",
              "      <td>31</td>\n",
              "      <td>90</td>\n",
              "      <td>107</td>\n",
              "      <td>23.00000000</td>\n",
              "      <td>80</td>\n",
              "      <td>29</td>\n",
              "      <td>56</td>\n",
              "      <td>82.00000000</td>\n",
              "      <td>31</td>\n",
              "      <td>114.00000000</td>\n",
              "      <td>32.00000000</td>\n",
              "      <td>100.00000000</td>\n",
              "      <td>76.00000000</td>\n",
              "      <td>50.00000000</td>\n",
              "      <td>35.00000000</td>\n",
              "      <td>102.00000000</td>\n",
              "      <td>20.00000000</td>\n",
              "      <td>4.00000000</td>\n",
              "      <td>10.00000000</td>\n",
              "      <td>60.00000000</td>\n",
              "      <td>3.00000000</td>\n",
              "      <td>30.00000000</td>\n",
              "      <td>77.00000000</td>\n",
              "      <td>83</td>\n",
              "      <td>15</td>\n",
              "      <td>40.00000000</td>\n",
              "      <td>110.00000000</td>\n",
              "      <td>35.00000000</td>\n",
              "      <td>60.00000000</td>\n",
              "      <td>42.00000000</td>\n",
              "      <td>11.00000000</td>\n",
              "      <td>63.00000000</td>\n",
              "      <td>120.00000000</td>\n",
              "      <td>21</td>\n",
              "    </tr>\n",
              "    <tr>\n",
              "      <th>2747</th>\n",
              "      <td>10922</td>\n",
              "      <td>2.00000000</td>\n",
              "      <td>0</td>\n",
              "      <td>1</td>\n",
              "      <td>8</td>\n",
              "      <td>19</td>\n",
              "      <td>20</td>\n",
              "      <td>34.00000000</td>\n",
              "      <td>36</td>\n",
              "      <td>24</td>\n",
              "      <td>43</td>\n",
              "      <td>26.00000000</td>\n",
              "      <td>31</td>\n",
              "      <td>38.00000000</td>\n",
              "      <td>37.00000000</td>\n",
              "      <td>34.00000000</td>\n",
              "      <td>29.00000000</td>\n",
              "      <td>30.00000000</td>\n",
              "      <td>28.00000000</td>\n",
              "      <td>37.00000000</td>\n",
              "      <td>17.00000000</td>\n",
              "      <td>34.00000000</td>\n",
              "      <td>20.00000000</td>\n",
              "      <td>24.00000000</td>\n",
              "      <td>8.00000000</td>\n",
              "      <td>13.00000000</td>\n",
              "      <td>15.00000000</td>\n",
              "      <td>12</td>\n",
              "      <td>12</td>\n",
              "      <td>21.00000000</td>\n",
              "      <td>12.00000000</td>\n",
              "      <td>13.00000000</td>\n",
              "      <td>16.00000000</td>\n",
              "      <td>11.00000000</td>\n",
              "      <td>7.00000000</td>\n",
              "      <td>6.00000000</td>\n",
              "      <td>7.00000000</td>\n",
              "      <td>2</td>\n",
              "    </tr>\n",
              "    <tr>\n",
              "      <th>2746</th>\n",
              "      <td>10921</td>\n",
              "      <td>2.00000000</td>\n",
              "      <td>2</td>\n",
              "      <td>3</td>\n",
              "      <td>2</td>\n",
              "      <td>5</td>\n",
              "      <td>2</td>\n",
              "      <td>6.00000000</td>\n",
              "      <td>3</td>\n",
              "      <td>6</td>\n",
              "      <td>5</td>\n",
              "      <td>5.00000000</td>\n",
              "      <td>10</td>\n",
              "      <td>2.00000000</td>\n",
              "      <td>4.00000000</td>\n",
              "      <td>8.00000000</td>\n",
              "      <td>6.00000000</td>\n",
              "      <td>5.00000000</td>\n",
              "      <td>3.00000000</td>\n",
              "      <td>10.00000000</td>\n",
              "      <td>6.00000000</td>\n",
              "      <td>6.00000000</td>\n",
              "      <td>5.00000000</td>\n",
              "      <td>2.00000000</td>\n",
              "      <td>1.00000000</td>\n",
              "      <td>4.00000000</td>\n",
              "      <td>7.00000000</td>\n",
              "      <td>7</td>\n",
              "      <td>1</td>\n",
              "      <td>3.00000000</td>\n",
              "      <td>5.00000000</td>\n",
              "      <td>6.00000000</td>\n",
              "      <td>0.00000000</td>\n",
              "      <td>2.00000000</td>\n",
              "      <td>3.00000000</td>\n",
              "      <td>0.00000000</td>\n",
              "      <td>2.00000000</td>\n",
              "      <td>1</td>\n",
              "    </tr>\n",
              "    <tr>\n",
              "      <th>3439</th>\n",
              "      <td>12497</td>\n",
              "      <td>1.00000000</td>\n",
              "      <td>6</td>\n",
              "      <td>102</td>\n",
              "      <td>0</td>\n",
              "      <td>0</td>\n",
              "      <td>0</td>\n",
              "      <td>-2.00000000</td>\n",
              "      <td>337</td>\n",
              "      <td>16</td>\n",
              "      <td>112</td>\n",
              "      <td>8.00000000</td>\n",
              "      <td>9</td>\n",
              "      <td>49.00000000</td>\n",
              "      <td>33.00000000</td>\n",
              "      <td>0.00000000</td>\n",
              "      <td>73.00000000</td>\n",
              "      <td>5.00000000</td>\n",
              "      <td>16.00000000</td>\n",
              "      <td>8.00000000</td>\n",
              "      <td>10.00000000</td>\n",
              "      <td>23.00000000</td>\n",
              "      <td>13.00000000</td>\n",
              "      <td>53.00000000</td>\n",
              "      <td>25.00000000</td>\n",
              "      <td>22.00000000</td>\n",
              "      <td>92.00000000</td>\n",
              "      <td>970</td>\n",
              "      <td>23</td>\n",
              "      <td>65.00000000</td>\n",
              "      <td>16.00000000</td>\n",
              "      <td>110.00000000</td>\n",
              "      <td>62.00000000</td>\n",
              "      <td>9.00000000</td>\n",
              "      <td>87.00000000</td>\n",
              "      <td>8.00000000</td>\n",
              "      <td>14.00000000</td>\n",
              "      <td>1</td>\n",
              "    </tr>\n",
              "  </tbody>\n",
              "</table>\n",
              "</div>"
            ],
            "text/plain": [
              "      Item No.        May-17  Jun-17  ...       Mar-20        Apr-20  May-20\n",
              "ID                                    ...                                   \n",
              "2613     10697 1081.00000000     150  ... 767.00000000 2000.00000000     826\n",
              "4264     14300   67.00000000      11  ...  63.00000000  120.00000000      21\n",
              "2747     10922    2.00000000       0  ...   6.00000000    7.00000000       2\n",
              "2746     10921    2.00000000       2  ...   0.00000000    2.00000000       1\n",
              "3439     12497    1.00000000       6  ...   8.00000000   14.00000000       1\n",
              "\n",
              "[5 rows x 38 columns]"
            ]
          },
          "metadata": {
            "tags": []
          },
          "execution_count": 197
        }
      ]
    },
    {
      "cell_type": "code",
      "metadata": {
        "id": "609dQXGdsvQ0",
        "colab": {
          "base_uri": "https://localhost:8080/"
        },
        "outputId": "76bdc491-13ab-4301-c047-141903ae78a1"
      },
      "source": [
        "# 5.Forecasting based on ID\n",
        "n=int(input(\"Enter the ID number: \"))\n",
        "ID_monthly_sales_list=(df1.loc[n:n,'May-17':].values.T.flatten())\n",
        "y=ID_monthly_sales_list.tolist()\n",
        "print()\n",
        "print(\"Monthly sales of ID number\",n,\"is\")\n",
        "print()\n",
        "print(y)"
      ],
      "execution_count": null,
      "outputs": [
        {
          "output_type": "stream",
          "text": [
            "Enter the ID number: 4340\n",
            "\n",
            "Monthly sales of ID number 4340 is\n",
            "\n",
            "[-32.0, 171.0, 8.0, 0.0, 41.0, 29.0, 265.0, 111.0, 32.0, 72.0, 0.0, 0.0, 80.0, 2.0, 79.0, 1.0, 25.0, 12.0, 50.0, 0.0, 15.0, 0.0, 88.0, 0.0, 0.0, 0.0, 5.0, 0.0, 0.0, 12.0, 70.0, 0.0, 0.0, 0.0, 3.0, 0.0, 2.0]\n"
          ],
          "name": "stdout"
        }
      ]
    },
    {
      "cell_type": "code",
      "metadata": {
        "scrolled": true,
        "id": "2MozKgnLsvQ1",
        "colab": {
          "base_uri": "https://localhost:8080/"
        },
        "outputId": "40820b30-7b20-4c89-db92-7366953d4b2c"
      },
      "source": [
        "# 6.Extracting the Month names\n",
        "months_list=df.iloc[:,1:38].columns\n",
        "months_list"
      ],
      "execution_count": null,
      "outputs": [
        {
          "output_type": "execute_result",
          "data": {
            "text/plain": [
              "Index(['May-17', 'Jun-17', 'Jul-17', 'Aug-17', 'Sep-17', 'Oct-17', 'Nov-17',\n",
              "       'Dec-17', 'Jan-18', 'Feb-18', 'Mar-18', 'Apr-18', 'May-18', 'Jun-18',\n",
              "       'Jul-18', 'Aug-18', 'Sep-18', 'Oct-18', 'Nov-18', 'Dec-18', 'Jan-19',\n",
              "       'Feb-19', 'Mar-19', 'Apr-19', 'May-19', 'Jun-19', 'Jul-19', 'Aug-19',\n",
              "       'Sep-19', 'Oct-19', 'Nov-19', 'Dec-19', 'Jan-20', 'Feb-20', 'Mar-20',\n",
              "       'Apr-20', 'May-20'],\n",
              "      dtype='object')"
            ]
          },
          "metadata": {
            "tags": []
          },
          "execution_count": 199
        }
      ]
    },
    {
      "cell_type": "code",
      "metadata": {
        "id": "m_xHke15svQ1"
      },
      "source": [
        "# 7.To convert May-17 into Date format (YYYY:MM:DD)\n",
        "def custom_parser(x):\n",
        "    return datetime.datetime.strptime(x,'%b-%y')\n",
        "\n",
        "\n",
        "date_lst=[]\n",
        "for i in range(len(months_list)):\n",
        "    date_lst.append(custom_parser(months_list[i]))"
      ],
      "execution_count": null,
      "outputs": []
    },
    {
      "cell_type": "markdown",
      "metadata": {
        "id": "AIoyvbPxsvQ2"
      },
      "source": [
        "NOTE:\n",
        "- The input to Prophet is always a dataframe with two columns: ds and y. The ds (datestamp) column should be of a format expected by Pandas, ideally YYYY-MM-DD for a date or YYYY-MM-DD HH:MM:SS for a timestamp. The y column must be numeric, and represents the measurement we wish to forecast."
      ]
    },
    {
      "cell_type": "code",
      "metadata": {
        "id": "Ue18VYn8svQ2",
        "colab": {
          "base_uri": "https://localhost:8080/",
          "height": 194
        },
        "outputId": "ffa85105-f45b-42ae-eb3d-2dedfcd1a7d2"
      },
      "source": [
        "# 8.Framing new dataframe with months & monthly sales values of the respective ID\n",
        "new_dataframe=pd.DataFrame(list(zip(date_lst,y)),columns=['ds','y'])\n",
        "new_dataframe['ds'] = pd.to_datetime(new_dataframe['ds'])\n",
        "new_dataframe.head()"
      ],
      "execution_count": null,
      "outputs": [
        {
          "output_type": "execute_result",
          "data": {
            "text/html": [
              "<div>\n",
              "<style scoped>\n",
              "    .dataframe tbody tr th:only-of-type {\n",
              "        vertical-align: middle;\n",
              "    }\n",
              "\n",
              "    .dataframe tbody tr th {\n",
              "        vertical-align: top;\n",
              "    }\n",
              "\n",
              "    .dataframe thead th {\n",
              "        text-align: right;\n",
              "    }\n",
              "</style>\n",
              "<table border=\"1\" class=\"dataframe\">\n",
              "  <thead>\n",
              "    <tr style=\"text-align: right;\">\n",
              "      <th></th>\n",
              "      <th>ds</th>\n",
              "      <th>y</th>\n",
              "    </tr>\n",
              "  </thead>\n",
              "  <tbody>\n",
              "    <tr>\n",
              "      <th>0</th>\n",
              "      <td>2017-05-01</td>\n",
              "      <td>-32.00000000</td>\n",
              "    </tr>\n",
              "    <tr>\n",
              "      <th>1</th>\n",
              "      <td>2017-06-01</td>\n",
              "      <td>171.00000000</td>\n",
              "    </tr>\n",
              "    <tr>\n",
              "      <th>2</th>\n",
              "      <td>2017-07-01</td>\n",
              "      <td>8.00000000</td>\n",
              "    </tr>\n",
              "    <tr>\n",
              "      <th>3</th>\n",
              "      <td>2017-08-01</td>\n",
              "      <td>0.00000000</td>\n",
              "    </tr>\n",
              "    <tr>\n",
              "      <th>4</th>\n",
              "      <td>2017-09-01</td>\n",
              "      <td>41.00000000</td>\n",
              "    </tr>\n",
              "  </tbody>\n",
              "</table>\n",
              "</div>"
            ],
            "text/plain": [
              "          ds            y\n",
              "0 2017-05-01 -32.00000000\n",
              "1 2017-06-01 171.00000000\n",
              "2 2017-07-01   8.00000000\n",
              "3 2017-08-01   0.00000000\n",
              "4 2017-09-01  41.00000000"
            ]
          },
          "metadata": {
            "tags": []
          },
          "execution_count": 201
        }
      ]
    },
    {
      "cell_type": "code",
      "metadata": {
        "id": "Ip_BxW-BsvQ3"
      },
      "source": [
        "# 9.Importing FBProphet library\n",
        "from fbprophet import Prophet"
      ],
      "execution_count": null,
      "outputs": []
    },
    {
      "cell_type": "code",
      "metadata": {
        "id": "OOdA3A41svQ3"
      },
      "source": [
        "# 10.Importing libraries to use \"plotly\"\n",
        "import plotly.offline as py\n",
        "import plotly.graph_objs as go"
      ],
      "execution_count": null,
      "outputs": []
    },
    {
      "cell_type": "code",
      "metadata": {
        "scrolled": true,
        "id": "CirljobesvQ3",
        "colab": {
          "base_uri": "https://localhost:8080/"
        },
        "outputId": "050475e2-4d73-49ac-c113-e0fe64611041"
      },
      "source": [
        "# 11.Fitting the model & Making forecasts\n",
        "m = Prophet(changepoint_prior_scale=2.5)\n",
        "m.fit(new_dataframe)\n",
        "future = m.make_future_dataframe(12,freq='MS')\n",
        "forecast = m.predict(future)"
      ],
      "execution_count": null,
      "outputs": [
        {
          "output_type": "stream",
          "text": [
            "INFO:fbprophet:Disabling weekly seasonality. Run prophet with weekly_seasonality=True to override this.\n",
            "INFO:fbprophet:Disabling daily seasonality. Run prophet with daily_seasonality=True to override this.\n"
          ],
          "name": "stderr"
        }
      ]
    },
    {
      "cell_type": "code",
      "metadata": {
        "scrolled": true,
        "id": "n8eTBynasvQ4",
        "colab": {
          "base_uri": "https://localhost:8080/"
        },
        "outputId": "83ad9119-ae26-4b81-adc2-9337fa7ce25f"
      },
      "source": [
        "len(forecast['yhat'])-12\n"
      ],
      "execution_count": null,
      "outputs": [
        {
          "output_type": "execute_result",
          "data": {
            "text/plain": [
              "37"
            ]
          },
          "metadata": {
            "tags": []
          },
          "execution_count": 205
        }
      ]
    },
    {
      "cell_type": "code",
      "metadata": {
        "id": "tS7reBGCsvQ4",
        "colab": {
          "base_uri": "https://localhost:8080/"
        },
        "outputId": "f6ebb49f-43a7-443f-f703-da0024fa19b6"
      },
      "source": [
        "len(forecast['yhat'])"
      ],
      "execution_count": null,
      "outputs": [
        {
          "output_type": "execute_result",
          "data": {
            "text/plain": [
              "49"
            ]
          },
          "metadata": {
            "tags": []
          },
          "execution_count": 206
        }
      ]
    },
    {
      "cell_type": "code",
      "metadata": {
        "scrolled": true,
        "id": "KOll-gWasvQ4",
        "colab": {
          "base_uri": "https://localhost:8080/"
        },
        "outputId": "4c121205-bb61-4632-83fe-21a6ea8cd6f0"
      },
      "source": [
        "print('RMSE: %f' % np.sqrt(np.mean((forecast.loc[:len(forecast['yhat']), 'yhat']-new_dataframe['y'])**2)) )"
      ],
      "execution_count": null,
      "outputs": [
        {
          "output_type": "stream",
          "text": [
            "RMSE: 24.127305\n"
          ],
          "name": "stdout"
        }
      ]
    },
    {
      "cell_type": "code",
      "metadata": {
        "scrolled": true,
        "id": "oNpIUdK4svQ5"
      },
      "source": [
        "# 12.Making all negative values as \"0\"\n",
        "x=forecast['yhat']\n",
        "listed=[]\n",
        "for i in range(len(x)):\n",
        "    if x[i]<0:\n",
        "        x[i]=0\n",
        "        #listed.append(x)\n",
        "    #else:x#listed.append(x)\n",
        "#print(listed)        \n",
        "        "
      ],
      "execution_count": null,
      "outputs": []
    },
    {
      "cell_type": "markdown",
      "metadata": {
        "id": "prOnxr_rsvQ5"
      },
      "source": [
        "## 13.Plotting Actual vs Predicted"
      ]
    },
    {
      "cell_type": "code",
      "metadata": {
        "scrolled": false,
        "id": "S1Xad-b9svQ5",
        "colab": {
          "base_uri": "https://localhost:8080/",
          "height": 542
        },
        "outputId": "c1ae03d6-dd8e-48ba-9d6b-031c2659bd2e"
      },
      "source": [
        "py.iplot([\n",
        "    go.Scatter(x=new_dataframe['ds'], y=new_dataframe['y'], name='Actual'),\n",
        "    go.Scatter(x=forecast['ds'], y=forecast['yhat'], name='Predicted'),])\n",
        "    \n",
        "    #go.Scatter(x=forecast['ds'], y=forecast['trend'], name='Trend')\n",
        "#])"
      ],
      "execution_count": null,
      "outputs": [
        {
          "output_type": "display_data",
          "data": {
            "text/html": [
              "<html>\n",
              "<head><meta charset=\"utf-8\" /></head>\n",
              "<body>\n",
              "    <div>\n",
              "            <script src=\"https://cdnjs.cloudflare.com/ajax/libs/mathjax/2.7.5/MathJax.js?config=TeX-AMS-MML_SVG\"></script><script type=\"text/javascript\">if (window.MathJax) {MathJax.Hub.Config({SVG: {font: \"STIX-Web\"}});}</script>\n",
              "                <script type=\"text/javascript\">window.PlotlyConfig = {MathJaxConfig: 'local'};</script>\n",
              "        <script src=\"https://cdn.plot.ly/plotly-latest.min.js\"></script>    \n",
              "            <div id=\"3625ffb6-cc5f-4c8d-896e-b32ba02528d9\" class=\"plotly-graph-div\" style=\"height:525px; width:100%;\"></div>\n",
              "            <script type=\"text/javascript\">\n",
              "                \n",
              "                    window.PLOTLYENV=window.PLOTLYENV || {};\n",
              "                    \n",
              "                if (document.getElementById(\"3625ffb6-cc5f-4c8d-896e-b32ba02528d9\")) {\n",
              "                    Plotly.newPlot(\n",
              "                        '3625ffb6-cc5f-4c8d-896e-b32ba02528d9',\n",
              "                        [{\"name\": \"Actual\", \"type\": \"scatter\", \"x\": [\"2017-05-01T00:00:00\", \"2017-06-01T00:00:00\", \"2017-07-01T00:00:00\", \"2017-08-01T00:00:00\", \"2017-09-01T00:00:00\", \"2017-10-01T00:00:00\", \"2017-11-01T00:00:00\", \"2017-12-01T00:00:00\", \"2018-01-01T00:00:00\", \"2018-02-01T00:00:00\", \"2018-03-01T00:00:00\", \"2018-04-01T00:00:00\", \"2018-05-01T00:00:00\", \"2018-06-01T00:00:00\", \"2018-07-01T00:00:00\", \"2018-08-01T00:00:00\", \"2018-09-01T00:00:00\", \"2018-10-01T00:00:00\", \"2018-11-01T00:00:00\", \"2018-12-01T00:00:00\", \"2019-01-01T00:00:00\", \"2019-02-01T00:00:00\", \"2019-03-01T00:00:00\", \"2019-04-01T00:00:00\", \"2019-05-01T00:00:00\", \"2019-06-01T00:00:00\", \"2019-07-01T00:00:00\", \"2019-08-01T00:00:00\", \"2019-09-01T00:00:00\", \"2019-10-01T00:00:00\", \"2019-11-01T00:00:00\", \"2019-12-01T00:00:00\", \"2020-01-01T00:00:00\", \"2020-02-01T00:00:00\", \"2020-03-01T00:00:00\", \"2020-04-01T00:00:00\", \"2020-05-01T00:00:00\"], \"y\": [-32.0, 171.0, 8.0, 0.0, 41.0, 29.0, 265.0, 111.0, 32.0, 72.0, 0.0, 0.0, 80.0, 2.0, 79.0, 1.0, 25.0, 12.0, 50.0, 0.0, 15.0, 0.0, 88.0, 0.0, 0.0, 0.0, 5.0, 0.0, 0.0, 12.0, 70.0, 0.0, 0.0, 0.0, 3.0, 0.0, 2.0]}, {\"name\": \"Predicted\", \"type\": \"scatter\", \"x\": [\"2017-05-01T00:00:00\", \"2017-06-01T00:00:00\", \"2017-07-01T00:00:00\", \"2017-08-01T00:00:00\", \"2017-09-01T00:00:00\", \"2017-10-01T00:00:00\", \"2017-11-01T00:00:00\", \"2017-12-01T00:00:00\", \"2018-01-01T00:00:00\", \"2018-02-01T00:00:00\", \"2018-03-01T00:00:00\", \"2018-04-01T00:00:00\", \"2018-05-01T00:00:00\", \"2018-06-01T00:00:00\", \"2018-07-01T00:00:00\", \"2018-08-01T00:00:00\", \"2018-09-01T00:00:00\", \"2018-10-01T00:00:00\", \"2018-11-01T00:00:00\", \"2018-12-01T00:00:00\", \"2019-01-01T00:00:00\", \"2019-02-01T00:00:00\", \"2019-03-01T00:00:00\", \"2019-04-01T00:00:00\", \"2019-05-01T00:00:00\", \"2019-06-01T00:00:00\", \"2019-07-01T00:00:00\", \"2019-08-01T00:00:00\", \"2019-09-01T00:00:00\", \"2019-10-01T00:00:00\", \"2019-11-01T00:00:00\", \"2019-12-01T00:00:00\", \"2020-01-01T00:00:00\", \"2020-02-01T00:00:00\", \"2020-03-01T00:00:00\", \"2020-04-01T00:00:00\", \"2020-05-01T00:00:00\", \"2020-06-01T00:00:00\", \"2020-07-01T00:00:00\", \"2020-08-01T00:00:00\", \"2020-09-01T00:00:00\", \"2020-10-01T00:00:00\", \"2020-11-01T00:00:00\", \"2020-12-01T00:00:00\", \"2021-01-01T00:00:00\", \"2021-02-01T00:00:00\", \"2021-03-01T00:00:00\", \"2021-04-01T00:00:00\", \"2021-05-01T00:00:00\"], \"y\": [0.0, 138.24833900312674, 31.63247011161403, 2.977624441105025, 48.3104012748862, 34.95962515816791, 236.85674225673046, 100.05482685572184, 36.623052506653025, 62.3292259104363, 45.16268687572782, 6.1778973475998145, 30.787829475640542, 67.71619260474762, 33.713280272121864, 0.0, 10.030556807444146, 0.0, 98.15181157088075, 10.596281127165344, 0.0, 6.488000321925792, 61.447343223095714, 0.0, 29.08820040453724, 0.0, 26.66215060785354, 0.9586717225716086, 7.638260131720656, 21.070709389294862, 49.95251413888699, 0.33490450195802657, 16.58259773261297, 3.172011317444977, 0.0, 0.0, 9.093719871435159, 251.78360739911588, 39.61315595278197, 0.0, 23.38993614890763, 0.0, 239.16072387578032, 99.4115709985509, 35.320990836561194, 120.43904873556735, 72.70740298196291, 62.07633991820934, 84.35206511890938]}],\n",
              "                        {\"template\": {\"data\": {\"bar\": [{\"error_x\": {\"color\": \"#2a3f5f\"}, \"error_y\": {\"color\": \"#2a3f5f\"}, \"marker\": {\"line\": {\"color\": \"#E5ECF6\", \"width\": 0.5}}, \"type\": \"bar\"}], \"barpolar\": [{\"marker\": {\"line\": {\"color\": \"#E5ECF6\", \"width\": 0.5}}, \"type\": \"barpolar\"}], \"carpet\": [{\"aaxis\": {\"endlinecolor\": \"#2a3f5f\", \"gridcolor\": \"white\", \"linecolor\": \"white\", \"minorgridcolor\": \"white\", \"startlinecolor\": \"#2a3f5f\"}, \"baxis\": {\"endlinecolor\": \"#2a3f5f\", \"gridcolor\": \"white\", \"linecolor\": \"white\", \"minorgridcolor\": \"white\", \"startlinecolor\": \"#2a3f5f\"}, \"type\": \"carpet\"}], \"choropleth\": [{\"colorbar\": {\"outlinewidth\": 0, \"ticks\": \"\"}, \"type\": \"choropleth\"}], \"contour\": [{\"colorbar\": {\"outlinewidth\": 0, \"ticks\": \"\"}, \"colorscale\": [[0.0, \"#0d0887\"], [0.1111111111111111, \"#46039f\"], [0.2222222222222222, \"#7201a8\"], [0.3333333333333333, \"#9c179e\"], [0.4444444444444444, \"#bd3786\"], [0.5555555555555556, \"#d8576b\"], [0.6666666666666666, \"#ed7953\"], [0.7777777777777778, \"#fb9f3a\"], [0.8888888888888888, \"#fdca26\"], [1.0, \"#f0f921\"]], \"type\": \"contour\"}], \"contourcarpet\": [{\"colorbar\": {\"outlinewidth\": 0, \"ticks\": \"\"}, \"type\": \"contourcarpet\"}], \"heatmap\": [{\"colorbar\": {\"outlinewidth\": 0, \"ticks\": \"\"}, \"colorscale\": [[0.0, \"#0d0887\"], [0.1111111111111111, \"#46039f\"], [0.2222222222222222, \"#7201a8\"], [0.3333333333333333, \"#9c179e\"], [0.4444444444444444, \"#bd3786\"], [0.5555555555555556, \"#d8576b\"], [0.6666666666666666, \"#ed7953\"], [0.7777777777777778, \"#fb9f3a\"], [0.8888888888888888, \"#fdca26\"], [1.0, \"#f0f921\"]], \"type\": \"heatmap\"}], \"heatmapgl\": [{\"colorbar\": {\"outlinewidth\": 0, \"ticks\": \"\"}, \"colorscale\": [[0.0, \"#0d0887\"], [0.1111111111111111, \"#46039f\"], [0.2222222222222222, \"#7201a8\"], [0.3333333333333333, \"#9c179e\"], [0.4444444444444444, \"#bd3786\"], [0.5555555555555556, \"#d8576b\"], [0.6666666666666666, \"#ed7953\"], [0.7777777777777778, \"#fb9f3a\"], [0.8888888888888888, \"#fdca26\"], [1.0, \"#f0f921\"]], \"type\": \"heatmapgl\"}], \"histogram\": [{\"marker\": {\"colorbar\": {\"outlinewidth\": 0, \"ticks\": \"\"}}, \"type\": \"histogram\"}], \"histogram2d\": [{\"colorbar\": {\"outlinewidth\": 0, \"ticks\": \"\"}, \"colorscale\": [[0.0, \"#0d0887\"], [0.1111111111111111, \"#46039f\"], [0.2222222222222222, \"#7201a8\"], [0.3333333333333333, \"#9c179e\"], [0.4444444444444444, \"#bd3786\"], [0.5555555555555556, \"#d8576b\"], [0.6666666666666666, \"#ed7953\"], [0.7777777777777778, \"#fb9f3a\"], [0.8888888888888888, \"#fdca26\"], [1.0, \"#f0f921\"]], \"type\": \"histogram2d\"}], \"histogram2dcontour\": [{\"colorbar\": {\"outlinewidth\": 0, \"ticks\": \"\"}, \"colorscale\": [[0.0, \"#0d0887\"], [0.1111111111111111, \"#46039f\"], [0.2222222222222222, \"#7201a8\"], [0.3333333333333333, \"#9c179e\"], [0.4444444444444444, \"#bd3786\"], [0.5555555555555556, \"#d8576b\"], [0.6666666666666666, \"#ed7953\"], [0.7777777777777778, \"#fb9f3a\"], [0.8888888888888888, \"#fdca26\"], [1.0, \"#f0f921\"]], \"type\": \"histogram2dcontour\"}], \"mesh3d\": [{\"colorbar\": {\"outlinewidth\": 0, \"ticks\": \"\"}, \"type\": \"mesh3d\"}], \"parcoords\": [{\"line\": {\"colorbar\": {\"outlinewidth\": 0, \"ticks\": \"\"}}, \"type\": \"parcoords\"}], \"pie\": [{\"automargin\": true, \"type\": \"pie\"}], \"scatter\": [{\"marker\": {\"colorbar\": {\"outlinewidth\": 0, \"ticks\": \"\"}}, \"type\": \"scatter\"}], \"scatter3d\": [{\"line\": {\"colorbar\": {\"outlinewidth\": 0, \"ticks\": \"\"}}, \"marker\": {\"colorbar\": {\"outlinewidth\": 0, \"ticks\": \"\"}}, \"type\": \"scatter3d\"}], \"scattercarpet\": [{\"marker\": {\"colorbar\": {\"outlinewidth\": 0, \"ticks\": \"\"}}, \"type\": \"scattercarpet\"}], \"scattergeo\": [{\"marker\": {\"colorbar\": {\"outlinewidth\": 0, \"ticks\": \"\"}}, \"type\": \"scattergeo\"}], \"scattergl\": [{\"marker\": {\"colorbar\": {\"outlinewidth\": 0, \"ticks\": \"\"}}, \"type\": \"scattergl\"}], \"scattermapbox\": [{\"marker\": {\"colorbar\": {\"outlinewidth\": 0, \"ticks\": \"\"}}, \"type\": \"scattermapbox\"}], \"scatterpolar\": [{\"marker\": {\"colorbar\": {\"outlinewidth\": 0, \"ticks\": \"\"}}, \"type\": \"scatterpolar\"}], \"scatterpolargl\": [{\"marker\": {\"colorbar\": {\"outlinewidth\": 0, \"ticks\": \"\"}}, \"type\": \"scatterpolargl\"}], \"scatterternary\": [{\"marker\": {\"colorbar\": {\"outlinewidth\": 0, \"ticks\": \"\"}}, \"type\": \"scatterternary\"}], \"surface\": [{\"colorbar\": {\"outlinewidth\": 0, \"ticks\": \"\"}, \"colorscale\": [[0.0, \"#0d0887\"], [0.1111111111111111, \"#46039f\"], [0.2222222222222222, \"#7201a8\"], [0.3333333333333333, \"#9c179e\"], [0.4444444444444444, \"#bd3786\"], [0.5555555555555556, \"#d8576b\"], [0.6666666666666666, \"#ed7953\"], [0.7777777777777778, \"#fb9f3a\"], [0.8888888888888888, \"#fdca26\"], [1.0, \"#f0f921\"]], \"type\": \"surface\"}], \"table\": [{\"cells\": {\"fill\": {\"color\": \"#EBF0F8\"}, \"line\": {\"color\": \"white\"}}, \"header\": {\"fill\": {\"color\": \"#C8D4E3\"}, \"line\": {\"color\": \"white\"}}, \"type\": \"table\"}]}, \"layout\": {\"annotationdefaults\": {\"arrowcolor\": \"#2a3f5f\", \"arrowhead\": 0, \"arrowwidth\": 1}, \"coloraxis\": {\"colorbar\": {\"outlinewidth\": 0, \"ticks\": \"\"}}, \"colorscale\": {\"diverging\": [[0, \"#8e0152\"], [0.1, \"#c51b7d\"], [0.2, \"#de77ae\"], [0.3, \"#f1b6da\"], [0.4, \"#fde0ef\"], [0.5, \"#f7f7f7\"], [0.6, \"#e6f5d0\"], [0.7, \"#b8e186\"], [0.8, \"#7fbc41\"], [0.9, \"#4d9221\"], [1, \"#276419\"]], \"sequential\": [[0.0, \"#0d0887\"], [0.1111111111111111, \"#46039f\"], [0.2222222222222222, \"#7201a8\"], [0.3333333333333333, \"#9c179e\"], [0.4444444444444444, \"#bd3786\"], [0.5555555555555556, \"#d8576b\"], [0.6666666666666666, \"#ed7953\"], [0.7777777777777778, \"#fb9f3a\"], [0.8888888888888888, \"#fdca26\"], [1.0, \"#f0f921\"]], \"sequentialminus\": [[0.0, \"#0d0887\"], [0.1111111111111111, \"#46039f\"], [0.2222222222222222, \"#7201a8\"], [0.3333333333333333, \"#9c179e\"], [0.4444444444444444, \"#bd3786\"], [0.5555555555555556, \"#d8576b\"], [0.6666666666666666, \"#ed7953\"], [0.7777777777777778, \"#fb9f3a\"], [0.8888888888888888, \"#fdca26\"], [1.0, \"#f0f921\"]]}, \"colorway\": [\"#636efa\", \"#EF553B\", \"#00cc96\", \"#ab63fa\", \"#FFA15A\", \"#19d3f3\", \"#FF6692\", \"#B6E880\", \"#FF97FF\", \"#FECB52\"], \"font\": {\"color\": \"#2a3f5f\"}, \"geo\": {\"bgcolor\": \"white\", \"lakecolor\": \"white\", \"landcolor\": \"#E5ECF6\", \"showlakes\": true, \"showland\": true, \"subunitcolor\": \"white\"}, \"hoverlabel\": {\"align\": \"left\"}, \"hovermode\": \"closest\", \"mapbox\": {\"style\": \"light\"}, \"paper_bgcolor\": \"white\", \"plot_bgcolor\": \"#E5ECF6\", \"polar\": {\"angularaxis\": {\"gridcolor\": \"white\", \"linecolor\": \"white\", \"ticks\": \"\"}, \"bgcolor\": \"#E5ECF6\", \"radialaxis\": {\"gridcolor\": \"white\", \"linecolor\": \"white\", \"ticks\": \"\"}}, \"scene\": {\"xaxis\": {\"backgroundcolor\": \"#E5ECF6\", \"gridcolor\": \"white\", \"gridwidth\": 2, \"linecolor\": \"white\", \"showbackground\": true, \"ticks\": \"\", \"zerolinecolor\": \"white\"}, \"yaxis\": {\"backgroundcolor\": \"#E5ECF6\", \"gridcolor\": \"white\", \"gridwidth\": 2, \"linecolor\": \"white\", \"showbackground\": true, \"ticks\": \"\", \"zerolinecolor\": \"white\"}, \"zaxis\": {\"backgroundcolor\": \"#E5ECF6\", \"gridcolor\": \"white\", \"gridwidth\": 2, \"linecolor\": \"white\", \"showbackground\": true, \"ticks\": \"\", \"zerolinecolor\": \"white\"}}, \"shapedefaults\": {\"line\": {\"color\": \"#2a3f5f\"}}, \"ternary\": {\"aaxis\": {\"gridcolor\": \"white\", \"linecolor\": \"white\", \"ticks\": \"\"}, \"baxis\": {\"gridcolor\": \"white\", \"linecolor\": \"white\", \"ticks\": \"\"}, \"bgcolor\": \"#E5ECF6\", \"caxis\": {\"gridcolor\": \"white\", \"linecolor\": \"white\", \"ticks\": \"\"}}, \"title\": {\"x\": 0.05}, \"xaxis\": {\"automargin\": true, \"gridcolor\": \"white\", \"linecolor\": \"white\", \"ticks\": \"\", \"title\": {\"standoff\": 15}, \"zerolinecolor\": \"white\", \"zerolinewidth\": 2}, \"yaxis\": {\"automargin\": true, \"gridcolor\": \"white\", \"linecolor\": \"white\", \"ticks\": \"\", \"title\": {\"standoff\": 15}, \"zerolinecolor\": \"white\", \"zerolinewidth\": 2}}}},\n",
              "                        {\"responsive\": true}\n",
              "                    ).then(function(){\n",
              "                            \n",
              "var gd = document.getElementById('3625ffb6-cc5f-4c8d-896e-b32ba02528d9');\n",
              "var x = new MutationObserver(function (mutations, observer) {{\n",
              "        var display = window.getComputedStyle(gd).display;\n",
              "        if (!display || display === 'none') {{\n",
              "            console.log([gd, 'removed!']);\n",
              "            Plotly.purge(gd);\n",
              "            observer.disconnect();\n",
              "        }}\n",
              "}});\n",
              "\n",
              "// Listen for the removal of the full notebook cells\n",
              "var notebookContainer = gd.closest('#notebook-container');\n",
              "if (notebookContainer) {{\n",
              "    x.observe(notebookContainer, {childList: true});\n",
              "}}\n",
              "\n",
              "// Listen for the clearing of the current output cell\n",
              "var outputEl = gd.closest('.output');\n",
              "if (outputEl) {{\n",
              "    x.observe(outputEl, {childList: true});\n",
              "}}\n",
              "\n",
              "                        })\n",
              "                };\n",
              "                \n",
              "            </script>\n",
              "        </div>\n",
              "</body>\n",
              "</html>"
            ]
          },
          "metadata": {
            "tags": []
          }
        }
      ]
    },
    {
      "cell_type": "code",
      "metadata": {
        "scrolled": false,
        "id": "WpN3dH9OsvQ9",
        "colab": {
          "base_uri": "https://localhost:8080/"
        },
        "outputId": "e581be23-a231-471d-e0b4-ae7598945830"
      },
      "source": [
        "dff=pd.DataFrame(list(zip(new_dataframe['y'],forecast['yhat'])),columns=['Actual','Predicted'])\n",
        "dff[\"MAPE (Mean Absolute Percentage Error)\"]=(abs((dff['Actual']-dff['Predicted']))/dff['Actual'])*100\n",
        "      \n",
        "dff = dff.apply (pd.to_numeric, errors='coerce') #To drop NaN values\n",
        "\n",
        "print (dff.dropna(inplace=True))\n"
      ],
      "execution_count": null,
      "outputs": [
        {
          "output_type": "stream",
          "text": [
            "None\n"
          ],
          "name": "stdout"
        }
      ]
    },
    {
      "cell_type": "markdown",
      "metadata": {
        "id": "_6ugZA7RsvQ9"
      },
      "source": [
        "NOTE:\n",
        "- There are chances that MAPE value could be \"infinity\",so these values are to be made as \"Zero\" to find the mean value of the MAPE"
      ]
    },
    {
      "cell_type": "code",
      "metadata": {
        "scrolled": true,
        "id": "n8gB9SP-svQ9",
        "colab": {
          "base_uri": "https://localhost:8080/",
          "height": 1000
        },
        "outputId": "ea974540-39e1-4234-c607-8f20778a2536"
      },
      "source": [
        "lst=dff['MAPE (Mean Absolute Percentage Error)'].tolist()\n",
        "\n",
        "for i in range(len(lst)):\n",
        "    if lst[i]==float('inf'):\n",
        "        lst[i]=0\n",
        "    \n",
        "       \n",
        "#print(lst)\n",
        "dff['MAPE (Mean Absolute Percentage Error)']=lst\n",
        "dff"
      ],
      "execution_count": null,
      "outputs": [
        {
          "output_type": "execute_result",
          "data": {
            "text/html": [
              "<div>\n",
              "<style scoped>\n",
              "    .dataframe tbody tr th:only-of-type {\n",
              "        vertical-align: middle;\n",
              "    }\n",
              "\n",
              "    .dataframe tbody tr th {\n",
              "        vertical-align: top;\n",
              "    }\n",
              "\n",
              "    .dataframe thead th {\n",
              "        text-align: right;\n",
              "    }\n",
              "</style>\n",
              "<table border=\"1\" class=\"dataframe\">\n",
              "  <thead>\n",
              "    <tr style=\"text-align: right;\">\n",
              "      <th></th>\n",
              "      <th>Actual</th>\n",
              "      <th>Predicted</th>\n",
              "      <th>MAPE (Mean Absolute Percentage Error)</th>\n",
              "    </tr>\n",
              "  </thead>\n",
              "  <tbody>\n",
              "    <tr>\n",
              "      <th>0</th>\n",
              "      <td>-32.00000000</td>\n",
              "      <td>0.00000000</td>\n",
              "      <td>-100.00000000</td>\n",
              "    </tr>\n",
              "    <tr>\n",
              "      <th>1</th>\n",
              "      <td>171.00000000</td>\n",
              "      <td>138.24833900</td>\n",
              "      <td>19.15301813</td>\n",
              "    </tr>\n",
              "    <tr>\n",
              "      <th>2</th>\n",
              "      <td>8.00000000</td>\n",
              "      <td>31.63247011</td>\n",
              "      <td>295.40587640</td>\n",
              "    </tr>\n",
              "    <tr>\n",
              "      <th>3</th>\n",
              "      <td>0.00000000</td>\n",
              "      <td>2.97762444</td>\n",
              "      <td>0.00000000</td>\n",
              "    </tr>\n",
              "    <tr>\n",
              "      <th>4</th>\n",
              "      <td>41.00000000</td>\n",
              "      <td>48.31040127</td>\n",
              "      <td>17.83024701</td>\n",
              "    </tr>\n",
              "    <tr>\n",
              "      <th>5</th>\n",
              "      <td>29.00000000</td>\n",
              "      <td>34.95962516</td>\n",
              "      <td>20.55043158</td>\n",
              "    </tr>\n",
              "    <tr>\n",
              "      <th>6</th>\n",
              "      <td>265.00000000</td>\n",
              "      <td>236.85674226</td>\n",
              "      <td>10.62009726</td>\n",
              "    </tr>\n",
              "    <tr>\n",
              "      <th>7</th>\n",
              "      <td>111.00000000</td>\n",
              "      <td>100.05482686</td>\n",
              "      <td>9.86051635</td>\n",
              "    </tr>\n",
              "    <tr>\n",
              "      <th>8</th>\n",
              "      <td>32.00000000</td>\n",
              "      <td>36.62305251</td>\n",
              "      <td>14.44703908</td>\n",
              "    </tr>\n",
              "    <tr>\n",
              "      <th>9</th>\n",
              "      <td>72.00000000</td>\n",
              "      <td>62.32922591</td>\n",
              "      <td>13.43163068</td>\n",
              "    </tr>\n",
              "    <tr>\n",
              "      <th>10</th>\n",
              "      <td>0.00000000</td>\n",
              "      <td>45.16268688</td>\n",
              "      <td>0.00000000</td>\n",
              "    </tr>\n",
              "    <tr>\n",
              "      <th>11</th>\n",
              "      <td>0.00000000</td>\n",
              "      <td>6.17789735</td>\n",
              "      <td>0.00000000</td>\n",
              "    </tr>\n",
              "    <tr>\n",
              "      <th>12</th>\n",
              "      <td>80.00000000</td>\n",
              "      <td>30.78782948</td>\n",
              "      <td>61.51521316</td>\n",
              "    </tr>\n",
              "    <tr>\n",
              "      <th>13</th>\n",
              "      <td>2.00000000</td>\n",
              "      <td>67.71619260</td>\n",
              "      <td>3285.80963024</td>\n",
              "    </tr>\n",
              "    <tr>\n",
              "      <th>14</th>\n",
              "      <td>79.00000000</td>\n",
              "      <td>33.71328027</td>\n",
              "      <td>57.32496168</td>\n",
              "    </tr>\n",
              "    <tr>\n",
              "      <th>15</th>\n",
              "      <td>1.00000000</td>\n",
              "      <td>0.00000000</td>\n",
              "      <td>100.00000000</td>\n",
              "    </tr>\n",
              "    <tr>\n",
              "      <th>16</th>\n",
              "      <td>25.00000000</td>\n",
              "      <td>10.03055681</td>\n",
              "      <td>59.87777277</td>\n",
              "    </tr>\n",
              "    <tr>\n",
              "      <th>17</th>\n",
              "      <td>12.00000000</td>\n",
              "      <td>0.00000000</td>\n",
              "      <td>100.00000000</td>\n",
              "    </tr>\n",
              "    <tr>\n",
              "      <th>18</th>\n",
              "      <td>50.00000000</td>\n",
              "      <td>98.15181157</td>\n",
              "      <td>96.30362314</td>\n",
              "    </tr>\n",
              "    <tr>\n",
              "      <th>19</th>\n",
              "      <td>0.00000000</td>\n",
              "      <td>10.59628113</td>\n",
              "      <td>0.00000000</td>\n",
              "    </tr>\n",
              "    <tr>\n",
              "      <th>20</th>\n",
              "      <td>15.00000000</td>\n",
              "      <td>0.00000000</td>\n",
              "      <td>100.00000000</td>\n",
              "    </tr>\n",
              "    <tr>\n",
              "      <th>21</th>\n",
              "      <td>0.00000000</td>\n",
              "      <td>6.48800032</td>\n",
              "      <td>0.00000000</td>\n",
              "    </tr>\n",
              "    <tr>\n",
              "      <th>22</th>\n",
              "      <td>88.00000000</td>\n",
              "      <td>61.44734322</td>\n",
              "      <td>30.17347361</td>\n",
              "    </tr>\n",
              "    <tr>\n",
              "      <th>24</th>\n",
              "      <td>0.00000000</td>\n",
              "      <td>29.08820040</td>\n",
              "      <td>0.00000000</td>\n",
              "    </tr>\n",
              "    <tr>\n",
              "      <th>26</th>\n",
              "      <td>5.00000000</td>\n",
              "      <td>26.66215061</td>\n",
              "      <td>433.24301216</td>\n",
              "    </tr>\n",
              "    <tr>\n",
              "      <th>27</th>\n",
              "      <td>0.00000000</td>\n",
              "      <td>0.95867172</td>\n",
              "      <td>0.00000000</td>\n",
              "    </tr>\n",
              "    <tr>\n",
              "      <th>28</th>\n",
              "      <td>0.00000000</td>\n",
              "      <td>7.63826013</td>\n",
              "      <td>0.00000000</td>\n",
              "    </tr>\n",
              "    <tr>\n",
              "      <th>29</th>\n",
              "      <td>12.00000000</td>\n",
              "      <td>21.07070939</td>\n",
              "      <td>75.58924491</td>\n",
              "    </tr>\n",
              "    <tr>\n",
              "      <th>30</th>\n",
              "      <td>70.00000000</td>\n",
              "      <td>49.95251414</td>\n",
              "      <td>28.63926552</td>\n",
              "    </tr>\n",
              "    <tr>\n",
              "      <th>31</th>\n",
              "      <td>0.00000000</td>\n",
              "      <td>0.33490450</td>\n",
              "      <td>0.00000000</td>\n",
              "    </tr>\n",
              "    <tr>\n",
              "      <th>32</th>\n",
              "      <td>0.00000000</td>\n",
              "      <td>16.58259773</td>\n",
              "      <td>0.00000000</td>\n",
              "    </tr>\n",
              "    <tr>\n",
              "      <th>33</th>\n",
              "      <td>0.00000000</td>\n",
              "      <td>3.17201132</td>\n",
              "      <td>0.00000000</td>\n",
              "    </tr>\n",
              "    <tr>\n",
              "      <th>34</th>\n",
              "      <td>3.00000000</td>\n",
              "      <td>0.00000000</td>\n",
              "      <td>100.00000000</td>\n",
              "    </tr>\n",
              "    <tr>\n",
              "      <th>36</th>\n",
              "      <td>2.00000000</td>\n",
              "      <td>9.09371987</td>\n",
              "      <td>354.68599357</td>\n",
              "    </tr>\n",
              "  </tbody>\n",
              "</table>\n",
              "</div>"
            ],
            "text/plain": [
              "         Actual    Predicted  MAPE (Mean Absolute Percentage Error)\n",
              "0  -32.00000000   0.00000000                          -100.00000000\n",
              "1  171.00000000 138.24833900                            19.15301813\n",
              "2    8.00000000  31.63247011                           295.40587640\n",
              "3    0.00000000   2.97762444                             0.00000000\n",
              "4   41.00000000  48.31040127                            17.83024701\n",
              "5   29.00000000  34.95962516                            20.55043158\n",
              "6  265.00000000 236.85674226                            10.62009726\n",
              "7  111.00000000 100.05482686                             9.86051635\n",
              "8   32.00000000  36.62305251                            14.44703908\n",
              "9   72.00000000  62.32922591                            13.43163068\n",
              "10   0.00000000  45.16268688                             0.00000000\n",
              "11   0.00000000   6.17789735                             0.00000000\n",
              "12  80.00000000  30.78782948                            61.51521316\n",
              "13   2.00000000  67.71619260                          3285.80963024\n",
              "14  79.00000000  33.71328027                            57.32496168\n",
              "15   1.00000000   0.00000000                           100.00000000\n",
              "16  25.00000000  10.03055681                            59.87777277\n",
              "17  12.00000000   0.00000000                           100.00000000\n",
              "18  50.00000000  98.15181157                            96.30362314\n",
              "19   0.00000000  10.59628113                             0.00000000\n",
              "20  15.00000000   0.00000000                           100.00000000\n",
              "21   0.00000000   6.48800032                             0.00000000\n",
              "22  88.00000000  61.44734322                            30.17347361\n",
              "24   0.00000000  29.08820040                             0.00000000\n",
              "26   5.00000000  26.66215061                           433.24301216\n",
              "27   0.00000000   0.95867172                             0.00000000\n",
              "28   0.00000000   7.63826013                             0.00000000\n",
              "29  12.00000000  21.07070939                            75.58924491\n",
              "30  70.00000000  49.95251414                            28.63926552\n",
              "31   0.00000000   0.33490450                             0.00000000\n",
              "32   0.00000000  16.58259773                             0.00000000\n",
              "33   0.00000000   3.17201132                             0.00000000\n",
              "34   3.00000000   0.00000000                           100.00000000\n",
              "36   2.00000000   9.09371987                           354.68599357"
            ]
          },
          "metadata": {
            "tags": []
          },
          "execution_count": 211
        }
      ]
    },
    {
      "cell_type": "code",
      "metadata": {
        "scrolled": true,
        "id": "1JN6sZcBsvQ-",
        "colab": {
          "base_uri": "https://localhost:8080/"
        },
        "outputId": "cf278611-e6ba-4fdf-c57a-70462cb5eaba"
      },
      "source": [
        "dff['MAPE (Mean Absolute Percentage Error)'].mean()"
      ],
      "execution_count": null,
      "outputs": [
        {
          "output_type": "execute_result",
          "data": {
            "text/plain": [
              "152.4841484481219"
            ]
          },
          "metadata": {
            "tags": []
          },
          "execution_count": 212
        }
      ]
    },
    {
      "cell_type": "code",
      "metadata": {
        "scrolled": false,
        "id": "qcXqN-zvsvQ-",
        "colab": {
          "base_uri": "https://localhost:8080/"
        },
        "outputId": "5554efc7-50ec-49f1-8682-1017032a3669"
      },
      "source": [
        "dff['MAPE (Mean Absolute Percentage Error)'].mean()/dff['MAPE (Mean Absolute Percentage Error)'].count()"
      ],
      "execution_count": null,
      "outputs": [
        {
          "output_type": "execute_result",
          "data": {
            "text/plain": [
              "4.484827895532997"
            ]
          },
          "metadata": {
            "tags": []
          },
          "execution_count": 213
        }
      ]
    },
    {
      "cell_type": "code",
      "metadata": {
        "id": "w5cvVVg4svQ-",
        "colab": {
          "base_uri": "https://localhost:8080/"
        },
        "outputId": "9562ce74-45f7-416c-bfa1-a5086d78d99b"
      },
      "source": [
        "dff['MAPE (Mean Absolute Percentage Error)'].count()"
      ],
      "execution_count": null,
      "outputs": [
        {
          "output_type": "execute_result",
          "data": {
            "text/plain": [
              "34"
            ]
          },
          "metadata": {
            "tags": []
          },
          "execution_count": 214
        }
      ]
    },
    {
      "cell_type": "code",
      "metadata": {
        "scrolled": true,
        "id": "zAtB9zabsvQ_",
        "colab": {
          "base_uri": "https://localhost:8080/"
        },
        "outputId": "f1b7f803-892f-45b1-93a4-f1b6af549151"
      },
      "source": [
        "#import necessary libraries\n",
        "from sklearn.metrics import mean_squared_error\n",
        "from math import sqrt\n",
        "\n",
        "#calculate RMSE\n",
        "sqrt(mean_squared_error(dff['Actual'],dff['Predicted'])) \n",
        "\n"
      ],
      "execution_count": null,
      "outputs": [
        {
          "output_type": "execute_result",
          "data": {
            "text/plain": [
              "24.629188174600344"
            ]
          },
          "metadata": {
            "tags": []
          },
          "execution_count": 215
        }
      ]
    },
    {
      "cell_type": "code",
      "metadata": {
        "id": "6hb_DCtJsvQ_",
        "colab": {
          "base_uri": "https://localhost:8080/"
        },
        "outputId": "eea45173-a53d-4dc8-fe58-ca91eac1f4c1"
      },
      "source": [
        "len(dff['Actual']) , len(dff['Predicted'])"
      ],
      "execution_count": null,
      "outputs": [
        {
          "output_type": "execute_result",
          "data": {
            "text/plain": [
              "(34, 34)"
            ]
          },
          "metadata": {
            "tags": []
          },
          "execution_count": 216
        }
      ]
    },
    {
      "cell_type": "code",
      "metadata": {
        "id": "DvG5zwKVsvQ_",
        "colab": {
          "base_uri": "https://localhost:8080/"
        },
        "outputId": "8c443cde-3195-4432-bae0-e4058304bf79"
      },
      "source": [
        "def mape(actual, pred): \n",
        "    actual, pred = np.array(actual), np.array(pred)\n",
        "    return np.mean(np.abs((actual - pred) / actual)) * 100\n",
        "mape(dff['Actual'],dff['Predicted'])"
      ],
      "execution_count": null,
      "outputs": [
        {
          "output_type": "execute_result",
          "data": {
            "text/plain": [
              "inf"
            ]
          },
          "metadata": {
            "tags": []
          },
          "execution_count": 217
        }
      ]
    },
    {
      "cell_type": "code",
      "metadata": {
        "id": "UCMf2tKcsvRA"
      },
      "source": [
        "#!pip install PySimpleGUI"
      ],
      "execution_count": null,
      "outputs": []
    },
    {
      "cell_type": "code",
      "metadata": {
        "id": "a7fsFCP8svRA"
      },
      "source": [
        "#!pip install PyInstaller"
      ],
      "execution_count": null,
      "outputs": []
    },
    {
      "cell_type": "code",
      "metadata": {
        "id": "cdM5EngssvRA",
        "colab": {
          "base_uri": "https://localhost:8080/",
          "height": 281
        },
        "outputId": "19bc21a8-2e23-4261-a560-f616d48cab65"
      },
      "source": [
        "from fbprophet import Prophet\r\n",
        "\r\n",
        "\r\n",
        "m = Prophet()\r\n",
        "# Selecting one product\r\n",
        "#df_store_1 = df_sales[df_sales[\"Store\"]==1]\r\n",
        "\r\n",
        "#df_store_1[\"Date\"] = pd.to_datetime(df_store_1[\"Date\"])\r\n",
        "#ds = df_store_1[\"Date\"].dt.tz_localize(None)\r\n",
        "#y = df_store_1[\"Weekly_Sales\"]\r\n",
        "#df_for_prophet = pd.DataFrame(dict(ds=ds,y=y))\r\n",
        "m.fit(new_dataframe)\r\n",
        "future = m.make_future_dataframe(periods=49)\r\n",
        "forecast = m.predict(future)\r\n",
        "forecast = forecast[[\"ds\",\"trend\", \"trend_lower\", \"trend_upper\"]]\r\n",
        "fig = m.plot_components(forecast,plot_cap=False)\r\n",
        "trend_ax = fig.axes[0]\r\n",
        "trend_ax.plot()\r\n",
        "plt.title(\"Trend for Retail Data\", fontsize=15)\r\n",
        "plt.xlabel(\"Date\", fontsize=15)\r\n",
        "plt.ylabel(\"Sales Trend\", fontsize=15)\r\n",
        "\r\n",
        "plt.show()"
      ],
      "execution_count": null,
      "outputs": [
        {
          "output_type": "stream",
          "text": [
            "INFO:fbprophet:Disabling weekly seasonality. Run prophet with weekly_seasonality=True to override this.\n",
            "INFO:fbprophet:Disabling daily seasonality. Run prophet with daily_seasonality=True to override this.\n"
          ],
          "name": "stderr"
        },
        {
          "output_type": "display_data",
          "data": {
            "image/png": "[encoded data removed]",
            "text/plain": [
              "<Figure size 648x216 with 1 Axes>"
            ]
          },
          "metadata": {
            "tags": []
          }
        }
      ]
    },
    {
      "cell_type": "code",
      "metadata": {
        "colab": {
          "base_uri": "https://localhost:8080/",
          "height": 323
        },
        "id": "GGeTvbC13PEC",
        "outputId": "50017641-4a6f-4e91-f20f-87c6c38d6bc4"
      },
      "source": [
        "import warnings\r\n",
        "import matplotlib.pyplot as plt\r\n",
        "fig, ax = plt.subplots(figsize=(20, 6))\r\n",
        "ax.plot(new_dataframe['ds'],new_dataframe['y'],marker='.', linestyle='-', linewidth=0.5, label='Monthly')\r\n",
        "ax.set_ylabel('Orders')\r\n",
        "ax.legend();"
      ],
      "execution_count": null,
      "outputs": [
        {
          "output_type": "display_data",
          "data": {
            "image/png": "[encoded data removed]",
            "text/plain": [
              "<Figure size 1440x432 with 1 Axes>"
            ]
          },
          "metadata": {
            "tags": [],
            "needs_background": "light"
          }
        }
      ]
    },
    {
      "cell_type": "code",
      "metadata": {
        "id": "U7y7lPoa5L-E"
      },
      "source": [
        "from statsmodels.tsa.seasonal import seasonal_decompose"
      ],
      "execution_count": null,
      "outputs": []
    },
    {
      "cell_type": "code",
      "metadata": {
        "id": "rmBeat0PHFwf"
      },
      "source": [
        "# Augmented Dickey-Fuller Test\r\n",
        "from statsmodels.tsa.stattools import adfuller\r\n",
        "\r\n",
        "def ADF_test(timeseries, dataDesc):\r\n",
        "    print(' > Is the {} stationary ?'.format(dataDesc))\r\n",
        "    dftest = adfuller(timeseries.dropna(), autolag='AIC')\r\n",
        "    print('Test statistic = {:.3f}'.format(dftest[0]))\r\n",
        "    print('P-value = {:.3f}'.format(dftest[1]))\r\n",
        "    print('Critical values :')\r\n",
        "    for k, v in dftest[4].items():\r\n",
        "        print('\\t{}: {} - The data is {} stationary with {}% confidence'.format(k, v, 'not' if v<dftest[0] else '', 100-int(k[:-1])))"
      ],
      "execution_count": null,
      "outputs": []
    },
    {
      "cell_type": "code",
      "metadata": {
        "colab": {
          "base_uri": "https://localhost:8080/"
        },
        "id": "A8eJ9PLGHKUj",
        "outputId": "b98a42d1-8aa2-4dbe-b59b-27e5afb8cdc6"
      },
      "source": [
        "ADF_test(new_dataframe['y'],'raw data')"
      ],
      "execution_count": null,
      "outputs": [
        {
          "output_type": "stream",
          "text": [
            " > Is the raw data stationary ?\n",
            "Test statistic = -2.832\n",
            "P-value = 0.054\n",
            "Critical values :\n",
            "\t1%: -3.6790595944893187 - The data is not stationary with 99% confidence\n",
            "\t5%: -2.9678817237279103 - The data is not stationary with 95% confidence\n",
            "\t10%: -2.6231583472057074 - The data is  stationary with 90% confidence\n"
          ],
          "name": "stdout"
        }
      ]
    },
    {
      "cell_type": "code",
      "metadata": {
        "id": "KO6cNMYxLUrC",
        "colab": {
          "base_uri": "https://localhost:8080/",
          "height": 484
        },
        "outputId": "1e3e5a37-6ce2-4cf9-8848-916e7b3bf44a"
      },
      "source": [
        "series = new_dataframe.y\r\n",
        "window=15\r\n",
        "\r\n",
        "\r\n",
        "from sklearn.metrics import mean_absolute_error\r\n",
        "import matplotlib.pyplot as plt\r\n",
        "import seaborn as sns\r\n",
        "sns.set()\r\n",
        "\r\n",
        "green = sns.color_palette(\"deep\", 8)[2]\r\n",
        "blue = sns.color_palette(\"deep\", 8)[0]\r\n",
        "\r\n",
        "rolling_mean = series.rolling(window=window).mean()\r\n",
        "fig,ax = plt.subplots(figsize=(17,8))\r\n",
        "\r\n",
        "\r\n",
        "plt.title('Moving Average Model for Retail Sales',fontsize=15)\r\n",
        "\r\n",
        "plt.plot(rolling_mean, color = green, label='Rolling mean trend')\r\n",
        "\r\n",
        "#Plot confidence intervals for smoothed values\r\n",
        "mae = mean_absolute_error(series[window:], rolling_mean[window:])\r\n",
        "deviation = np.std(series[window:] - rolling_mean[window:])\r\n",
        "lower_bound = rolling_mean - (mae + 1.92 * deviation)\r\n",
        "upper_bound = rolling_mean + (mae + 1.92 * deviation)\r\n",
        "\r\n",
        "plt.plot(upper_bound, 'r--', label='Upper bound / Lower bound')\r\n",
        "plt.plot(lower_bound, 'r--')\r\n",
        "\r\n",
        "plt.plot(series[window:], color=blue,label='Actual values')\r\n",
        "\r\n",
        "\r\n",
        "plt.legend(loc='best')\r\n",
        "plt.grid(True)\r\n",
        "plt.xticks([])\r\n",
        "plt.show()"
      ],
      "execution_count": null,
      "outputs": [
        {
          "output_type": "display_data",
          "data": {
            "image/png": "[encoded data removed]",
            "text/plain": [
              "<Figure size 1224x576 with 1 Axes>"
            ]
          },
          "metadata": {
            "tags": []
          }
        }
      ]
    },
    {
      "cell_type": "code",
      "metadata": {
        "id": "Pdl2LDHRMiN4",
        "colab": {
          "base_uri": "https://localhost:8080/",
          "height": 478
        },
        "outputId": "88a5232b-ad72-4cfa-dce2-d16aaed24e5d"
      },
      "source": [
        "from statsmodels.tsa.api import ExponentialSmoothing\r\n",
        "import matplotlib.pyplot as plt\r\n",
        "import matplotlib.dates as mdates\r\n",
        "import seaborn as sns\r\n",
        "sns.set()\r\n",
        "import pandas as pd\r\n",
        "\r\n",
        "# Put the correct dataframe here!\r\n",
        "\r\n",
        "fit1 = ExponentialSmoothing(new_dataframe['y'][0:200]).fit(smoothing_level=0.9, optimized=False)\r\n",
        "\r\n",
        "fit2 = ExponentialSmoothing(new_dataframe['y'][0:300]).fit(smoothing_level=0.5, optimized=False)\r\n",
        "\r\n",
        "forecast1 = fit1.forecast(3).rename(r'$\\alpha=0.9$')\r\n",
        "forecast2 = fit2.forecast(3).rename(r'$\\alpha=0.5$')\r\n",
        "plt.figure(figsize=(17,8))\r\n",
        "\r\n",
        "#forecast1.plot(color='blue', legend=True)\r\n",
        "forecast2.plot(color='red', legend=True)\r\n",
        "new_dataframe['y'][0:200].plot(marker='',color='green', legend=True)\r\n",
        "plt.ylabel(\"Sales\", fontsize=15)\r\n",
        "\r\n",
        "#fit1.fittedvalues.plot(color='blue')\r\n",
        "fit2.fittedvalues.plot(color='red')\r\n",
        "\r\n",
        "plt.title(\"Exponential Smoothing for Retail Data\", fontsize=15)\r\n",
        "plt.xticks([], minor=True)\r\n",
        "plt.show()"
      ],
      "execution_count": null,
      "outputs": [
        {
          "output_type": "display_data",
          "data": {
            "image/png": "[encoded data removed]",
            "text/plain": [
              "<Figure size 1224x576 with 1 Axes>"
            ]
          },
          "metadata": {
            "tags": []
          }
        }
      ]
    },
    {
      "cell_type": "code",
      "metadata": {
        "id": "YgabOXo3OxvR",
        "colab": {
          "base_uri": "https://localhost:8080/",
          "height": 560
        },
        "outputId": "229d18bb-cfe1-4ffb-cb94-0cc83dabcabf"
      },
      "source": [
        "from statsmodels.tsa.arima_model import ARIMA\r\n",
        "from sklearn.metrics import mean_squared_error\r\n",
        "import pandas as pd\r\n",
        "import matplotlib.pyplot as plt\r\n",
        "import seaborn as sns\r\n",
        "sns.set()\r\n",
        "\r\n",
        "\r\n",
        "X = new_dataframe['y'].values\r\n",
        "\r\n",
        "split = int(0.66*len(X))\r\n",
        "train, test = X[0:split], X[split:] \r\n",
        "\r\n",
        "history = [x for x in train]\r\n",
        "predictions = [] \r\n",
        "\r\n",
        "for t in range(len(test)): \r\n",
        "\tmodel = ARIMA(history, order=(0,0,1))\r\n",
        "\tmodel_fit = model.fit(disp=0)\r\n",
        "\r\n",
        "\t#future = m.make_future_dataframe(40,freq='MS')\r\n",
        "\t#forecast = m.predict(future) #change output to forecast\r\n",
        "\toutput = model_fit.forecast(steps=1)\r\n",
        "\tyhat = output[0] \r\n",
        "\tpredictions.append(yhat) \r\n",
        "\tobs = test[t]\r\n",
        "\thistory.append(obs)\r\n",
        "prd_df = new_dataframe.shift(5, axis = 0) \r\n",
        "plt.figure(figsize=(17,8))\r\n",
        "\r\n",
        "# plot predictions and actual values \r\n",
        "#prediction.plot(legend = True) \r\n",
        "#test['y'].plot(legend = True) \r\n",
        "#plt.plot(test)\r\n",
        "#plt.plot(predictions, color='red')\r\n",
        "#plt.title(\"ARIMA fit to Sales Data\",fontsize=15)\r\n",
        "#plt.xticks([])\r\n",
        "#py.xlabel('Months')\r\n",
        "#plt.ylabel('Sales')\r\n",
        "#plt.show()\r\n",
        "py.iplot([\r\n",
        "    go.Scatter(x=prd_df['ds'], y=history, name='Actual'),\r\n",
        "    go.Scatter(x=forecast['ds'], y=test, name='Predicted')])"
      ],
      "execution_count": null,
      "outputs": [
        {
          "output_type": "display_data",
          "data": {
            "text/html": [
              "<html>\n",
              "<head><meta charset=\"utf-8\" /></head>\n",
              "<body>\n",
              "    <div>\n",
              "            <script src=\"https://cdnjs.cloudflare.com/ajax/libs/mathjax/2.7.5/MathJax.js?config=TeX-AMS-MML_SVG\"></script><script type=\"text/javascript\">if (window.MathJax) {MathJax.Hub.Config({SVG: {font: \"STIX-Web\"}});}</script>\n",
              "                <script type=\"text/javascript\">window.PlotlyConfig = {MathJaxConfig: 'local'};</script>\n",
              "        <script src=\"https://cdn.plot.ly/plotly-latest.min.js\"></script>    \n",
              "            <div id=\"3373bf19-b5b7-496e-9410-4db222857459\" class=\"plotly-graph-div\" style=\"height:525px; width:100%;\"></div>\n",
              "            <script type=\"text/javascript\">\n",
              "                \n",
              "                    window.PLOTLYENV=window.PLOTLYENV || {};\n",
              "                    \n",
              "                if (document.getElementById(\"3373bf19-b5b7-496e-9410-4db222857459\")) {\n",
              "                    Plotly.newPlot(\n",
              "                        '3373bf19-b5b7-496e-9410-4db222857459',\n",
              "                        [{\"name\": \"Actual\", \"type\": \"scatter\", \"x\": [null, null, null, null, null, \"2017-05-01T00:00:00\", \"2017-06-01T00:00:00\", \"2017-07-01T00:00:00\", \"2017-08-01T00:00:00\", \"2017-09-01T00:00:00\", \"2017-10-01T00:00:00\", \"2017-11-01T00:00:00\", \"2017-12-01T00:00:00\", \"2018-01-01T00:00:00\", \"2018-02-01T00:00:00\", \"2018-03-01T00:00:00\", \"2018-04-01T00:00:00\", \"2018-05-01T00:00:00\", \"2018-06-01T00:00:00\", \"2018-07-01T00:00:00\", \"2018-08-01T00:00:00\", \"2018-09-01T00:00:00\", \"2018-10-01T00:00:00\", \"2018-11-01T00:00:00\", \"2018-12-01T00:00:00\", \"2019-01-01T00:00:00\", \"2019-02-01T00:00:00\", \"2019-03-01T00:00:00\", \"2019-04-01T00:00:00\", \"2019-05-01T00:00:00\", \"2019-06-01T00:00:00\", \"2019-07-01T00:00:00\", \"2019-08-01T00:00:00\", \"2019-09-01T00:00:00\", \"2019-10-01T00:00:00\", \"2019-11-01T00:00:00\", \"2019-12-01T00:00:00\"], \"y\": [-32.0, 171.0, 8.0, 0.0, 41.0, 29.0, 265.0, 111.0, 32.0, 72.0, 0.0, 0.0, 80.0, 2.0, 79.0, 1.0, 25.0, 12.0, 50.0, 0.0, 15.0, 0.0, 88.0, 0.0, 0.0, 0.0, 5.0, 0.0, 0.0, 12.0, 70.0, 0.0, 0.0, 0.0, 3.0, 0.0, 2.0]}, {\"name\": \"Predicted\", \"type\": \"scatter\", \"x\": [\"2017-05-01T00:00:00\", \"2017-06-01T00:00:00\", \"2017-07-01T00:00:00\", \"2017-08-01T00:00:00\", \"2017-09-01T00:00:00\", \"2017-10-01T00:00:00\", \"2017-11-01T00:00:00\", \"2017-12-01T00:00:00\", \"2018-01-01T00:00:00\", \"2018-02-01T00:00:00\", \"2018-03-01T00:00:00\", \"2018-04-01T00:00:00\", \"2018-05-01T00:00:00\", \"2018-06-01T00:00:00\", \"2018-07-01T00:00:00\", \"2018-08-01T00:00:00\", \"2018-09-01T00:00:00\", \"2018-10-01T00:00:00\", \"2018-11-01T00:00:00\", \"2018-12-01T00:00:00\", \"2019-01-01T00:00:00\", \"2019-02-01T00:00:00\", \"2019-03-01T00:00:00\", \"2019-04-01T00:00:00\", \"2019-05-01T00:00:00\", \"2019-06-01T00:00:00\", \"2019-07-01T00:00:00\", \"2019-08-01T00:00:00\", \"2019-09-01T00:00:00\", \"2019-10-01T00:00:00\", \"2019-11-01T00:00:00\", \"2019-12-01T00:00:00\", \"2020-01-01T00:00:00\", \"2020-02-01T00:00:00\", \"2020-03-01T00:00:00\", \"2020-04-01T00:00:00\", \"2020-05-01T00:00:00\", \"2020-05-02T00:00:00\", \"2020-05-03T00:00:00\", \"2020-05-04T00:00:00\", \"2020-05-05T00:00:00\", \"2020-05-06T00:00:00\", \"2020-05-07T00:00:00\", \"2020-05-08T00:00:00\", \"2020-05-09T00:00:00\", \"2020-05-10T00:00:00\", \"2020-05-11T00:00:00\", \"2020-05-12T00:00:00\", \"2020-05-13T00:00:00\", \"2020-05-14T00:00:00\", \"2020-05-15T00:00:00\", \"2020-05-16T00:00:00\", \"2020-05-17T00:00:00\", \"2020-05-18T00:00:00\", \"2020-05-19T00:00:00\", \"2020-05-20T00:00:00\", \"2020-05-21T00:00:00\", \"2020-05-22T00:00:00\", \"2020-05-23T00:00:00\", \"2020-05-24T00:00:00\", \"2020-05-25T00:00:00\", \"2020-05-26T00:00:00\", \"2020-05-27T00:00:00\", \"2020-05-28T00:00:00\", \"2020-05-29T00:00:00\", \"2020-05-30T00:00:00\", \"2020-05-31T00:00:00\", \"2020-06-01T00:00:00\", \"2020-06-02T00:00:00\", \"2020-06-03T00:00:00\", \"2020-06-04T00:00:00\", \"2020-06-05T00:00:00\", \"2020-06-06T00:00:00\", \"2020-06-07T00:00:00\", \"2020-06-08T00:00:00\", \"2020-06-09T00:00:00\", \"2020-06-10T00:00:00\", \"2020-06-11T00:00:00\", \"2020-06-12T00:00:00\", \"2020-06-13T00:00:00\", \"2020-06-14T00:00:00\", \"2020-06-15T00:00:00\", \"2020-06-16T00:00:00\", \"2020-06-17T00:00:00\", \"2020-06-18T00:00:00\", \"2020-06-19T00:00:00\"], \"y\": [0.0, 0.0, 5.0, 0.0, 0.0, 12.0, 70.0, 0.0, 0.0, 0.0, 3.0, 0.0, 2.0]}],\n",
              "                        {\"template\": {\"data\": {\"bar\": [{\"error_x\": {\"color\": \"#2a3f5f\"}, \"error_y\": {\"color\": \"#2a3f5f\"}, \"marker\": {\"line\": {\"color\": \"#E5ECF6\", \"width\": 0.5}}, \"type\": \"bar\"}], \"barpolar\": [{\"marker\": {\"line\": {\"color\": \"#E5ECF6\", \"width\": 0.5}}, \"type\": \"barpolar\"}], \"carpet\": [{\"aaxis\": {\"endlinecolor\": \"#2a3f5f\", \"gridcolor\": \"white\", \"linecolor\": \"white\", \"minorgridcolor\": \"white\", \"startlinecolor\": \"#2a3f5f\"}, \"baxis\": {\"endlinecolor\": \"#2a3f5f\", \"gridcolor\": \"white\", \"linecolor\": \"white\", \"minorgridcolor\": \"white\", \"startlinecolor\": \"#2a3f5f\"}, \"type\": \"carpet\"}], \"choropleth\": [{\"colorbar\": {\"outlinewidth\": 0, \"ticks\": \"\"}, \"type\": \"choropleth\"}], \"contour\": [{\"colorbar\": {\"outlinewidth\": 0, \"ticks\": \"\"}, \"colorscale\": [[0.0, \"#0d0887\"], [0.1111111111111111, \"#46039f\"], [0.2222222222222222, \"#7201a8\"], [0.3333333333333333, \"#9c179e\"], [0.4444444444444444, \"#bd3786\"], [0.5555555555555556, \"#d8576b\"], [0.6666666666666666, \"#ed7953\"], [0.7777777777777778, \"#fb9f3a\"], [0.8888888888888888, \"#fdca26\"], [1.0, \"#f0f921\"]], \"type\": \"contour\"}], \"contourcarpet\": [{\"colorbar\": {\"outlinewidth\": 0, \"ticks\": \"\"}, \"type\": \"contourcarpet\"}], \"heatmap\": [{\"colorbar\": {\"outlinewidth\": 0, \"ticks\": \"\"}, \"colorscale\": [[0.0, \"#0d0887\"], [0.1111111111111111, \"#46039f\"], [0.2222222222222222, \"#7201a8\"], [0.3333333333333333, \"#9c179e\"], [0.4444444444444444, \"#bd3786\"], [0.5555555555555556, \"#d8576b\"], [0.6666666666666666, \"#ed7953\"], [0.7777777777777778, \"#fb9f3a\"], [0.8888888888888888, \"#fdca26\"], [1.0, \"#f0f921\"]], \"type\": \"heatmap\"}], \"heatmapgl\": [{\"colorbar\": {\"outlinewidth\": 0, \"ticks\": \"\"}, \"colorscale\": [[0.0, \"#0d0887\"], [0.1111111111111111, \"#46039f\"], [0.2222222222222222, \"#7201a8\"], [0.3333333333333333, \"#9c179e\"], [0.4444444444444444, \"#bd3786\"], [0.5555555555555556, \"#d8576b\"], [0.6666666666666666, \"#ed7953\"], [0.7777777777777778, \"#fb9f3a\"], [0.8888888888888888, \"#fdca26\"], [1.0, \"#f0f921\"]], \"type\": \"heatmapgl\"}], \"histogram\": [{\"marker\": {\"colorbar\": {\"outlinewidth\": 0, \"ticks\": \"\"}}, \"type\": \"histogram\"}], \"histogram2d\": [{\"colorbar\": {\"outlinewidth\": 0, \"ticks\": \"\"}, \"colorscale\": [[0.0, \"#0d0887\"], [0.1111111111111111, \"#46039f\"], [0.2222222222222222, \"#7201a8\"], [0.3333333333333333, \"#9c179e\"], [0.4444444444444444, \"#bd3786\"], [0.5555555555555556, \"#d8576b\"], [0.6666666666666666, \"#ed7953\"], [0.7777777777777778, \"#fb9f3a\"], [0.8888888888888888, \"#fdca26\"], [1.0, \"#f0f921\"]], \"type\": \"histogram2d\"}], \"histogram2dcontour\": [{\"colorbar\": {\"outlinewidth\": 0, \"ticks\": \"\"}, \"colorscale\": [[0.0, \"#0d0887\"], [0.1111111111111111, \"#46039f\"], [0.2222222222222222, \"#7201a8\"], [0.3333333333333333, \"#9c179e\"], [0.4444444444444444, \"#bd3786\"], [0.5555555555555556, \"#d8576b\"], [0.6666666666666666, \"#ed7953\"], [0.7777777777777778, \"#fb9f3a\"], [0.8888888888888888, \"#fdca26\"], [1.0, \"#f0f921\"]], \"type\": \"histogram2dcontour\"}], \"mesh3d\": [{\"colorbar\": {\"outlinewidth\": 0, \"ticks\": \"\"}, \"type\": \"mesh3d\"}], \"parcoords\": [{\"line\": {\"colorbar\": {\"outlinewidth\": 0, \"ticks\": \"\"}}, \"type\": \"parcoords\"}], \"pie\": [{\"automargin\": true, \"type\": \"pie\"}], \"scatter\": [{\"marker\": {\"colorbar\": {\"outlinewidth\": 0, \"ticks\": \"\"}}, \"type\": \"scatter\"}], \"scatter3d\": [{\"line\": {\"colorbar\": {\"outlinewidth\": 0, \"ticks\": \"\"}}, \"marker\": {\"colorbar\": {\"outlinewidth\": 0, \"ticks\": \"\"}}, \"type\": \"scatter3d\"}], \"scattercarpet\": [{\"marker\": {\"colorbar\": {\"outlinewidth\": 0, \"ticks\": \"\"}}, \"type\": \"scattercarpet\"}], \"scattergeo\": [{\"marker\": {\"colorbar\": {\"outlinewidth\": 0, \"ticks\": \"\"}}, \"type\": \"scattergeo\"}], \"scattergl\": [{\"marker\": {\"colorbar\": {\"outlinewidth\": 0, \"ticks\": \"\"}}, \"type\": \"scattergl\"}], \"scattermapbox\": [{\"marker\": {\"colorbar\": {\"outlinewidth\": 0, \"ticks\": \"\"}}, \"type\": \"scattermapbox\"}], \"scatterpolar\": [{\"marker\": {\"colorbar\": {\"outlinewidth\": 0, \"ticks\": \"\"}}, \"type\": \"scatterpolar\"}], \"scatterpolargl\": [{\"marker\": {\"colorbar\": {\"outlinewidth\": 0, \"ticks\": \"\"}}, \"type\": \"scatterpolargl\"}], \"scatterternary\": [{\"marker\": {\"colorbar\": {\"outlinewidth\": 0, \"ticks\": \"\"}}, \"type\": \"scatterternary\"}], \"surface\": [{\"colorbar\": {\"outlinewidth\": 0, \"ticks\": \"\"}, \"colorscale\": [[0.0, \"#0d0887\"], [0.1111111111111111, \"#46039f\"], [0.2222222222222222, \"#7201a8\"], [0.3333333333333333, \"#9c179e\"], [0.4444444444444444, \"#bd3786\"], [0.5555555555555556, \"#d8576b\"], [0.6666666666666666, \"#ed7953\"], [0.7777777777777778, \"#fb9f3a\"], [0.8888888888888888, \"#fdca26\"], [1.0, \"#f0f921\"]], \"type\": \"surface\"}], \"table\": [{\"cells\": {\"fill\": {\"color\": \"#EBF0F8\"}, \"line\": {\"color\": \"white\"}}, \"header\": {\"fill\": {\"color\": \"#C8D4E3\"}, \"line\": {\"color\": \"white\"}}, \"type\": \"table\"}]}, \"layout\": {\"annotationdefaults\": {\"arrowcolor\": \"#2a3f5f\", \"arrowhead\": 0, \"arrowwidth\": 1}, \"coloraxis\": {\"colorbar\": {\"outlinewidth\": 0, \"ticks\": \"\"}}, \"colorscale\": {\"diverging\": [[0, \"#8e0152\"], [0.1, \"#c51b7d\"], [0.2, \"#de77ae\"], [0.3, \"#f1b6da\"], [0.4, \"#fde0ef\"], [0.5, \"#f7f7f7\"], [0.6, \"#e6f5d0\"], [0.7, \"#b8e186\"], [0.8, \"#7fbc41\"], [0.9, \"#4d9221\"], [1, \"#276419\"]], \"sequential\": [[0.0, \"#0d0887\"], [0.1111111111111111, \"#46039f\"], [0.2222222222222222, \"#7201a8\"], [0.3333333333333333, \"#9c179e\"], [0.4444444444444444, \"#bd3786\"], [0.5555555555555556, \"#d8576b\"], [0.6666666666666666, \"#ed7953\"], [0.7777777777777778, \"#fb9f3a\"], [0.8888888888888888, \"#fdca26\"], [1.0, \"#f0f921\"]], \"sequentialminus\": [[0.0, \"#0d0887\"], [0.1111111111111111, \"#46039f\"], [0.2222222222222222, \"#7201a8\"], [0.3333333333333333, \"#9c179e\"], [0.4444444444444444, \"#bd3786\"], [0.5555555555555556, \"#d8576b\"], [0.6666666666666666, \"#ed7953\"], [0.7777777777777778, \"#fb9f3a\"], [0.8888888888888888, \"#fdca26\"], [1.0, \"#f0f921\"]]}, \"colorway\": [\"#636efa\", \"#EF553B\", \"#00cc96\", \"#ab63fa\", \"#FFA15A\", \"#19d3f3\", \"#FF6692\", \"#B6E880\", \"#FF97FF\", \"#FECB52\"], \"font\": {\"color\": \"#2a3f5f\"}, \"geo\": {\"bgcolor\": \"white\", \"lakecolor\": \"white\", \"landcolor\": \"#E5ECF6\", \"showlakes\": true, \"showland\": true, \"subunitcolor\": \"white\"}, \"hoverlabel\": {\"align\": \"left\"}, \"hovermode\": \"closest\", \"mapbox\": {\"style\": \"light\"}, \"paper_bgcolor\": \"white\", \"plot_bgcolor\": \"#E5ECF6\", \"polar\": {\"angularaxis\": {\"gridcolor\": \"white\", \"linecolor\": \"white\", \"ticks\": \"\"}, \"bgcolor\": \"#E5ECF6\", \"radialaxis\": {\"gridcolor\": \"white\", \"linecolor\": \"white\", \"ticks\": \"\"}}, \"scene\": {\"xaxis\": {\"backgroundcolor\": \"#E5ECF6\", \"gridcolor\": \"white\", \"gridwidth\": 2, \"linecolor\": \"white\", \"showbackground\": true, \"ticks\": \"\", \"zerolinecolor\": \"white\"}, \"yaxis\": {\"backgroundcolor\": \"#E5ECF6\", \"gridcolor\": \"white\", \"gridwidth\": 2, \"linecolor\": \"white\", \"showbackground\": true, \"ticks\": \"\", \"zerolinecolor\": \"white\"}, \"zaxis\": {\"backgroundcolor\": \"#E5ECF6\", \"gridcolor\": \"white\", \"gridwidth\": 2, \"linecolor\": \"white\", \"showbackground\": true, \"ticks\": \"\", \"zerolinecolor\": \"white\"}}, \"shapedefaults\": {\"line\": {\"color\": \"#2a3f5f\"}}, \"ternary\": {\"aaxis\": {\"gridcolor\": \"white\", \"linecolor\": \"white\", \"ticks\": \"\"}, \"baxis\": {\"gridcolor\": \"white\", \"linecolor\": \"white\", \"ticks\": \"\"}, \"bgcolor\": \"#E5ECF6\", \"caxis\": {\"gridcolor\": \"white\", \"linecolor\": \"white\", \"ticks\": \"\"}}, \"title\": {\"x\": 0.05}, \"xaxis\": {\"automargin\": true, \"gridcolor\": \"white\", \"linecolor\": \"white\", \"ticks\": \"\", \"title\": {\"standoff\": 15}, \"zerolinecolor\": \"white\", \"zerolinewidth\": 2}, \"yaxis\": {\"automargin\": true, \"gridcolor\": \"white\", \"linecolor\": \"white\", \"ticks\": \"\", \"title\": {\"standoff\": 15}, \"zerolinecolor\": \"white\", \"zerolinewidth\": 2}}}},\n",
              "                        {\"responsive\": true}\n",
              "                    ).then(function(){\n",
              "                            \n",
              "var gd = document.getElementById('3373bf19-b5b7-496e-9410-4db222857459');\n",
              "var x = new MutationObserver(function (mutations, observer) {{\n",
              "        var display = window.getComputedStyle(gd).display;\n",
              "        if (!display || display === 'none') {{\n",
              "            console.log([gd, 'removed!']);\n",
              "            Plotly.purge(gd);\n",
              "            observer.disconnect();\n",
              "        }}\n",
              "}});\n",
              "\n",
              "// Listen for the removal of the full notebook cells\n",
              "var notebookContainer = gd.closest('#notebook-container');\n",
              "if (notebookContainer) {{\n",
              "    x.observe(notebookContainer, {childList: true});\n",
              "}}\n",
              "\n",
              "// Listen for the clearing of the current output cell\n",
              "var outputEl = gd.closest('.output');\n",
              "if (outputEl) {{\n",
              "    x.observe(outputEl, {childList: true});\n",
              "}}\n",
              "\n",
              "                        })\n",
              "                };\n",
              "                \n",
              "            </script>\n",
              "        </div>\n",
              "</body>\n",
              "</html>"
            ]
          },
          "metadata": {
            "tags": []
          }
        },
        {
          "output_type": "display_data",
          "data": {
            "text/plain": [
              "<Figure size 1224x576 with 0 Axes>"
            ]
          },
          "metadata": {
            "tags": []
          }
        }
      ]
    },
    {
      "cell_type": "code",
      "metadata": {
        "colab": {
          "base_uri": "https://localhost:8080/"
        },
        "id": "V4D2rTcJ2pop",
        "outputId": "e263bec7-c504-4724-eec6-db397a3ca64a"
      },
      "source": [
        "# To install the library \r\n",
        "!pip install pmdarima \r\n",
        "\r\n",
        "# Import the library \r\n",
        "from pmdarima import auto_arima \r\n",
        "\r\n",
        "# Ignore harmless warnings \r\n",
        "import warnings \r\n",
        "warnings.filterwarnings(\"ignore\") \r\n"
      ],
      "execution_count": null,
      "outputs": [
        {
          "output_type": "stream",
          "text": [
            "Requirement already satisfied: pmdarima in /usr/local/lib/python3.6/dist-packages (1.8.0)\n",
            "Requirement already satisfied: scipy>=1.3.2 in /usr/local/lib/python3.6/dist-packages (from pmdarima) (1.4.1)\n",
            "Requirement already satisfied: joblib>=0.11 in /usr/local/lib/python3.6/dist-packages (from pmdarima) (1.0.0)\n",
            "Requirement already satisfied: setuptools!=50.0.0,>=38.6.0 in /usr/local/lib/python3.6/dist-packages (from pmdarima) (51.1.1)\n",
            "Requirement already satisfied: urllib3 in /usr/local/lib/python3.6/dist-packages (from pmdarima) (1.24.3)\n",
            "Requirement already satisfied: pandas>=0.19 in /usr/local/lib/python3.6/dist-packages (from pmdarima) (1.1.5)\n",
            "Requirement already satisfied: numpy>=1.17.3 in /usr/local/lib/python3.6/dist-packages (from pmdarima) (1.19.5)\n",
            "Requirement already satisfied: Cython<0.29.18,>=0.29 in /usr/local/lib/python3.6/dist-packages (from pmdarima) (0.29.17)\n",
            "Requirement already satisfied: statsmodels!=0.12.0,>=0.11 in /usr/local/lib/python3.6/dist-packages (from pmdarima) (0.12.1)\n",
            "Requirement already satisfied: scikit-learn>=0.22 in /usr/local/lib/python3.6/dist-packages (from pmdarima) (0.22.2.post1)\n",
            "Requirement already satisfied: python-dateutil>=2.7.3 in /usr/local/lib/python3.6/dist-packages (from pandas>=0.19->pmdarima) (2.8.1)\n",
            "Requirement already satisfied: pytz>=2017.2 in /usr/local/lib/python3.6/dist-packages (from pandas>=0.19->pmdarima) (2018.9)\n",
            "Requirement already satisfied: patsy>=0.5 in /usr/local/lib/python3.6/dist-packages (from statsmodels!=0.12.0,>=0.11->pmdarima) (0.5.1)\n",
            "Requirement already satisfied: six>=1.5 in /usr/local/lib/python3.6/dist-packages (from python-dateutil>=2.7.3->pandas>=0.19->pmdarima) (1.15.0)\n"
          ],
          "name": "stdout"
        }
      ]
    },
    {
      "cell_type": "code",
      "metadata": {
        "colab": {
          "base_uri": "https://localhost:8080/",
          "height": 639
        },
        "id": "RAlOTlntdXkG",
        "outputId": "074fdbb8-16b6-4d3c-bed4-e225a55c2faa"
      },
      "source": [
        "\r\n",
        "# Fit auto_arima function \r\n",
        "stepwise_fit = auto_arima(new_dataframe['y'], start_p = 1, start_q = 1, \r\n",
        "\t\t\t\t\t\tmax_p = 20, max_q = 20, m = 30, \r\n",
        "\t\t\t\t\t\tstart_P = 0, seasonal = True, \r\n",
        "\t\t\t\t\t\td = None, D = 1, trace = True, \r\n",
        "\t\t\t\t\t\terror_action ='ignore', # we don't want to know if an order does not work \r\n",
        "\t\t\t\t\t\tsuppress_warnings = True, # we don't want convergence warnings \r\n",
        "\t\t\t\t\t\tstepwise = True)\t\t # set to stepwise \r\n",
        "\r\n",
        "# To print the summary \r\n",
        "stepwise_fit.summary() \r\n",
        "\r\n"
      ],
      "execution_count": null,
      "outputs": [
        {
          "output_type": "stream",
          "text": [
            "Performing stepwise search to minimize aic\n",
            " ARIMA(1,0,1)(0,1,1)[30] intercept   : AIC=inf, Time=1.57 sec\n",
            " ARIMA(0,0,0)(0,1,0)[30] intercept   : AIC=89.899, Time=0.02 sec\n",
            " ARIMA(1,0,0)(1,1,0)[30] intercept   : AIC=inf, Time=2.14 sec\n",
            " ARIMA(0,0,1)(0,1,1)[30] intercept   : AIC=inf, Time=1.38 sec\n",
            " ARIMA(0,0,0)(0,1,0)[30]             : AIC=89.575, Time=0.05 sec\n",
            " ARIMA(0,0,0)(1,1,0)[30] intercept   : AIC=inf, Time=1.52 sec\n",
            " ARIMA(0,0,0)(0,1,1)[30] intercept   : AIC=inf, Time=0.94 sec\n",
            " ARIMA(0,0,0)(1,1,1)[30] intercept   : AIC=inf, Time=2.26 sec\n",
            " ARIMA(1,0,0)(0,1,0)[30] intercept   : AIC=90.180, Time=0.18 sec\n",
            " ARIMA(0,0,1)(0,1,0)[30] intercept   : AIC=inf, Time=0.10 sec\n",
            " ARIMA(1,0,1)(0,1,0)[30] intercept   : AIC=inf, Time=0.42 sec\n",
            "\n",
            "Best model:  ARIMA(0,0,0)(0,1,0)[30]          \n",
            "Total fit time: 10.597 seconds\n"
          ],
          "name": "stdout"
        },
        {
          "output_type": "execute_result",
          "data": {
            "text/html": [
              "<table class=\"simpletable\">\n",
              "<caption>SARIMAX Results</caption>\n",
              "<tr>\n",
              "  <th>Dep. Variable:</th>             <td>y</td>          <th>  No. Observations:  </th>   <td>37</td>   \n",
              "</tr>\n",
              "<tr>\n",
              "  <th>Model:</th>           <td>SARIMAX(0, 1, 0, 30)</td> <th>  Log Likelihood     </th> <td>-43.788</td>\n",
              "</tr>\n",
              "<tr>\n",
              "  <th>Date:</th>              <td>Tue, 12 Jan 2021</td>   <th>  AIC                </th> <td>89.575</td> \n",
              "</tr>\n",
              "<tr>\n",
              "  <th>Time:</th>                  <td>18:29:30</td>       <th>  BIC                </th> <td>89.521</td> \n",
              "</tr>\n",
              "<tr>\n",
              "  <th>Sample:</th>                    <td>0</td>          <th>  HQIC               </th> <td>88.907</td> \n",
              "</tr>\n",
              "<tr>\n",
              "  <th></th>                         <td> - 37</td>        <th>                     </th>    <td> </td>   \n",
              "</tr>\n",
              "<tr>\n",
              "  <th>Covariance Type:</th>          <td>opg</td>         <th>                     </th>    <td> </td>   \n",
              "</tr>\n",
              "</table>\n",
              "<table class=\"simpletable\">\n",
              "<tr>\n",
              "     <td></td>       <th>coef</th>     <th>std err</th>      <th>z</th>      <th>P>|z|</th>  <th>[0.025</th>    <th>0.975]</th>  \n",
              "</tr>\n",
              "<tr>\n",
              "  <th>sigma2</th> <td> 1.581e+04</td> <td> 7923.244</td> <td>    1.996</td> <td> 0.046</td> <td>  284.935</td> <td> 3.13e+04</td>\n",
              "</tr>\n",
              "</table>\n",
              "<table class=\"simpletable\">\n",
              "<tr>\n",
              "  <th>Ljung-Box (L1) (Q):</th>     <td>0.86</td> <th>  Jarque-Bera (JB):  </th> <td>0.49</td> \n",
              "</tr>\n",
              "<tr>\n",
              "  <th>Prob(Q):</th>                <td>0.35</td> <th>  Prob(JB):          </th> <td>0.78</td> \n",
              "</tr>\n",
              "<tr>\n",
              "  <th>Heteroskedasticity (H):</th> <td>1.77</td> <th>  Skew:              </th> <td>-0.57</td>\n",
              "</tr>\n",
              "<tr>\n",
              "  <th>Prob(H) (two-sided):</th>    <td>0.72</td> <th>  Kurtosis:          </th> <td>2.38</td> \n",
              "</tr>\n",
              "</table><br/><br/>Warnings:<br/>[1] Covariance matrix calculated using the outer product of gradients (complex-step)."
            ],
            "text/plain": [
              "<class 'statsmodels.iolib.summary.Summary'>\n",
              "\"\"\"\n",
              "                                SARIMAX Results                                 \n",
              "================================================================================\n",
              "Dep. Variable:                        y   No. Observations:                   37\n",
              "Model:             SARIMAX(0, 1, 0, 30)   Log Likelihood                 -43.788\n",
              "Date:                  Tue, 12 Jan 2021   AIC                             89.575\n",
              "Time:                          18:29:30   BIC                             89.521\n",
              "Sample:                               0   HQIC                            88.907\n",
              "                                   - 37                                         \n",
              "Covariance Type:                    opg                                         \n",
              "==============================================================================\n",
              "                 coef    std err          z      P>|z|      [0.025      0.975]\n",
              "------------------------------------------------------------------------------\n",
              "sigma2      1.581e+04   7923.244      1.996      0.046     284.935    3.13e+04\n",
              "===================================================================================\n",
              "Ljung-Box (L1) (Q):                   0.86   Jarque-Bera (JB):                 0.49\n",
              "Prob(Q):                              0.35   Prob(JB):                         0.78\n",
              "Heteroskedasticity (H):               1.77   Skew:                            -0.57\n",
              "Prob(H) (two-sided):                  0.72   Kurtosis:                         2.38\n",
              "===================================================================================\n",
              "\n",
              "Warnings:\n",
              "[1] Covariance matrix calculated using the outer product of gradients (complex-step).\n",
              "\"\"\""
            ]
          },
          "metadata": {
            "tags": []
          },
          "execution_count": 278
        }
      ]
    },
    {
      "cell_type": "code",
      "metadata": {
        "colab": {
          "base_uri": "https://localhost:8080/",
          "height": 389
        },
        "id": "Ji6RoB4JebOd",
        "outputId": "a1dfae78-831a-446b-e5dd-57014cf01f71"
      },
      "source": [
        "# Split data into train / test sets \r\n",
        "train = new_dataframe.iloc[:len(new_dataframe)-12] \r\n",
        "test = new_dataframe.iloc[len(new_dataframe)-12:] # set one year(12 months) for testing \r\n",
        "\r\n",
        "# Fit a SARIMAX(0, 1, 1)x(2, 1, 1, 12) on the training set \r\n",
        "from statsmodels.tsa.statespace.sarimax import SARIMAX \r\n",
        "\r\n",
        "model = SARIMAX(train['y'], \r\n",
        "\t\t\t\torder = (0, 0, 0), \r\n",
        "\t\t\t\tseasonal_order =(0, 1, 0, 30)) \r\n",
        "\r\n",
        "result = model.fit() \r\n",
        "result.summary() \r\n"
      ],
      "execution_count": null,
      "outputs": [
        {
          "output_type": "execute_result",
          "data": {
            "text/html": [
              "<table class=\"simpletable\">\n",
              "<caption>SARIMAX Results</caption>\n",
              "<tr>\n",
              "  <th>Dep. Variable:</th>             <td>y</td>          <th>  No. Observations:  </th>  <td>25</td>  \n",
              "</tr>\n",
              "<tr>\n",
              "  <th>Model:</th>           <td>SARIMAX(0, 1, 0, 30)</td> <th>  Log Likelihood     </th> <td>0.000</td>\n",
              "</tr>\n",
              "<tr>\n",
              "  <th>Date:</th>              <td>Tue, 12 Jan 2021</td>   <th>  AIC                </th> <td>2.000</td>\n",
              "</tr>\n",
              "<tr>\n",
              "  <th>Time:</th>                  <td>18:26:06</td>       <th>  BIC                </th> <td>  nan</td>\n",
              "</tr>\n",
              "<tr>\n",
              "  <th>Sample:</th>                    <td>0</td>          <th>  HQIC               </th> <td>  nan</td>\n",
              "</tr>\n",
              "<tr>\n",
              "  <th></th>                         <td> - 25</td>        <th>                     </th>   <td> </td>  \n",
              "</tr>\n",
              "<tr>\n",
              "  <th>Covariance Type:</th>          <td>opg</td>         <th>                     </th>   <td> </td>  \n",
              "</tr>\n",
              "</table>\n",
              "<table class=\"simpletable\">\n",
              "<tr>\n",
              "     <td></td>       <th>coef</th>     <th>std err</th>      <th>z</th>      <th>P>|z|</th>  <th>[0.025</th>    <th>0.975]</th>  \n",
              "</tr>\n",
              "<tr>\n",
              "  <th>sigma2</th> <td>     1e-10</td> <td>        0</td> <td>      inf</td> <td> 0.000</td> <td>    1e-10</td> <td>    1e-10</td>\n",
              "</tr>\n",
              "</table>\n",
              "<table class=\"simpletable\">\n",
              "<tr>\n",
              "  <th>Ljung-Box (L1) (Q):</th>     <td>nan</td> <th>  Jarque-Bera (JB):  </th> <td>nan</td>\n",
              "</tr>\n",
              "<tr>\n",
              "  <th>Prob(Q):</th>                <td>nan</td> <th>  Prob(JB):          </th> <td>nan</td>\n",
              "</tr>\n",
              "<tr>\n",
              "  <th>Heteroskedasticity (H):</th> <td>nan</td> <th>  Skew:              </th> <td>nan</td>\n",
              "</tr>\n",
              "<tr>\n",
              "  <th>Prob(H) (two-sided):</th>    <td>nan</td> <th>  Kurtosis:          </th> <td>nan</td>\n",
              "</tr>\n",
              "</table><br/><br/>Warnings:<br/>[1] Covariance matrix calculated using the outer product of gradients (complex-step).<br/>[2] Covariance matrix is singular or near-singular, with condition number    inf. Standard errors may be unstable."
            ],
            "text/plain": [
              "<class 'statsmodels.iolib.summary.Summary'>\n",
              "\"\"\"\n",
              "                                SARIMAX Results                                 \n",
              "================================================================================\n",
              "Dep. Variable:                        y   No. Observations:                   25\n",
              "Model:             SARIMAX(0, 1, 0, 30)   Log Likelihood                   0.000\n",
              "Date:                  Tue, 12 Jan 2021   AIC                              2.000\n",
              "Time:                          18:26:06   BIC                                nan\n",
              "Sample:                               0   HQIC                               nan\n",
              "                                   - 25                                         \n",
              "Covariance Type:                    opg                                         \n",
              "==============================================================================\n",
              "                 coef    std err          z      P>|z|      [0.025      0.975]\n",
              "------------------------------------------------------------------------------\n",
              "sigma2          1e-10          0        inf      0.000       1e-10       1e-10\n",
              "===================================================================================\n",
              "Ljung-Box (L1) (Q):                    nan   Jarque-Bera (JB):                  nan\n",
              "Prob(Q):                               nan   Prob(JB):                          nan\n",
              "Heteroskedasticity (H):                nan   Skew:                              nan\n",
              "Prob(H) (two-sided):                   nan   Kurtosis:                          nan\n",
              "===================================================================================\n",
              "\n",
              "Warnings:\n",
              "[1] Covariance matrix calculated using the outer product of gradients (complex-step).\n",
              "[2] Covariance matrix is singular or near-singular, with condition number    inf. Standard errors may be unstable.\n",
              "\"\"\""
            ]
          },
          "metadata": {
            "tags": []
          },
          "execution_count": 272
        }
      ]
    },
    {
      "cell_type": "code",
      "metadata": {
        "colab": {
          "base_uri": "https://localhost:8080/",
          "height": 286
        },
        "id": "jXIgaquYez0h",
        "outputId": "330d28b9-b7c1-42e0-e202-21a644106b88"
      },
      "source": [
        "start = len(train) \r\n",
        "end = len(train) + len(test) + 5\r\n",
        "\r\n",
        "# Predictions for one-year against the test set \r\n",
        "predictions = result.predict(start, end, \r\n",
        "\t\t\t\t\t\t\ttyp = 'levels').rename(\"Predictions\") \r\n",
        "\r\n",
        "# plot predictions and actual values \r\n",
        "predictions.plot(legend = True) \r\n",
        "new_dataframe['y'].plot(legend = True) \r\n",
        "\r\n",
        "\r\n",
        "\r\n"
      ],
      "execution_count": null,
      "outputs": [
        {
          "output_type": "execute_result",
          "data": {
            "text/plain": [
              "<matplotlib.axes._subplots.AxesSubplot at 0x7f01e4bb6320>"
            ]
          },
          "metadata": {
            "tags": []
          },
          "execution_count": 271
        },
        {
          "output_type": "display_data",
          "data": {
            "image/png": "[encoded data removed]",
            "text/plain": [
              "<Figure size 432x288 with 1 Axes>"
            ]
          },
          "metadata": {
            "tags": []
          }
        }
      ]
    },
    {
      "cell_type": "code",
      "metadata": {
        "id": "RPhFLArrBaSz",
        "colab": {
          "base_uri": "https://localhost:8080/"
        },
        "outputId": "bd87cc5c-3c03-40b2-e94c-efba96f93fb2"
      },
      "source": [
        "data = series.values\r\n",
        "import pmdarima as pm \r\n",
        "stepwise_model = pm.auto_arima(data, start_p=1, start_q=1,\r\n",
        "                               max_p=20, max_q=20, m=30,\r\n",
        "                               start_P=0, seasonal=True,\r\n",
        "                               d=1, D=1, trace=True,\r\n",
        "                               error_action='ignore',  \r\n",
        "                               suppress_warnings=True, \r\n",
        "                               stepwise=True)\r\n",
        "print(stepwise_model.aic())"
      ],
      "execution_count": null,
      "outputs": [
        {
          "output_type": "stream",
          "text": [
            "Performing stepwise search to minimize aic\n",
            " ARIMA(1,1,1)(0,1,1)[30]             : AIC=inf, Time=1.75 sec\n",
            " ARIMA(0,1,0)(0,1,0)[30]             : AIC=80.078, Time=0.06 sec\n",
            " ARIMA(1,1,0)(1,1,0)[30]             : AIC=inf, Time=1.87 sec\n",
            " ARIMA(0,1,1)(0,1,1)[30]             : AIC=inf, Time=1.15 sec\n",
            " ARIMA(0,1,0)(1,1,0)[30]             : AIC=inf, Time=1.35 sec\n",
            " ARIMA(0,1,0)(0,1,1)[30]             : AIC=inf, Time=0.53 sec\n",
            " ARIMA(0,1,0)(1,1,1)[30]             : AIC=83.806, Time=1.96 sec\n",
            " ARIMA(1,1,0)(0,1,0)[30]             : AIC=80.424, Time=0.10 sec\n",
            " ARIMA(0,1,1)(0,1,0)[30]             : AIC=80.441, Time=0.14 sec\n",
            " ARIMA(1,1,1)(0,1,0)[30]             : AIC=81.861, Time=0.34 sec\n",
            " ARIMA(0,1,0)(0,1,0)[30] intercept   : AIC=81.165, Time=0.03 sec\n",
            "\n",
            "Best model:  ARIMA(0,1,0)(0,1,0)[30]          \n",
            "Total fit time: 9.289 seconds\n",
            "80.07762073482596\n"
          ],
          "name": "stdout"
        }
      ]
    },
    {
      "cell_type": "code",
      "metadata": {
        "colab": {
          "base_uri": "https://localhost:8080/"
        },
        "id": "f9UERabguSGh",
        "outputId": "b418b155-4c32-4fed-c7b0-e68e1fce4aa5"
      },
      "source": [
        "pred = np.vstack(predictions)\r\n",
        "prediction = np.vstack(pred)\r\n",
        "flattened_list = [y for x in prediction for y in x]\r\n",
        "print(flattened_list)"
      ],
      "execution_count": null,
      "outputs": [
        {
          "output_type": "stream",
          "text": [
            "[17.916440003335584, 12.822192173216578, 8.469601440085953, 5.308418987250468, 2.214294203033894, -0.6262624779481591, -1.8483509706453987, 3.289100942834949, 2.8938190752976767, 0.4977485674636344, -1.614374193582588, -3.219925345491581, -4.814371555688956]\n"
          ],
          "name": "stdout"
        }
      ]
    },
    {
      "cell_type": "code",
      "metadata": {
        "colab": {
          "base_uri": "https://localhost:8080/"
        },
        "id": "u9CA6_RLUygO",
        "outputId": "7f4b79a0-65df-43b1-b32a-22fb6a492471"
      },
      "source": [
        "import numpy as np\r\n",
        "\r\n",
        "EPSILON = 1e-10\r\n",
        "\r\n",
        "\r\n",
        "def _error(actual: np.ndarray, predicted: np.ndarray):\r\n",
        "    \"\"\" Simple error \"\"\"\r\n",
        "    return actual - predicted\r\n",
        "\r\n",
        "\r\n",
        "def _percentage_error(actual: np.ndarray, predicted: np.ndarray):\r\n",
        "    \"\"\"\r\n",
        "    Percentage error\r\n",
        "    Note: result is NOT multiplied by 100\r\n",
        "    \"\"\"\r\n",
        "    return _error(actual, predicted) / (actual + EPSILON)\r\n",
        "\r\n",
        "\r\n",
        "def _naive_forecasting(actual: np.ndarray, seasonality: int = 1):\r\n",
        "    \"\"\" Naive forecasting method which just repeats previous samples \"\"\"\r\n",
        "    return actual[:-seasonality]\r\n",
        "\r\n",
        "\r\n",
        "def _relative_error(actual: np.ndarray, predicted: np.ndarray, benchmark: np.ndarray = None):\r\n",
        "    \"\"\" Relative Error \"\"\"\r\n",
        "    if benchmark is None or isinstance(benchmark, int):\r\n",
        "        # If no benchmark prediction provided - use naive forecasting\r\n",
        "        if not isinstance(benchmark, int):\r\n",
        "            seasonality = 1\r\n",
        "        else:\r\n",
        "            seasonality = benchmark\r\n",
        "        return _error(actual[seasonality:], predicted[seasonality:]) /\\\r\n",
        "               (_error(actual[seasonality:], _naive_forecasting(actual, seasonality)) + EPSILON)\r\n",
        "\r\n",
        "    return _error(actual, predicted) / (_error(actual, benchmark) + EPSILON)\r\n",
        "\r\n",
        "\r\n",
        "def _bounded_relative_error(actual: np.ndarray, predicted: np.ndarray, benchmark: np.ndarray = None):\r\n",
        "    \"\"\" Bounded Relative Error \"\"\"\r\n",
        "    if benchmark is None or isinstance(benchmark, int):\r\n",
        "        # If no benchmark prediction provided - use naive forecasting\r\n",
        "        if not isinstance(benchmark, int):\r\n",
        "            seasonality = 1\r\n",
        "        else:\r\n",
        "            seasonality = benchmark\r\n",
        "\r\n",
        "        abs_err = np.abs(_error(actual[seasonality:], predicted[seasonality:]))\r\n",
        "        abs_err_bench = np.abs(_error(actual[seasonality:], _naive_forecasting(actual, seasonality)))\r\n",
        "    else:\r\n",
        "        abs_err = np.abs(_error(actual, predicted))\r\n",
        "        abs_err_bench = np.abs(_error(actual, benchmark))\r\n",
        "\r\n",
        "    return abs_err / (abs_err + abs_err_bench + EPSILON)\r\n",
        "\r\n",
        "\r\n",
        "def _geometric_mean(a, axis=0, dtype=None):\r\n",
        "    \"\"\" Geometric mean \"\"\"\r\n",
        "    if not isinstance(a, np.ndarray):  # if not an ndarray object attempt to convert it\r\n",
        "        log_a = np.log(np.array(a, dtype=dtype))\r\n",
        "    elif dtype:  # Must change the default dtype allowing array type\r\n",
        "        if isinstance(a, np.ma.MaskedArray):\r\n",
        "            log_a = np.log(np.ma.asarray(a, dtype=dtype))\r\n",
        "        else:\r\n",
        "            log_a = np.log(np.asarray(a, dtype=dtype))\r\n",
        "    else:\r\n",
        "        log_a = np.log(a)\r\n",
        "    return np.exp(log_a.mean(axis=axis))\r\n",
        "\r\n",
        "\r\n",
        "def mse(actual: np.ndarray, predicted: np.ndarray):\r\n",
        "    \"\"\" Mean Squared Error \"\"\"\r\n",
        "    return np.mean(np.square(_error(actual, predicted)))\r\n",
        "\r\n",
        "\r\n",
        "def rmse(actual: np.ndarray, predicted: np.ndarray):\r\n",
        "    \"\"\" Root Mean Squared Error \"\"\"\r\n",
        "    return np.sqrt(mse(actual, predicted))\r\n",
        "\r\n",
        "\r\n",
        "def nrmse(actual: np.ndarray, predicted: np.ndarray):\r\n",
        "    \"\"\" Normalized Root Mean Squared Error \"\"\"\r\n",
        "    return rmse(actual, predicted) / (actual.max() - actual.min())\r\n",
        "\r\n",
        "\r\n",
        "def me(actual: np.ndarray, predicted: np.ndarray):\r\n",
        "    \"\"\" Mean Error \"\"\"\r\n",
        "    return np.mean(_error(actual, predicted))\r\n",
        "\r\n",
        "\r\n",
        "def mae(actual: np.ndarray, predicted: np.ndarray):\r\n",
        "    \"\"\" Mean Absolute Error \"\"\"\r\n",
        "    return np.mean(np.abs(_error(actual, predicted)))\r\n",
        "\r\n",
        "\r\n",
        "mad = mae  # Mean Absolute Deviation (it is the same as MAE)\r\n",
        "\r\n",
        "\r\n",
        "def gmae(actual: np.ndarray, predicted: np.ndarray):\r\n",
        "    \"\"\" Geometric Mean Absolute Error \"\"\"\r\n",
        "    return _geometric_mean(np.abs(_error(actual, predicted)))\r\n",
        "\r\n",
        "\r\n",
        "def mdae(actual: np.ndarray, predicted: np.ndarray):\r\n",
        "    \"\"\" Median Absolute Error \"\"\"\r\n",
        "    return np.median(np.abs(_error(actual, predicted)))\r\n",
        "\r\n",
        "\r\n",
        "def mpe(actual: np.ndarray, predicted: np.ndarray):\r\n",
        "    \"\"\" Mean Percentage Error \"\"\"\r\n",
        "    return np.mean(_percentage_error(actual, predicted))\r\n",
        "\r\n",
        "\r\n",
        "def mape(actual: np.ndarray, predicted: np.ndarray):\r\n",
        "    \"\"\"\r\n",
        "    Mean Absolute Percentage Error\r\n",
        "    Properties:\r\n",
        "        + Easy to interpret\r\n",
        "        + Scale independent\r\n",
        "        - Biased, not symmetric\r\n",
        "        - Undefined when actual[t] == 0\r\n",
        "    Note: result is NOT multiplied by 100\r\n",
        "    \"\"\"\r\n",
        "    return np.mean(np.abs(_percentage_error(actual, predicted)))\r\n",
        "\r\n",
        "\r\n",
        "def mdape(actual: np.ndarray, predicted: np.ndarray):\r\n",
        "    \"\"\"\r\n",
        "    Median Absolute Percentage Error\r\n",
        "    Note: result is NOT multiplied by 100\r\n",
        "    \"\"\"\r\n",
        "    return np.median(np.abs(_percentage_error(actual, predicted)))\r\n",
        "\r\n",
        "\r\n",
        "def smape(actual: np.ndarray, predicted: np.ndarray):\r\n",
        "    \"\"\"\r\n",
        "    Symmetric Mean Absolute Percentage Error\r\n",
        "    Note: result is NOT multiplied by 100\r\n",
        "    \"\"\"\r\n",
        "    return np.mean(2.0 * np.abs(actual - predicted) / ((np.abs(actual) + np.abs(predicted)) + EPSILON))\r\n",
        "\r\n",
        "\r\n",
        "def smdape(actual: np.ndarray, predicted: np.ndarray):\r\n",
        "    \"\"\"\r\n",
        "    Symmetric Median Absolute Percentage Error\r\n",
        "    Note: result is NOT multiplied by 100\r\n",
        "    \"\"\"\r\n",
        "    return np.median(2.0 * np.abs(actual - predicted) / ((np.abs(actual) + np.abs(predicted)) + EPSILON))\r\n",
        "\r\n",
        "\r\n",
        "def maape(actual: np.ndarray, predicted: np.ndarray):\r\n",
        "    \"\"\"\r\n",
        "    Mean Arctangent Absolute Percentage Error\r\n",
        "    Note: result is NOT multiplied by 100\r\n",
        "    \"\"\"\r\n",
        "    return np.mean(np.arctan(np.abs((actual - predicted) / (actual + EPSILON))))\r\n",
        "\r\n",
        "\r\n",
        "def mase(actual: np.ndarray, predicted: np.ndarray, seasonality: int = 1):\r\n",
        "    \"\"\"\r\n",
        "    Mean Absolute Scaled Error\r\n",
        "    Baseline (benchmark) is computed with naive forecasting (shifted by @seasonality)\r\n",
        "    \"\"\"\r\n",
        "    return mae(actual, predicted) / mae(actual[seasonality:], _naive_forecasting(actual, seasonality))\r\n",
        "\r\n",
        "\r\n",
        "def std_ae(actual: np.ndarray, predicted: np.ndarray):\r\n",
        "    \"\"\" Normalized Absolute Error \"\"\"\r\n",
        "    __mae = mae(actual, predicted)\r\n",
        "    return np.sqrt(np.sum(np.square(_error(actual, predicted) - __mae))/(len(actual) - 1))\r\n",
        "\r\n",
        "\r\n",
        "def std_ape(actual: np.ndarray, predicted: np.ndarray):\r\n",
        "    \"\"\" Normalized Absolute Percentage Error \"\"\"\r\n",
        "    __mape = mape(actual, predicted)\r\n",
        "    return np.sqrt(np.sum(np.square(_percentage_error(actual, predicted) - __mape))/(len(actual) - 1))\r\n",
        "\r\n",
        "\r\n",
        "def rmspe(actual: np.ndarray, predicted: np.ndarray):\r\n",
        "    \"\"\"\r\n",
        "    Root Mean Squared Percentage Error\r\n",
        "    Note: result is NOT multiplied by 100\r\n",
        "    \"\"\"\r\n",
        "    return np.sqrt(np.mean(np.square(_percentage_error(actual, predicted))))\r\n",
        "\r\n",
        "\r\n",
        "def rmdspe(actual: np.ndarray, predicted: np.ndarray):\r\n",
        "    \"\"\"\r\n",
        "    Root Median Squared Percentage Error\r\n",
        "    Note: result is NOT multiplied by 100\r\n",
        "    \"\"\"\r\n",
        "    return np.sqrt(np.median(np.square(_percentage_error(actual, predicted))))\r\n",
        "\r\n",
        "\r\n",
        "def rmsse(actual: np.ndarray, predicted: np.ndarray, seasonality: int = 1):\r\n",
        "    \"\"\" Root Mean Squared Scaled Error \"\"\"\r\n",
        "    q = np.abs(_error(actual, predicted)) / mae(actual[seasonality:], _naive_forecasting(actual, seasonality))\r\n",
        "    return np.sqrt(np.mean(np.square(q)))\r\n",
        "\r\n",
        "\r\n",
        "def inrse(actual: np.ndarray, predicted: np.ndarray):\r\n",
        "    \"\"\" Integral Normalized Root Squared Error \"\"\"\r\n",
        "    return np.sqrt(np.sum(np.square(_error(actual, predicted))) / np.sum(np.square(actual - np.mean(actual))))\r\n",
        "\r\n",
        "\r\n",
        "def rrse(actual: np.ndarray, predicted: np.ndarray):\r\n",
        "    \"\"\" Root Relative Squared Error \"\"\"\r\n",
        "    return np.sqrt(np.sum(np.square(actual - predicted)) / np.sum(np.square(actual - np.mean(actual))))\r\n",
        "\r\n",
        "\r\n",
        "def mre(actual: np.ndarray, predicted: np.ndarray, benchmark: np.ndarray = None):\r\n",
        "    \"\"\" Mean Relative Error \"\"\"\r\n",
        "    return np.mean(_relative_error(actual, predicted, benchmark))\r\n",
        "\r\n",
        "\r\n",
        "def rae(actual: np.ndarray, predicted: np.ndarray):\r\n",
        "    \"\"\" Relative Absolute Error (aka Approximation Error) \"\"\"\r\n",
        "    return np.sum(np.abs(actual - predicted)) / (np.sum(np.abs(actual - np.mean(actual))) + EPSILON)\r\n",
        "\r\n",
        "\r\n",
        "def mrae(actual: np.ndarray, predicted: np.ndarray, benchmark: np.ndarray = None):\r\n",
        "    \"\"\" Mean Relative Absolute Error \"\"\"\r\n",
        "    return np.mean(np.abs(_relative_error(actual, predicted, benchmark)))\r\n",
        "\r\n",
        "\r\n",
        "def mdrae(actual: np.ndarray, predicted: np.ndarray, benchmark: np.ndarray = None):\r\n",
        "    \"\"\" Median Relative Absolute Error \"\"\"\r\n",
        "    return np.median(np.abs(_relative_error(actual, predicted, benchmark)))\r\n",
        "\r\n",
        "\r\n",
        "def gmrae(actual: np.ndarray, predicted: np.ndarray, benchmark: np.ndarray = None):\r\n",
        "    \"\"\" Geometric Mean Relative Absolute Error \"\"\"\r\n",
        "    return _geometric_mean(np.abs(_relative_error(actual, predicted, benchmark)))\r\n",
        "\r\n",
        "\r\n",
        "def mbrae(actual: np.ndarray, predicted: np.ndarray, benchmark: np.ndarray = None):\r\n",
        "    \"\"\" Mean Bounded Relative Absolute Error \"\"\"\r\n",
        "    return np.mean(_bounded_relative_error(actual, predicted, benchmark))\r\n",
        "\r\n",
        "\r\n",
        "def umbrae(actual: np.ndarray, predicted: np.ndarray, benchmark: np.ndarray = None):\r\n",
        "    \"\"\" Unscaled Mean Bounded Relative Absolute Error \"\"\"\r\n",
        "    __mbrae = mbrae(actual, predicted, benchmark)\r\n",
        "    return __mbrae / (1 - __mbrae)\r\n",
        "\r\n",
        "\r\n",
        "\r\n",
        "METRICS = {\r\n",
        "    'mse': mse,\r\n",
        "    'rmse': rmse,\r\n",
        "    'nrmse': nrmse,\r\n",
        "    'me': me,\r\n",
        "    'mae': mae,\r\n",
        "    'mad': mad,\r\n",
        "    'gmae': gmae,\r\n",
        "    'mdae': mdae,\r\n",
        "    'mpe': mpe,\r\n",
        "    'mape': mape,\r\n",
        "    'mdape': mdape,\r\n",
        "    'smape': smape,\r\n",
        "    'smdape': smdape,\r\n",
        "    'maape': maape,\r\n",
        "    'mase': mase,\r\n",
        "    'std_ae': std_ae,\r\n",
        "    'std_ape': std_ape,\r\n",
        "    'rmspe': rmspe,\r\n",
        "    'rmdspe': rmdspe,\r\n",
        "    'rmsse': rmsse,\r\n",
        "    'inrse': inrse,\r\n",
        "    'rrse': rrse,\r\n",
        "    'mre': mre,\r\n",
        "    'rae': rae,\r\n",
        "    'mrae': mrae,\r\n",
        "    'mdrae': mdrae,\r\n",
        "    'gmrae': gmrae,\r\n",
        "    'mbrae': mbrae,\r\n",
        "    'umbrae': umbrae\r\n",
        "}\r\n",
        "\r\n",
        "\r\n",
        "def evaluate(actual: np.ndarray, predicted: np.ndarray, metrics=('mae', 'mse', 'smape', 'umbrae')):\r\n",
        "    results = {}\r\n",
        "    for name in metrics:\r\n",
        "        try:\r\n",
        "            results[name] = METRICS[name](actual, predicted)\r\n",
        "        except Exception as err:\r\n",
        "            results[name] = np.nan\r\n",
        "            print('Unable to compute metric {0}: {1}'.format(name, err))\r\n",
        "    return results\r\n",
        "\r\n",
        "\r\n",
        "def evaluate_all(actual: np.ndarray, predicted: np.ndarray):\r\n",
        "    return evaluate(actual, predicted, metrics=set(METRICS.keys()))\r\n",
        "\r\n",
        "evaluate_all(test,predictions)"
      ],
      "execution_count": null,
      "outputs": [
        {
          "output_type": "stream",
          "text": [
            "Unable to compute metric rmdspe: Unable to coerce to Series, length must be 2: given 13\n",
            "Unable to compute metric me: Unable to coerce to Series, length must be 2: given 13\n",
            "Unable to compute metric mpe: Unable to coerce to Series, length must be 2: given 13\n",
            "Unable to compute metric rmsse: Unable to coerce to Series, length must be 2: given 13\n",
            "Unable to compute metric inrse: Unable to coerce to Series, length must be 2: given 13\n",
            "Unable to compute metric mase: Unable to coerce to Series, length must be 2: given 13\n",
            "Unable to compute metric smape: Unable to coerce to Series, length must be 2: given 13\n",
            "Unable to compute metric mae: Unable to coerce to Series, length must be 2: given 13\n",
            "Unable to compute metric rmspe: Unable to coerce to Series, length must be 2: given 13\n",
            "Unable to compute metric smdape: Unable to coerce to Series, length must be 2: given 13\n",
            "Unable to compute metric rmse: Unable to coerce to Series, length must be 2: given 13\n",
            "Unable to compute metric umbrae: Unable to coerce to Series, length must be 2: given 12\n",
            "Unable to compute metric mdrae: Unable to coerce to Series, length must be 2: given 12\n",
            "Unable to compute metric std_ape: Unable to coerce to Series, length must be 2: given 13\n",
            "Unable to compute metric std_ae: Unable to coerce to Series, length must be 2: given 13\n",
            "Unable to compute metric nrmse: Unable to coerce to Series, length must be 2: given 13\n",
            "Unable to compute metric rae: Unable to coerce to Series, length must be 2: given 13\n",
            "Unable to compute metric mbrae: Unable to coerce to Series, length must be 2: given 12\n",
            "Unable to compute metric gmae: Unable to coerce to Series, length must be 2: given 13\n",
            "Unable to compute metric rrse: Unable to coerce to Series, length must be 2: given 13\n",
            "Unable to compute metric mre: Unable to coerce to Series, length must be 2: given 12\n",
            "Unable to compute metric mdae: Unable to coerce to Series, length must be 2: given 13\n",
            "Unable to compute metric mad: Unable to coerce to Series, length must be 2: given 13\n",
            "Unable to compute metric maape: Unable to coerce to Series, length must be 2: given 13\n",
            "Unable to compute metric mrae: Unable to coerce to Series, length must be 2: given 12\n",
            "Unable to compute metric gmrae: Unable to coerce to Series, length must be 2: given 12\n",
            "Unable to compute metric mdape: Unable to coerce to Series, length must be 2: given 13\n",
            "Unable to compute metric mape: Unable to coerce to Series, length must be 2: given 13\n",
            "Unable to compute metric mse: Unable to coerce to Series, length must be 2: given 13\n"
          ],
          "name": "stdout"
        },
        {
          "output_type": "execute_result",
          "data": {
            "text/plain": [
              "{'gmae': nan,\n",
              " 'gmrae': nan,\n",
              " 'inrse': nan,\n",
              " 'maape': nan,\n",
              " 'mad': nan,\n",
              " 'mae': nan,\n",
              " 'mape': nan,\n",
              " 'mase': nan,\n",
              " 'mbrae': nan,\n",
              " 'mdae': nan,\n",
              " 'mdape': nan,\n",
              " 'mdrae': nan,\n",
              " 'me': nan,\n",
              " 'mpe': nan,\n",
              " 'mrae': nan,\n",
              " 'mre': nan,\n",
              " 'mse': nan,\n",
              " 'nrmse': nan,\n",
              " 'rae': nan,\n",
              " 'rmdspe': nan,\n",
              " 'rmse': nan,\n",
              " 'rmspe': nan,\n",
              " 'rmsse': nan,\n",
              " 'rrse': nan,\n",
              " 'smape': nan,\n",
              " 'smdape': nan,\n",
              " 'std_ae': nan,\n",
              " 'std_ape': nan,\n",
              " 'umbrae': nan}"
            ]
          },
          "metadata": {
            "tags": []
          },
          "execution_count": 234
        }
      ]
    },
    {
      "cell_type": "code",
      "metadata": {
        "id": "u3kUCX7RQCMx",
        "colab": {
          "base_uri": "https://localhost:8080/",
          "height": 436
        },
        "outputId": "33b8df9e-36eb-434b-e367-712d4e43bef9"
      },
      "source": [
        "from sklearn.metrics import mean_squared_error\r\n",
        "from pandas import read_csv\r\n",
        "from pandas import datetime\r\n",
        "\r\n",
        "# parse dates\r\n",
        "def custom_parser(x):\r\n",
        "\treturn datetime.strptime(x, '%b-%y')\r\n",
        " \r\n",
        "auto_cor = read_csv('/content/drive/MyDrive/altered sales dataset.csv', header=0, index_col=0, date_parser=custom_parser)\r\n",
        "\r\n",
        "auto_cor = pd.DataFrame(auto_cor)\r\n",
        "auto_cor.columns = [\"y\"]\r\n",
        "\r\n",
        "# Adding the lag of the target variable from 1 steps back up to 52 (due to a seasonality at the end of the year)\r\n",
        "for i in range(1, 53):\r\n",
        "    auto_cor[\"lag_{}\".format(i)] = auto_cor.y.shift(i)\r\n",
        "\r\n",
        "# Compute autocorrelation of the series and its lags\r\n",
        "lag_corr = auto_cor.corr()\r\n",
        "lag_corr = lag_corr.iloc[1:,0]\r\n",
        "lag_corr.columns = [\"corr\"]\r\n",
        "order = lag_corr.abs().sort_values(ascending = False)\r\n",
        "lag_corr = lag_corr[order.index]\r\n",
        "\r\n",
        "# Plot the Autocorrelation\r\n",
        "plt.figure(figsize=(12, 6))\r\n",
        "lag_corr.plot(kind='bar')\r\n",
        "plt.grid(True, axis='y')\r\n",
        "plt.title(\"Autocorrelation\")\r\n",
        "plt.hlines(y=0, xmin=0, xmax=len(lag_corr), linestyles='dashed')"
      ],
      "execution_count": null,
      "outputs": [
        {
          "output_type": "execute_result",
          "data": {
            "text/plain": [
              "<matplotlib.collections.LineCollection at 0x7f01e5d63f98>"
            ]
          },
          "metadata": {
            "tags": []
          },
          "execution_count": 235
        },
        {
          "output_type": "display_data",
          "data": {
            "image/png": "[encoded data removed]",
            "text/plain": [
              "<Figure size 864x432 with 1 Axes>"
            ]
          },
          "metadata": {
            "tags": []
          }
        }
      ]
    },
    {
      "cell_type": "code",
      "metadata": {
        "colab": {
          "base_uri": "https://localhost:8080/"
        },
        "id": "nzYZ9rYND8ek",
        "outputId": "e45ef08f-9413-4011-9d7e-0b895175d6ee"
      },
      "source": [
        "data = series.values\r\n",
        "import pmdarima as pm \r\n",
        "stepwise_model = pm.auto_arima(data, start_p=1, start_q=1,\r\n",
        "                               max_p=20, max_q=20, m=30,\r\n",
        "                               start_P=0, seasonal=True,\r\n",
        "                               d=1, D=1, trace=True,\r\n",
        "                               error_action='ignore',  \r\n",
        "                               suppress_warnings=True, \r\n",
        "                               stepwise=True)\r\n",
        "print(stepwise_model.aic())"
      ],
      "execution_count": null,
      "outputs": [
        {
          "output_type": "stream",
          "text": [
            "Performing stepwise search to minimize aic\n",
            " ARIMA(1,1,1)(0,1,1)[30]             : AIC=inf, Time=1.74 sec\n",
            " ARIMA(0,1,0)(0,1,0)[30]             : AIC=80.078, Time=0.06 sec\n",
            " ARIMA(1,1,0)(1,1,0)[30]             : AIC=inf, Time=1.94 sec\n",
            " ARIMA(0,1,1)(0,1,1)[30]             : AIC=inf, Time=1.11 sec\n",
            " ARIMA(0,1,0)(1,1,0)[30]             : AIC=inf, Time=1.33 sec\n",
            " ARIMA(0,1,0)(0,1,1)[30]             : AIC=inf, Time=0.54 sec\n",
            " ARIMA(0,1,0)(1,1,1)[30]             : AIC=83.806, Time=1.96 sec\n",
            " ARIMA(1,1,0)(0,1,0)[30]             : AIC=80.424, Time=0.10 sec\n",
            " ARIMA(0,1,1)(0,1,0)[30]             : AIC=80.441, Time=0.14 sec\n",
            " ARIMA(1,1,1)(0,1,0)[30]             : AIC=81.861, Time=0.34 sec\n",
            " ARIMA(0,1,0)(0,1,0)[30] intercept   : AIC=81.165, Time=0.03 sec\n",
            "\n",
            "Best model:  ARIMA(0,1,0)(0,1,0)[30]          \n",
            "Total fit time: 9.291 seconds\n",
            "80.07762073482596\n"
          ],
          "name": "stdout"
        }
      ]
    },
    {
      "cell_type": "code",
      "metadata": {
        "id": "LGIkothlFQw0",
        "colab": {
          "base_uri": "https://localhost:8080/"
        },
        "outputId": "2f243296-3d2a-475d-f461-bc507b0ac56f"
      },
      "source": [
        "!pip install pmdarima as pm"
      ],
      "execution_count": null,
      "outputs": [
        {
          "output_type": "stream",
          "text": [
            "Requirement already satisfied: pmdarima in /usr/local/lib/python3.6/dist-packages (1.8.0)\n",
            "Requirement already satisfied: as in /usr/local/lib/python3.6/dist-packages (0.1)\n",
            "Requirement already satisfied: pm in /usr/local/lib/python3.6/dist-packages (0.1.1)\n",
            "Requirement already satisfied: setuptools!=50.0.0,>=38.6.0 in /usr/local/lib/python3.6/dist-packages (from pmdarima) (51.1.1)\n",
            "Requirement already satisfied: statsmodels!=0.12.0,>=0.11 in /usr/local/lib/python3.6/dist-packages (from pmdarima) (0.12.1)\n",
            "Requirement already satisfied: joblib>=0.11 in /usr/local/lib/python3.6/dist-packages (from pmdarima) (1.0.0)\n",
            "Requirement already satisfied: urllib3 in /usr/local/lib/python3.6/dist-packages (from pmdarima) (1.24.3)\n",
            "Requirement already satisfied: Cython<0.29.18,>=0.29 in /usr/local/lib/python3.6/dist-packages (from pmdarima) (0.29.17)\n",
            "Requirement already satisfied: scikit-learn>=0.22 in /usr/local/lib/python3.6/dist-packages (from pmdarima) (0.22.2.post1)\n",
            "Requirement already satisfied: pandas>=0.19 in /usr/local/lib/python3.6/dist-packages (from pmdarima) (1.1.5)\n",
            "Requirement already satisfied: scipy>=1.3.2 in /usr/local/lib/python3.6/dist-packages (from pmdarima) (1.4.1)\n",
            "Requirement already satisfied: numpy>=1.17.3 in /usr/local/lib/python3.6/dist-packages (from pmdarima) (1.19.5)\n",
            "Requirement already satisfied: patsy>=0.5 in /usr/local/lib/python3.6/dist-packages (from statsmodels!=0.12.0,>=0.11->pmdarima) (0.5.1)\n",
            "Requirement already satisfied: pytz>=2017.2 in /usr/local/lib/python3.6/dist-packages (from pandas>=0.19->pmdarima) (2018.9)\n",
            "Requirement already satisfied: python-dateutil>=2.7.3 in /usr/local/lib/python3.6/dist-packages (from pandas>=0.19->pmdarima) (2.8.1)\n",
            "Requirement already satisfied: six in /usr/local/lib/python3.6/dist-packages (from patsy>=0.5->statsmodels!=0.12.0,>=0.11->pmdarima) (1.15.0)\n"
          ],
          "name": "stdout"
        }
      ]
    },
    {
      "cell_type": "code",
      "metadata": {
        "id": "yPtzURDPHA2v",
        "colab": {
          "base_uri": "https://localhost:8080/",
          "height": 388
        },
        "outputId": "a63427a1-6a86-481a-e2f3-b968c05348fc"
      },
      "source": [
        "# Compute Residual\r\n",
        "pred = stepwise_model.predict(n_periods=13)\r\n",
        "train_pred = stepwise_model.predict(n_periods=24)\r\n",
        "r_train = train - train_pred\r\n",
        "r_test = test - pred\r\n",
        "residual = pd.DataFrame(np.concatenate((r_train,r_test)), columns={\"y\"})\r\n",
        "\r\n",
        "\r\n",
        "# Generate lag of Residuals from 1 step to 52 steps\r\n",
        "# Adding the lag of the target variable from 1 steps back up to 52 \r\n",
        "for i in range(1, 53):\r\n",
        "    residual[\"lag_{}\".format(i)] = residual.y.shift(i)\r\n",
        "\r\n",
        "# Compute correlation of the Residual series and its lags\r\n",
        "lag_corr = residual.corr()\r\n",
        "lag_corr = lag_corr.iloc[1:,0]\r\n",
        "lag_corr.columns = [\"corr\"]\r\n",
        "order = lag_corr.abs().sort_values(ascending = False)\r\n",
        "lag_corr = lag_corr[order.index]\r\n",
        "\r\n",
        "# Plot the Residual Autocorrelation\r\n",
        "plt.figure(figsize=(12, 6))\r\n",
        "lag_corr.plot(kind='bar')\r\n",
        "plt.grid(True, axis='y')\r\n",
        "plt.title(\"Autocorrelation\")\r\n",
        "plt.hlines(y=0, xmin=0, xmax=len(lag_corr), linestyles='dashed')\r\n"
      ],
      "execution_count": null,
      "outputs": [
        {
          "output_type": "error",
          "ename": "ValueError",
          "evalue": "ignored",
          "traceback": [
            "\u001b[0;31m---------------------------------------------------------------------------\u001b[0m",
            "\u001b[0;31mValueError\u001b[0m                                Traceback (most recent call last)",
            "\u001b[0;32m<ipython-input-240-fdc95eb1c99f>\u001b[0m in \u001b[0;36m<module>\u001b[0;34m()\u001b[0m\n\u001b[1;32m      2\u001b[0m \u001b[0mpred\u001b[0m \u001b[0;34m=\u001b[0m \u001b[0mstepwise_model\u001b[0m\u001b[0;34m.\u001b[0m\u001b[0mpredict\u001b[0m\u001b[0;34m(\u001b[0m\u001b[0mn_periods\u001b[0m\u001b[0;34m=\u001b[0m\u001b[0;36m13\u001b[0m\u001b[0;34m)\u001b[0m\u001b[0;34m\u001b[0m\u001b[0;34m\u001b[0m\u001b[0m\n\u001b[1;32m      3\u001b[0m \u001b[0mtrain_pred\u001b[0m \u001b[0;34m=\u001b[0m \u001b[0mstepwise_model\u001b[0m\u001b[0;34m.\u001b[0m\u001b[0mpredict\u001b[0m\u001b[0;34m(\u001b[0m\u001b[0mn_periods\u001b[0m\u001b[0;34m=\u001b[0m\u001b[0;36m24\u001b[0m\u001b[0;34m)\u001b[0m\u001b[0;34m\u001b[0m\u001b[0;34m\u001b[0m\u001b[0m\n\u001b[0;32m----> 4\u001b[0;31m \u001b[0mr_train\u001b[0m \u001b[0;34m=\u001b[0m \u001b[0mtrain\u001b[0m \u001b[0;34m-\u001b[0m \u001b[0mtrain_pred\u001b[0m\u001b[0;34m\u001b[0m\u001b[0;34m\u001b[0m\u001b[0m\n\u001b[0m\u001b[1;32m      5\u001b[0m \u001b[0mr_test\u001b[0m \u001b[0;34m=\u001b[0m \u001b[0mtest\u001b[0m \u001b[0;34m-\u001b[0m \u001b[0mpred\u001b[0m\u001b[0;34m\u001b[0m\u001b[0;34m\u001b[0m\u001b[0m\n\u001b[1;32m      6\u001b[0m \u001b[0mresidual\u001b[0m \u001b[0;34m=\u001b[0m \u001b[0mpd\u001b[0m\u001b[0;34m.\u001b[0m\u001b[0mDataFrame\u001b[0m\u001b[0;34m(\u001b[0m\u001b[0mnp\u001b[0m\u001b[0;34m.\u001b[0m\u001b[0mconcatenate\u001b[0m\u001b[0;34m(\u001b[0m\u001b[0;34m(\u001b[0m\u001b[0mr_train\u001b[0m\u001b[0;34m,\u001b[0m\u001b[0mr_test\u001b[0m\u001b[0;34m)\u001b[0m\u001b[0;34m)\u001b[0m\u001b[0;34m,\u001b[0m \u001b[0mcolumns\u001b[0m\u001b[0;34m=\u001b[0m\u001b[0;34m{\u001b[0m\u001b[0;34m\"y\"\u001b[0m\u001b[0;34m}\u001b[0m\u001b[0;34m)\u001b[0m\u001b[0;34m\u001b[0m\u001b[0;34m\u001b[0m\u001b[0m\n",
            "\u001b[0;32m/usr/local/lib/python3.6/dist-packages/pandas/core/ops/__init__.py\u001b[0m in \u001b[0;36mf\u001b[0;34m(self, other, axis, level, fill_value)\u001b[0m\n\u001b[1;32m    649\u001b[0m         \u001b[0;31m# TODO: why are we passing flex=True instead of flex=not special?\u001b[0m\u001b[0;34m\u001b[0m\u001b[0;34m\u001b[0m\u001b[0;34m\u001b[0m\u001b[0m\n\u001b[1;32m    650\u001b[0m         \u001b[0;31m#  15 tests fail if we pass flex=not special instead\u001b[0m\u001b[0;34m\u001b[0m\u001b[0;34m\u001b[0m\u001b[0;34m\u001b[0m\u001b[0m\n\u001b[0;32m--> 651\u001b[0;31m         \u001b[0mself\u001b[0m\u001b[0;34m,\u001b[0m \u001b[0mother\u001b[0m \u001b[0;34m=\u001b[0m \u001b[0m_align_method_FRAME\u001b[0m\u001b[0;34m(\u001b[0m\u001b[0mself\u001b[0m\u001b[0;34m,\u001b[0m \u001b[0mother\u001b[0m\u001b[0;34m,\u001b[0m \u001b[0maxis\u001b[0m\u001b[0;34m,\u001b[0m \u001b[0mflex\u001b[0m\u001b[0;34m=\u001b[0m\u001b[0;32mTrue\u001b[0m\u001b[0;34m,\u001b[0m \u001b[0mlevel\u001b[0m\u001b[0;34m=\u001b[0m\u001b[0mlevel\u001b[0m\u001b[0;34m)\u001b[0m\u001b[0;34m\u001b[0m\u001b[0;34m\u001b[0m\u001b[0m\n\u001b[0m\u001b[1;32m    652\u001b[0m \u001b[0;34m\u001b[0m\u001b[0m\n\u001b[1;32m    653\u001b[0m         \u001b[0;32mif\u001b[0m \u001b[0misinstance\u001b[0m\u001b[0;34m(\u001b[0m\u001b[0mother\u001b[0m\u001b[0;34m,\u001b[0m \u001b[0mABCDataFrame\u001b[0m\u001b[0;34m)\u001b[0m\u001b[0;34m:\u001b[0m\u001b[0;34m\u001b[0m\u001b[0;34m\u001b[0m\u001b[0m\n",
            "\u001b[0;32m/usr/local/lib/python3.6/dist-packages/pandas/core/ops/__init__.py\u001b[0m in \u001b[0;36m_align_method_FRAME\u001b[0;34m(left, right, axis, flex, level)\u001b[0m\n\u001b[1;32m    472\u001b[0m \u001b[0;34m\u001b[0m\u001b[0m\n\u001b[1;32m    473\u001b[0m         \u001b[0;32mif\u001b[0m \u001b[0mright\u001b[0m\u001b[0;34m.\u001b[0m\u001b[0mndim\u001b[0m \u001b[0;34m==\u001b[0m \u001b[0;36m1\u001b[0m\u001b[0;34m:\u001b[0m\u001b[0;34m\u001b[0m\u001b[0;34m\u001b[0m\u001b[0m\n\u001b[0;32m--> 474\u001b[0;31m             \u001b[0mright\u001b[0m \u001b[0;34m=\u001b[0m \u001b[0mto_series\u001b[0m\u001b[0;34m(\u001b[0m\u001b[0mright\u001b[0m\u001b[0;34m)\u001b[0m\u001b[0;34m\u001b[0m\u001b[0;34m\u001b[0m\u001b[0m\n\u001b[0m\u001b[1;32m    475\u001b[0m \u001b[0;34m\u001b[0m\u001b[0m\n\u001b[1;32m    476\u001b[0m         \u001b[0;32melif\u001b[0m \u001b[0mright\u001b[0m\u001b[0;34m.\u001b[0m\u001b[0mndim\u001b[0m \u001b[0;34m==\u001b[0m \u001b[0;36m2\u001b[0m\u001b[0;34m:\u001b[0m\u001b[0;34m\u001b[0m\u001b[0;34m\u001b[0m\u001b[0m\n",
            "\u001b[0;32m/usr/local/lib/python3.6/dist-packages/pandas/core/ops/__init__.py\u001b[0m in \u001b[0;36mto_series\u001b[0;34m(right)\u001b[0m\n\u001b[1;32m    464\u001b[0m             \u001b[0;32mif\u001b[0m \u001b[0mlen\u001b[0m\u001b[0;34m(\u001b[0m\u001b[0mleft\u001b[0m\u001b[0;34m.\u001b[0m\u001b[0mcolumns\u001b[0m\u001b[0;34m)\u001b[0m \u001b[0;34m!=\u001b[0m \u001b[0mlen\u001b[0m\u001b[0;34m(\u001b[0m\u001b[0mright\u001b[0m\u001b[0;34m)\u001b[0m\u001b[0;34m:\u001b[0m\u001b[0;34m\u001b[0m\u001b[0;34m\u001b[0m\u001b[0m\n\u001b[1;32m    465\u001b[0m                 raise ValueError(\n\u001b[0;32m--> 466\u001b[0;31m                     \u001b[0mmsg\u001b[0m\u001b[0;34m.\u001b[0m\u001b[0mformat\u001b[0m\u001b[0;34m(\u001b[0m\u001b[0mreq_len\u001b[0m\u001b[0;34m=\u001b[0m\u001b[0mlen\u001b[0m\u001b[0;34m(\u001b[0m\u001b[0mleft\u001b[0m\u001b[0;34m.\u001b[0m\u001b[0mcolumns\u001b[0m\u001b[0;34m)\u001b[0m\u001b[0;34m,\u001b[0m \u001b[0mgiven_len\u001b[0m\u001b[0;34m=\u001b[0m\u001b[0mlen\u001b[0m\u001b[0;34m(\u001b[0m\u001b[0mright\u001b[0m\u001b[0;34m)\u001b[0m\u001b[0;34m)\u001b[0m\u001b[0;34m\u001b[0m\u001b[0;34m\u001b[0m\u001b[0m\n\u001b[0m\u001b[1;32m    467\u001b[0m                 )\n\u001b[1;32m    468\u001b[0m             \u001b[0mright\u001b[0m \u001b[0;34m=\u001b[0m \u001b[0mleft\u001b[0m\u001b[0;34m.\u001b[0m\u001b[0m_constructor_sliced\u001b[0m\u001b[0;34m(\u001b[0m\u001b[0mright\u001b[0m\u001b[0;34m,\u001b[0m \u001b[0mindex\u001b[0m\u001b[0;34m=\u001b[0m\u001b[0mleft\u001b[0m\u001b[0;34m.\u001b[0m\u001b[0mcolumns\u001b[0m\u001b[0;34m)\u001b[0m\u001b[0;34m\u001b[0m\u001b[0;34m\u001b[0m\u001b[0m\n",
            "\u001b[0;31mValueError\u001b[0m: Unable to coerce to Series, length must be 2: given 24"
          ]
        }
      ]
    },
    {
      "cell_type": "code",
      "metadata": {
        "id": "vfswBbQBzLBj"
      },
      "source": [
        "\r\n",
        "# Plot other Criteria (Distribution, Variance, Residual mean)\r\n",
        "# Residual mean and Distribution\r\n",
        "print(\"Residual mean: \",residual.iloc[:,0].mean())\r\n",
        "plt.hist(residual.iloc[:,0], bins=20)\r\n",
        "plt.title(\"Residual Distribution\")\r\n"
      ],
      "execution_count": null,
      "outputs": []
    },
    {
      "cell_type": "code",
      "metadata": {
        "id": "ckflnoS8zcIy"
      },
      "source": [
        "#Residual variance \r\n",
        "plt.plot(residual.iloc[:,0]) \r\n",
        "plt.title(\"Residual\") \r\n",
        "plt.hlines(y=0, xmin=0, xmax=len(residual), linestyles='dashed')\r\n"
      ],
      "execution_count": null,
      "outputs": []
    },
    {
      "cell_type": "code",
      "metadata": {
        "id": "8PVUp3YacrCj"
      },
      "source": [
        "# Split train and test sets in correspondence with Time series data\r\n",
        "def ts_train_test_split(X, y, test_size):\r\n",
        "    test_index = int(len(X)*(1-test_size))\r\n",
        "    \r\n",
        "    X_train = X.iloc[:test_index]\r\n",
        "    y_train = y.iloc[:test_index]\r\n",
        "    X_test = X.iloc[test_index:]\r\n",
        "    y_test = y.iloc[test_index:]\r\n",
        "    \r\n",
        "    return X_train, X_test, y_train, y_test"
      ],
      "execution_count": null,
      "outputs": []
    },
    {
      "cell_type": "code",
      "metadata": {
        "id": "sSXCwB6OBKyZ"
      },
      "source": [
        "def Croston(ts,extra_periods=1,alpha=0.7):\r\n",
        "    d = np.array(ts) # Transform the input into a numpy array\r\n",
        "    cols = len(d) # Historical period length\r\n",
        "    d = np.append(d,[np.nan]*extra_periods) # Append np.nan into the demand array to cover future periods\r\n",
        "    \r\n",
        "    #level (a), periodicity(p) and forecast (f)\r\n",
        "    a,p,f = np.full((3,cols+extra_periods),np.nan)\r\n",
        "    q = 1 #periods since last demand observation\r\n",
        "    \r\n",
        "    # Initialization\r\n",
        "    first_occurence = np.argmax(d[:cols]>0)\r\n",
        "    a[0] = d[first_occurence]\r\n",
        "    p[0] = 1 + first_occurence\r\n",
        "    f[0] = a[0]/p[0]\r\n",
        "# Create all the t+1 forecasts\r\n",
        "    for t in range(0,cols):        \r\n",
        "        if d[t] > 0:\r\n",
        "            a[t+1] = alpha*d[t] + (1-alpha)*a[t] \r\n",
        "            p[t+1] = alpha*q + (1-alpha)*p[t]\r\n",
        "            f[t+1] = a[t+1]/p[t+1]\r\n",
        "            q = 1           \r\n",
        "        else:\r\n",
        "            a[t+1] = a[t]\r\n",
        "            p[t+1] = p[t]\r\n",
        "            f[t+1] = f[t]\r\n",
        "            q += 1\r\n",
        "       \r\n",
        "    # Future Forecast \r\n",
        "    a[cols+1:cols+extra_periods] = a[cols]\r\n",
        "    p[cols+1:cols+extra_periods] = p[cols]\r\n",
        "    f[cols+1:cols+extra_periods] = f[cols]\r\n",
        "                      \r\n",
        "    df = pd.DataFrame.from_dict({\"Demand\":d,\"Forecast\":f,\"Period\":p,\"Level\":a,\"Error\":d-f})\r\n",
        "    return df\r\n",
        "def Croston_TSB(ts,extra_periods=1,alpha=0.4,beta=0.4):\r\n",
        "    d = np.array(ts) # Transform the input into a numpy array\r\n",
        "    cols = len(d) # Historical period length\r\n",
        "    d = np.append(d,[np.nan]*extra_periods) # Append np.nan into the demand array to cover future periods\r\n",
        "    \r\n",
        "    #level (a), probability(p) and forecast (f)\r\n",
        "    a,p,f = np.full((3,cols+extra_periods),np.nan)\r\n",
        "# Initialization\r\n",
        "    first_occurence = np.argmax(d[:cols]>0)\r\n",
        "    a[0] = d[first_occurence]\r\n",
        "    p[0] = 1/(1 + first_occurence)\r\n",
        "    f[0] = p[0]*a[0]\r\n",
        "                 \r\n",
        "    # Create all the t+1 forecasts\r\n",
        "    for t in range(0,cols): \r\n",
        "        if d[t] > 0:\r\n",
        "            a[t+1] = alpha*d[t] + (1-alpha)*a[t] \r\n",
        "            p[t+1] = beta*(1) + (1-beta)*p[t]  \r\n",
        "        else:\r\n",
        "            a[t+1] = a[t]\r\n",
        "            p[t+1] = (1-beta)*p[t]       \r\n",
        "        f[t+1] = p[t+1]*a[t+1]\r\n",
        "        \r\n",
        "    # Future Forecast\r\n",
        "    a[cols+1:cols+extra_periods] = a[cols]\r\n",
        "    p[cols+1:cols+extra_periods] = p[cols]\r\n",
        "    f[cols+1:cols+extra_periods] = f[cols]\r\n",
        "                      \r\n",
        "    df = pd.DataFrame.from_dict({\"Demand\":d,\"Forecast\":f,\"Period\":p,\"Level\":a,\"Error\":d-f})\r\n",
        "    return df\r\n",
        "def Croston1(ts,extra_periods=1,alpha=0.4):\r\n",
        "    d = np.array(ts) # Transform the input into a numpy array\r\n",
        "    cols = len(d) # Historical period length\r\n",
        "    d = np.append(d,[np.nan]*extra_periods) # Append np.nan into the demand array to cover future periods\r\n",
        "    \r\n",
        "    #level (a), periodicity(p) and forecast (f)\r\n",
        "    a,p,f = np.full((3,cols+extra_periods),np.nan)\r\n",
        "    q = 1 #periods since last demand observation\r\n",
        "    \r\n",
        "    # Initialization\r\n",
        "    first_occurence = np.argmax(d[:cols]>0)\r\n",
        "    a[0] = d[first_occurence]\r\n",
        "    p[0] = 1 + first_occurence\r\n",
        "    f[0] = a[0]/p[0]\r\n",
        "# Create all the t+1 forecasts\r\n",
        "    for t in range(0,cols):        \r\n",
        "        if d[t] > 0:\r\n",
        "            a[t+1] = alpha*d[t] + (1-alpha)*a[t] \r\n",
        "            p[t+1] = alpha*q + (1-alpha)*p[t]\r\n",
        "            f[t+1] = a[t+1]/p[t+1]\r\n",
        "            q = 1           \r\n",
        "        else:\r\n",
        "            a[t+1] = a[t]\r\n",
        "            p[t+1] = p[t]\r\n",
        "            f[t+1] = f[t]\r\n",
        "            q += 1\r\n",
        "       \r\n",
        "    # Future Forecast \r\n",
        "    a[cols+1:cols+extra_periods] = a[cols]\r\n",
        "    p[cols+1:cols+extra_periods] = p[cols]\r\n",
        "    f[cols+1:cols+extra_periods] = f[cols]\r\n",
        "                      \r\n",
        "    df = pd.DataFrame.from_dict({\"Demand\":d,\"Forecast\":f,\"Period\":p,\"Level\":a,\"Error\":d-f})\r\n",
        "    return df"
      ],
      "execution_count": null,
      "outputs": []
    },
    {
      "cell_type": "code",
      "metadata": {
        "colab": {
          "base_uri": "https://localhost:8080/",
          "height": 1000
        },
        "id": "6vl1UNmAB22T",
        "outputId": "ed4b170d-dcd9-4bb5-b981-f6eee9ffa782"
      },
      "source": [
        "Croston1(new_dataframe['y'],extra_periods=1,alpha=0.4)"
      ],
      "execution_count": null,
      "outputs": [
        {
          "output_type": "execute_result",
          "data": {
            "text/html": [
              "<div>\n",
              "<style scoped>\n",
              "    .dataframe tbody tr th:only-of-type {\n",
              "        vertical-align: middle;\n",
              "    }\n",
              "\n",
              "    .dataframe tbody tr th {\n",
              "        vertical-align: top;\n",
              "    }\n",
              "\n",
              "    .dataframe thead th {\n",
              "        text-align: right;\n",
              "    }\n",
              "</style>\n",
              "<table border=\"1\" class=\"dataframe\">\n",
              "  <thead>\n",
              "    <tr style=\"text-align: right;\">\n",
              "      <th></th>\n",
              "      <th>Demand</th>\n",
              "      <th>Forecast</th>\n",
              "      <th>Period</th>\n",
              "      <th>Level</th>\n",
              "      <th>Error</th>\n",
              "    </tr>\n",
              "  </thead>\n",
              "  <tbody>\n",
              "    <tr>\n",
              "      <th>0</th>\n",
              "      <td>-32.00000000</td>\n",
              "      <td>85.50000000</td>\n",
              "      <td>2.00000000</td>\n",
              "      <td>171.00000000</td>\n",
              "      <td>-117.50000000</td>\n",
              "    </tr>\n",
              "    <tr>\n",
              "      <th>1</th>\n",
              "      <td>171.00000000</td>\n",
              "      <td>85.50000000</td>\n",
              "      <td>2.00000000</td>\n",
              "      <td>171.00000000</td>\n",
              "      <td>85.50000000</td>\n",
              "    </tr>\n",
              "    <tr>\n",
              "      <th>2</th>\n",
              "      <td>8.00000000</td>\n",
              "      <td>85.50000000</td>\n",
              "      <td>2.00000000</td>\n",
              "      <td>171.00000000</td>\n",
              "      <td>-77.50000000</td>\n",
              "    </tr>\n",
              "    <tr>\n",
              "      <th>3</th>\n",
              "      <td>0.00000000</td>\n",
              "      <td>66.12500000</td>\n",
              "      <td>1.60000000</td>\n",
              "      <td>105.80000000</td>\n",
              "      <td>-66.12500000</td>\n",
              "    </tr>\n",
              "    <tr>\n",
              "      <th>4</th>\n",
              "      <td>41.00000000</td>\n",
              "      <td>66.12500000</td>\n",
              "      <td>1.60000000</td>\n",
              "      <td>105.80000000</td>\n",
              "      <td>-25.12500000</td>\n",
              "    </tr>\n",
              "    <tr>\n",
              "      <th>5</th>\n",
              "      <td>29.00000000</td>\n",
              "      <td>45.38636364</td>\n",
              "      <td>1.76000000</td>\n",
              "      <td>79.88000000</td>\n",
              "      <td>-16.38636364</td>\n",
              "    </tr>\n",
              "    <tr>\n",
              "      <th>6</th>\n",
              "      <td>265.00000000</td>\n",
              "      <td>40.88461538</td>\n",
              "      <td>1.45600000</td>\n",
              "      <td>59.52800000</td>\n",
              "      <td>224.11538462</td>\n",
              "    </tr>\n",
              "    <tr>\n",
              "      <th>7</th>\n",
              "      <td>111.00000000</td>\n",
              "      <td>111.27261307</td>\n",
              "      <td>1.27360000</td>\n",
              "      <td>141.71680000</td>\n",
              "      <td>-0.27261307</td>\n",
              "    </tr>\n",
              "    <tr>\n",
              "      <th>8</th>\n",
              "      <td>32.00000000</td>\n",
              "      <td>111.17894447</td>\n",
              "      <td>1.16416000</td>\n",
              "      <td>129.43008000</td>\n",
              "      <td>-79.17894447</td>\n",
              "    </tr>\n",
              "    <tr>\n",
              "      <th>9</th>\n",
              "      <td>72.00000000</td>\n",
              "      <td>82.34718014</td>\n",
              "      <td>1.09849600</td>\n",
              "      <td>90.45804800</td>\n",
              "      <td>-10.34718014</td>\n",
              "    </tr>\n",
              "    <tr>\n",
              "      <th>10</th>\n",
              "      <td>0.00000000</td>\n",
              "      <td>78.43925697</td>\n",
              "      <td>1.05909760</td>\n",
              "      <td>83.07482880</td>\n",
              "      <td>-78.43925697</td>\n",
              "    </tr>\n",
              "    <tr>\n",
              "      <th>11</th>\n",
              "      <td>0.00000000</td>\n",
              "      <td>78.43925697</td>\n",
              "      <td>1.05909760</td>\n",
              "      <td>83.07482880</td>\n",
              "      <td>-78.43925697</td>\n",
              "    </tr>\n",
              "    <tr>\n",
              "      <th>12</th>\n",
              "      <td>80.00000000</td>\n",
              "      <td>78.43925697</td>\n",
              "      <td>1.05909760</td>\n",
              "      <td>83.07482880</td>\n",
              "      <td>1.56074303</td>\n",
              "    </tr>\n",
              "    <tr>\n",
              "      <th>13</th>\n",
              "      <td>2.00000000</td>\n",
              "      <td>44.59098073</td>\n",
              "      <td>1.83545856</td>\n",
              "      <td>81.84489728</td>\n",
              "      <td>-42.59098073</td>\n",
              "    </tr>\n",
              "    <tr>\n",
              "      <th>14</th>\n",
              "      <td>79.00000000</td>\n",
              "      <td>33.24303265</td>\n",
              "      <td>1.50127514</td>\n",
              "      <td>49.90693837</td>\n",
              "      <td>45.75696735</td>\n",
              "    </tr>\n",
              "    <tr>\n",
              "      <th>15</th>\n",
              "      <td>1.00000000</td>\n",
              "      <td>47.31381853</td>\n",
              "      <td>1.30076508</td>\n",
              "      <td>61.54416302</td>\n",
              "      <td>-46.31381853</td>\n",
              "    </tr>\n",
              "    <tr>\n",
              "      <th>16</th>\n",
              "      <td>25.00000000</td>\n",
              "      <td>31.62032418</td>\n",
              "      <td>1.18045905</td>\n",
              "      <td>37.32649781</td>\n",
              "      <td>-6.62032418</td>\n",
              "    </tr>\n",
              "    <tr>\n",
              "      <th>17</th>\n",
              "      <td>12.00000000</td>\n",
              "      <td>29.23090942</td>\n",
              "      <td>1.10827543</td>\n",
              "      <td>32.39589869</td>\n",
              "      <td>-17.23090942</td>\n",
              "    </tr>\n",
              "    <tr>\n",
              "      <th>18</th>\n",
              "      <td>50.00000000</td>\n",
              "      <td>22.75899522</td>\n",
              "      <td>1.06496526</td>\n",
              "      <td>24.23753921</td>\n",
              "      <td>27.24100478</td>\n",
              "    </tr>\n",
              "    <tr>\n",
              "      <th>19</th>\n",
              "      <td>0.00000000</td>\n",
              "      <td>33.24659920</td>\n",
              "      <td>1.03897915</td>\n",
              "      <td>34.54252353</td>\n",
              "      <td>-33.24659920</td>\n",
              "    </tr>\n",
              "    <tr>\n",
              "      <th>20</th>\n",
              "      <td>15.00000000</td>\n",
              "      <td>33.24659920</td>\n",
              "      <td>1.03897915</td>\n",
              "      <td>34.54252353</td>\n",
              "      <td>-18.24659920</td>\n",
              "    </tr>\n",
              "    <tr>\n",
              "      <th>21</th>\n",
              "      <td>0.00000000</td>\n",
              "      <td>18.77599336</td>\n",
              "      <td>1.42338749</td>\n",
              "      <td>26.72551412</td>\n",
              "      <td>-18.77599336</td>\n",
              "    </tr>\n",
              "    <tr>\n",
              "      <th>22</th>\n",
              "      <td>88.00000000</td>\n",
              "      <td>18.77599336</td>\n",
              "      <td>1.42338749</td>\n",
              "      <td>26.72551412</td>\n",
              "      <td>69.22400664</td>\n",
              "    </tr>\n",
              "    <tr>\n",
              "      <th>23</th>\n",
              "      <td>0.00000000</td>\n",
              "      <td>30.97599872</td>\n",
              "      <td>1.65403250</td>\n",
              "      <td>51.23530847</td>\n",
              "      <td>-30.97599872</td>\n",
              "    </tr>\n",
              "    <tr>\n",
              "      <th>24</th>\n",
              "      <td>0.00000000</td>\n",
              "      <td>30.97599872</td>\n",
              "      <td>1.65403250</td>\n",
              "      <td>51.23530847</td>\n",
              "      <td>-30.97599872</td>\n",
              "    </tr>\n",
              "    <tr>\n",
              "      <th>25</th>\n",
              "      <td>0.00000000</td>\n",
              "      <td>30.97599872</td>\n",
              "      <td>1.65403250</td>\n",
              "      <td>51.23530847</td>\n",
              "      <td>-30.97599872</td>\n",
              "    </tr>\n",
              "    <tr>\n",
              "      <th>26</th>\n",
              "      <td>5.00000000</td>\n",
              "      <td>30.97599872</td>\n",
              "      <td>1.65403250</td>\n",
              "      <td>51.23530847</td>\n",
              "      <td>-25.97599872</td>\n",
              "    </tr>\n",
              "    <tr>\n",
              "      <th>27</th>\n",
              "      <td>0.00000000</td>\n",
              "      <td>12.62958604</td>\n",
              "      <td>2.59241950</td>\n",
              "      <td>32.74118508</td>\n",
              "      <td>-12.62958604</td>\n",
              "    </tr>\n",
              "    <tr>\n",
              "      <th>28</th>\n",
              "      <td>0.00000000</td>\n",
              "      <td>12.62958604</td>\n",
              "      <td>2.59241950</td>\n",
              "      <td>32.74118508</td>\n",
              "      <td>-12.62958604</td>\n",
              "    </tr>\n",
              "    <tr>\n",
              "      <th>29</th>\n",
              "      <td>12.00000000</td>\n",
              "      <td>12.62958604</td>\n",
              "      <td>2.59241950</td>\n",
              "      <td>32.74118508</td>\n",
              "      <td>-0.62958604</td>\n",
              "    </tr>\n",
              "    <tr>\n",
              "      <th>30</th>\n",
              "      <td>70.00000000</td>\n",
              "      <td>8.87139886</td>\n",
              "      <td>2.75545170</td>\n",
              "      <td>24.44471105</td>\n",
              "      <td>61.12860114</td>\n",
              "    </tr>\n",
              "    <tr>\n",
              "      <th>31</th>\n",
              "      <td>0.00000000</td>\n",
              "      <td>20.77992931</td>\n",
              "      <td>2.05327102</td>\n",
              "      <td>42.66682663</td>\n",
              "      <td>-20.77992931</td>\n",
              "    </tr>\n",
              "    <tr>\n",
              "      <th>32</th>\n",
              "      <td>0.00000000</td>\n",
              "      <td>20.77992931</td>\n",
              "      <td>2.05327102</td>\n",
              "      <td>42.66682663</td>\n",
              "      <td>-20.77992931</td>\n",
              "    </tr>\n",
              "    <tr>\n",
              "      <th>33</th>\n",
              "      <td>0.00000000</td>\n",
              "      <td>20.77992931</td>\n",
              "      <td>2.05327102</td>\n",
              "      <td>42.66682663</td>\n",
              "      <td>-20.77992931</td>\n",
              "    </tr>\n",
              "    <tr>\n",
              "      <th>34</th>\n",
              "      <td>3.00000000</td>\n",
              "      <td>20.77992931</td>\n",
              "      <td>2.05327102</td>\n",
              "      <td>42.66682663</td>\n",
              "      <td>-17.77992931</td>\n",
              "    </tr>\n",
              "    <tr>\n",
              "      <th>35</th>\n",
              "      <td>0.00000000</td>\n",
              "      <td>9.46343566</td>\n",
              "      <td>2.83196261</td>\n",
              "      <td>26.80009598</td>\n",
              "      <td>-9.46343566</td>\n",
              "    </tr>\n",
              "    <tr>\n",
              "      <th>36</th>\n",
              "      <td>2.00000000</td>\n",
              "      <td>9.46343566</td>\n",
              "      <td>2.83196261</td>\n",
              "      <td>26.80009598</td>\n",
              "      <td>-7.46343566</td>\n",
              "    </tr>\n",
              "    <tr>\n",
              "      <th>37</th>\n",
              "      <td>nan</td>\n",
              "      <td>6.75424500</td>\n",
              "      <td>2.49917757</td>\n",
              "      <td>16.88005759</td>\n",
              "      <td>nan</td>\n",
              "    </tr>\n",
              "  </tbody>\n",
              "</table>\n",
              "</div>"
            ],
            "text/plain": [
              "         Demand     Forecast     Period        Level         Error\n",
              "0  -32.00000000  85.50000000 2.00000000 171.00000000 -117.50000000\n",
              "1  171.00000000  85.50000000 2.00000000 171.00000000   85.50000000\n",
              "2    8.00000000  85.50000000 2.00000000 171.00000000  -77.50000000\n",
              "3    0.00000000  66.12500000 1.60000000 105.80000000  -66.12500000\n",
              "4   41.00000000  66.12500000 1.60000000 105.80000000  -25.12500000\n",
              "5   29.00000000  45.38636364 1.76000000  79.88000000  -16.38636364\n",
              "6  265.00000000  40.88461538 1.45600000  59.52800000  224.11538462\n",
              "7  111.00000000 111.27261307 1.27360000 141.71680000   -0.27261307\n",
              "8   32.00000000 111.17894447 1.16416000 129.43008000  -79.17894447\n",
              "9   72.00000000  82.34718014 1.09849600  90.45804800  -10.34718014\n",
              "10   0.00000000  78.43925697 1.05909760  83.07482880  -78.43925697\n",
              "11   0.00000000  78.43925697 1.05909760  83.07482880  -78.43925697\n",
              "12  80.00000000  78.43925697 1.05909760  83.07482880    1.56074303\n",
              "13   2.00000000  44.59098073 1.83545856  81.84489728  -42.59098073\n",
              "14  79.00000000  33.24303265 1.50127514  49.90693837   45.75696735\n",
              "15   1.00000000  47.31381853 1.30076508  61.54416302  -46.31381853\n",
              "16  25.00000000  31.62032418 1.18045905  37.32649781   -6.62032418\n",
              "17  12.00000000  29.23090942 1.10827543  32.39589869  -17.23090942\n",
              "18  50.00000000  22.75899522 1.06496526  24.23753921   27.24100478\n",
              "19   0.00000000  33.24659920 1.03897915  34.54252353  -33.24659920\n",
              "20  15.00000000  33.24659920 1.03897915  34.54252353  -18.24659920\n",
              "21   0.00000000  18.77599336 1.42338749  26.72551412  -18.77599336\n",
              "22  88.00000000  18.77599336 1.42338749  26.72551412   69.22400664\n",
              "23   0.00000000  30.97599872 1.65403250  51.23530847  -30.97599872\n",
              "24   0.00000000  30.97599872 1.65403250  51.23530847  -30.97599872\n",
              "25   0.00000000  30.97599872 1.65403250  51.23530847  -30.97599872\n",
              "26   5.00000000  30.97599872 1.65403250  51.23530847  -25.97599872\n",
              "27   0.00000000  12.62958604 2.59241950  32.74118508  -12.62958604\n",
              "28   0.00000000  12.62958604 2.59241950  32.74118508  -12.62958604\n",
              "29  12.00000000  12.62958604 2.59241950  32.74118508   -0.62958604\n",
              "30  70.00000000   8.87139886 2.75545170  24.44471105   61.12860114\n",
              "31   0.00000000  20.77992931 2.05327102  42.66682663  -20.77992931\n",
              "32   0.00000000  20.77992931 2.05327102  42.66682663  -20.77992931\n",
              "33   0.00000000  20.77992931 2.05327102  42.66682663  -20.77992931\n",
              "34   3.00000000  20.77992931 2.05327102  42.66682663  -17.77992931\n",
              "35   0.00000000   9.46343566 2.83196261  26.80009598   -9.46343566\n",
              "36   2.00000000   9.46343566 2.83196261  26.80009598   -7.46343566\n",
              "37          nan   6.75424500 2.49917757  16.88005759           nan"
            ]
          },
          "metadata": {
            "tags": []
          },
          "execution_count": 302
        }
      ]
    },
    {
      "cell_type": "code",
      "metadata": {
        "colab": {
          "base_uri": "https://localhost:8080/",
          "height": 295
        },
        "id": "XheZBOd_J6Re",
        "outputId": "3f5d6fed-1c3a-428a-c8ae-6f4fa37b161c"
      },
      "source": [
        "# grid search ets models for daily female births\r\n",
        "from math import sqrt\r\n",
        "from multiprocessing import cpu_count\r\n",
        "from joblib import Parallel\r\n",
        "from joblib import delayed\r\n",
        "from warnings import catch_warnings\r\n",
        "from warnings import filterwarnings\r\n",
        "from statsmodels.tsa.holtwinters import ExponentialSmoothing\r\n",
        "from sklearn.metrics import mean_squared_error\r\n",
        "from pandas import read_csv\r\n",
        "from numpy import array\r\n",
        "\r\n",
        "# one-step Holt Winter’s Exponential Smoothing forecast\r\n",
        "def exp_smoothing_forecast(history, config):\r\n",
        "\tt,d,s,p,b,r = config\r\n",
        "\t# define model\r\n",
        "\thistory = array(history)\r\n",
        "\tmodel = ExponentialSmoothing(history, trend=t, damped=d, seasonal=s, seasonal_periods=p)\r\n",
        "\t# fit model\r\n",
        "\tmodel_fit = model.fit(optimized=True, use_boxcox=b, remove_bias=r)\r\n",
        "\t# make one step forecast\r\n",
        "\tyhat = model_fit.predict(len(history), len(history))\r\n",
        "\treturn yhat[0]\r\n",
        "\r\n",
        "# root mean squared error or rmse\r\n",
        "def measure_rmse(actual, predicted):\r\n",
        "\treturn sqrt(mean_squared_error(actual, predicted))\r\n",
        "\r\n",
        "# split a univariate dataset into train/test sets\r\n",
        "def train_test_split(data, n_test):\r\n",
        "\treturn data[:-n_test], data[-n_test:]\r\n",
        "\r\n",
        "# walk-forward validation for univariate data\r\n",
        "def walk_forward_validation(data, n_test, cfg):\r\n",
        "\tpredictions = list()\r\n",
        "\t# split dataset\r\n",
        "\ttrain, test = train_test_split(data, n_test)\r\n",
        "\t# seed history with training dataset\r\n",
        "\thistory = [x for x in train]\r\n",
        "\t# step over each time-step in the test set\r\n",
        "\tfor i in range(len(test)):\r\n",
        "\t\t# fit model and make forecast for history\r\n",
        "\t\tyhat = exp_smoothing_forecast(history, cfg)\r\n",
        "\t\t# store forecast in list of predictions\r\n",
        "\t\tpredictions.append(yhat)\r\n",
        "\t\t# add actual observation to history for the next loop\r\n",
        "\t\thistory.append(test[i])\r\n",
        "\t# estimate prediction error\r\n",
        "\terror = measure_rmse(test, predictions)\r\n",
        "\treturn error\r\n",
        "\r\n",
        "# score a model, return None on failure\r\n",
        "def score_model(data, n_test, cfg, debug=False):\r\n",
        "\tresult = None\r\n",
        "\t# convert config to a key\r\n",
        "\tkey = str(cfg)\r\n",
        "\t# show all warnings and fail on exception if debugging\r\n",
        "\tif debug:\r\n",
        "\t\tresult = walk_forward_validation(data, n_test, cfg)\r\n",
        "\telse:\r\n",
        "\t\t# one failure during model validation suggests an unstable config\r\n",
        "\t\ttry:\r\n",
        "\t\t\t# never show warnings when grid searching, too noisy\r\n",
        "\t\t\twith catch_warnings():\r\n",
        "\t\t\t\tfilterwarnings(\"ignore\")\r\n",
        "\t\t\t\tresult = walk_forward_validation(data, n_test, cfg)\r\n",
        "\t\texcept:\r\n",
        "\t\t\terror = None\r\n",
        "\t# check for an interesting result\r\n",
        "\tif result is not None:\r\n",
        "\t\tprint(' > Model[%s] %.3f' % (key, result))\r\n",
        "\treturn (key, result)\r\n",
        "\r\n",
        "# grid search configs\r\n",
        "def grid_search(data, cfg_list, n_test, parallel=True):\r\n",
        "\tscores = None\r\n",
        "\tif parallel:\r\n",
        "\t\t# execute configs in parallel\r\n",
        "\t\texecutor = Parallel(n_jobs=cpu_count(), backend='multiprocessing')\r\n",
        "\t\ttasks = (delayed(score_model)(data, n_test, cfg) for cfg in cfg_list)\r\n",
        "\t\tscores = executor(tasks)\r\n",
        "\telse:\r\n",
        "\t\tscores = [score_model(data, n_test, cfg) for cfg in cfg_list]\r\n",
        "\t# remove empty results\r\n",
        "\tscores = [r for r in scores if r[1] != None]\r\n",
        "\t# sort configs by error, asc\r\n",
        "\tscores.sort(key=lambda tup: tup[1])\r\n",
        "\treturn scores\r\n",
        "\r\n",
        "# create a set of exponential smoothing configs to try\r\n",
        "def exp_smoothing_configs(seasonal=[None]):\r\n",
        "\tmodels = list()\r\n",
        "\t# define config lists\r\n",
        "\tt_params = ['add', 'mul', None]\r\n",
        "\td_params = [True, False]\r\n",
        "\ts_params = ['add', 'mul', None]\r\n",
        "\tp_params = seasonal\r\n",
        "\tb_params = [True, False]\r\n",
        "\tr_params = [True, False]\r\n",
        "\t# create config instances\r\n",
        "\tfor t in t_params:\r\n",
        "\t\tfor d in d_params:\r\n",
        "\t\t\tfor s in s_params:\r\n",
        "\t\t\t\tfor p in p_params:\r\n",
        "\t\t\t\t\tfor b in b_params:\r\n",
        "\t\t\t\t\t\tfor r in r_params:\r\n",
        "\t\t\t\t\t\t\tcfg = [t,d,s,p,b,r]\r\n",
        "\t\t\t\t\t\t\tmodels.append(cfg)\r\n",
        "\treturn models\r\n",
        "\r\n",
        "if __name__ == '__main__':\r\n",
        "\t# load dataset\r\n",
        "\tseries = new_dataframe\r\n",
        "\tdata = series.values\r\n",
        "\t# data split\r\n",
        "\tn_test = 165\r\n",
        "\t# model configs\r\n",
        "\tcfg_list = exp_smoothing_configs()\r\n",
        "\t# grid search\r\n",
        "\tscores = grid_search(data[:,0], cfg_list, n_test)\r\n",
        "\tprint('done')\r\n",
        "\t# list top 3 configs\r\n",
        "\tfor cfg, error in scores[:3]:\r\n",
        "\t\tprint(cfg, error)"
      ],
      "execution_count": 1,
      "outputs": [
        {
          "output_type": "stream",
          "text": [
            "/usr/local/lib/python3.6/dist-packages/statsmodels/tools/_testing.py:19: FutureWarning: pandas.util.testing is deprecated. Use the functions in the public API at pandas.testing instead.\n",
            "  import pandas.util.testing as tm\n"
          ],
          "name": "stderr"
        },
        {
          "output_type": "error",
          "ename": "NameError",
          "evalue": "ignored",
          "traceback": [
            "\u001b[0;31m---------------------------------------------------------------------------\u001b[0m",
            "\u001b[0;31mNameError\u001b[0m                                 Traceback (most recent call last)",
            "\u001b[0;32m<ipython-input-1-a7de6ff874e4>\u001b[0m in \u001b[0;36m<module>\u001b[0;34m()\u001b[0m\n\u001b[1;32m    111\u001b[0m \u001b[0;32mif\u001b[0m \u001b[0m__name__\u001b[0m \u001b[0;34m==\u001b[0m \u001b[0;34m'__main__'\u001b[0m\u001b[0;34m:\u001b[0m\u001b[0;34m\u001b[0m\u001b[0;34m\u001b[0m\u001b[0m\n\u001b[1;32m    112\u001b[0m         \u001b[0;31m# load dataset\u001b[0m\u001b[0;34m\u001b[0m\u001b[0;34m\u001b[0m\u001b[0;34m\u001b[0m\u001b[0m\n\u001b[0;32m--> 113\u001b[0;31m         \u001b[0mseries\u001b[0m \u001b[0;34m=\u001b[0m \u001b[0mnew_dataframe\u001b[0m\u001b[0;34m\u001b[0m\u001b[0;34m\u001b[0m\u001b[0m\n\u001b[0m\u001b[1;32m    114\u001b[0m         \u001b[0mdata\u001b[0m \u001b[0;34m=\u001b[0m \u001b[0mseries\u001b[0m\u001b[0;34m.\u001b[0m\u001b[0mvalues\u001b[0m\u001b[0;34m\u001b[0m\u001b[0;34m\u001b[0m\u001b[0m\n\u001b[1;32m    115\u001b[0m         \u001b[0;31m# data split\u001b[0m\u001b[0;34m\u001b[0m\u001b[0;34m\u001b[0m\u001b[0;34m\u001b[0m\u001b[0m\n",
            "\u001b[0;31mNameError\u001b[0m: name 'new_dataframe' is not defined"
          ]
        }
      ]
    },
    {
      "cell_type": "code",
      "metadata": {
        "id": "F-L20ktpKCmY"
      },
      "source": [
        ""
      ],
      "execution_count": null,
      "outputs": []
    }
  ]
}